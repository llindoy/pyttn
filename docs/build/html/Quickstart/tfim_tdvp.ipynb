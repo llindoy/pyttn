{
 "cells": [
  {
   "cell_type": "markdown",
   "metadata": {},
   "source": [
    "# Quench Dynamics: 1D Transverse Field Ising Model"
   ]
  },
  {
   "cell_type": "markdown",
   "metadata": {},
   "source": [
    "In this quickstart guide, we apply pyTTN to evaluate the quench dynamics of the 1D Transverse Field Ising model using a matrix product state representation for the wavefunction.  We consider the Hamiltonian\n",
    "\n",
    "$$ \\hat{H} = -J \\displaystyle\\sum_{j=1}^{N-1} \\hat{\\sigma}^z_j \\hat{\\sigma}^z_{j+1} + h \\displaystyle\\sum_j^N \\hat{\\sigma}^x_j$$\n",
    "\n",
    "Here we will consider the case where $J=1$, and consider a quench of the ground state prepared with $h=0.5$ following an instantaneous change of the applied field to $h=2$, and with $N=64$ spins.  For further details on the preparation of the ground state, see the [tutorial on DMRG for the 1D Transverse field Ising model](file/../dmrg_TFIM.ipynb)."
   ]
  },
  {
   "cell_type": "markdown",
   "metadata": {},
   "source": [
    "### Contents"
   ]
  },
  {
   "cell_type": "markdown",
   "metadata": {},
   "source": [
    "\n",
    "1. [Importing the Package](#importing-the-package)\n",
    "\n",
    "2. [Setting up the System and Hamiltonian](#setting-up-the-system-and-hamiltonian)\n",
    "\n",
    "3. [Preparing the Initial Wavefunction](#preparing-the-initial-wavefunction)\n",
    "\n",
    "4. [Preparing the sop_operator Representation of the Hamiltonian](#preparing-the-sop_operator-hamiltonian)\n",
    "\n",
    "5. [Preparing the the Ground State Wavefunction](#preparing-the-ground-state-wavefunction)\n",
    "\n",
    "6. [Running the Quench Dynamics](#running-the-quench-dynamics)\n"
   ]
  },
  {
   "cell_type": "markdown",
   "metadata": {},
   "source": [
    "### Importing the Package"
   ]
  },
  {
   "cell_type": "markdown",
   "metadata": {},
   "source": [
    "We start by importing the required modules for this example"
   ]
  },
  {
   "cell_type": "code",
   "execution_count": 33,
   "metadata": {},
   "outputs": [],
   "source": [
    "import os\n",
    "os.environ['OMP_NUM_THREADS']='1'\n",
    "\n",
    "import numpy as np\n",
    "import matplotlib.pyplot as plt \n",
    "%matplotlib inline\n",
    "\n",
    "import pyttn\n",
    "from pyttn.utils import visualise_tree"
   ]
  },
  {
   "cell_type": "markdown",
   "metadata": {},
   "source": [
    "### Setting up the System and Hamiltonian\n",
    "\n",
    "We start by setting up the `system_modes` object that tells pyTTN the type of operators to expect, and local Hilbert space dimension associated with each mode.  For the case of the $N=64$ spin-$\\frac{1}{2}$ system we are considering here.  This is done as follows:"
   ]
  },
  {
   "cell_type": "code",
   "execution_count": 34,
   "metadata": {},
   "outputs": [],
   "source": [
    "# Define number of modes\n",
    "N = 64\n",
    "\n",
    "# Initialise system information variable as a set of N modes\n",
    "sysinf = pyttn.system_modes(N)\n",
    "\n",
    "# Specify that each mode is a two level system\n",
    "for i in range(N):\n",
    "    sysinf[i] = pyttn.tls_mode()"
   ]
  },
  {
   "cell_type": "markdown",
   "metadata": {},
   "source": [
    "We now prepare the system Hamiltonian for both ground state preparation and the quench dynamics through the use of the `SOP` class.  This makes use of a string representation of the Hamiltonian, that is later converted into a form necessary for performing calculations.  For more details on the generation of operators see the [tutorial on operator generation](file/../operator_generation.ipynb)."
   ]
  },
  {
   "cell_type": "code",
   "execution_count": 35,
   "metadata": {},
   "outputs": [],
   "source": [
    "J = 1.0\n",
    "h0 = 0.5\n",
    "h = 2.0\n",
    "\n",
    "#set up the system Hamiltonian\n",
    "H0 = pyttn.SOP(N)\n",
    "H = pyttn.SOP(N)\n",
    "\n",
    "#add on the onsite transversal fields\n",
    "for i in range(N):\n",
    "    H0 += h0*pyttn.sOP(\"sx\", i)\n",
    "    H += h*pyttn.sOP(\"sx\", i)\n",
    "\n",
    "#now add on the zz interactions\n",
    "for i in range(N-1):\n",
    "    H0 += -J*pyttn.sOP(\"sz\", i)*pyttn.sOP(\"sz\", i+1)\n",
    "    H += -J*pyttn.sOP(\"sz\", i)*pyttn.sOP(\"sz\", i+1)"
   ]
  },
  {
   "cell_type": "markdown",
   "metadata": {},
   "source": [
    "### Preparing the Initial Wavefunction"
   ]
  },
  {
   "cell_type": "markdown",
   "metadata": {},
   "source": [
    "We now prepare the initial wavefunction.  This requires a two-step process, first we define the tree topology to use for this calculation through the use of the `ntree` class (which for this example we choose to be an MPS), following which we construct the `ttn` object that actually represents the wavefunction.  In this example we intend to use a subspace expansion based in order to expand bond dimension throughout the TDVP loop.  In order to do this, we define an additional `ntree` object with the same structure but different values defining the maximum allowed dimension of any bond in the network.  For more details one the construct of tree topologies see the [tutorial on tree topologies](file/../tree_topologies.ipynb). \n"
   ]
  },
  {
   "cell_type": "code",
   "execution_count": 36,
   "metadata": {},
   "outputs": [],
   "source": [
    "# Initial bond dimension\n",
    "chi = 4\n",
    "\n",
    "#maximum bond dimension\n",
    "chi_max = 128\n",
    "\n",
    "# Vector of dimensions of the local Hilbert space in the physical nodes\n",
    "dims = sysinf.mode_dimensions()\n",
    "\n",
    "#now construct an ntree object storing the MPS topology using the ntreeBuilder class\n",
    "topo = pyttn.ntreeBuilder.mps_tree(dims, chi)\n",
    "capacity = pyttn.ntreeBuilder.mps_tree(dims, chi_max)\n",
    "\n",
    "#now allocate the wavefunction object.  And allocate it so that each tensor is filled with random values\n",
    "A = pyttn.ttn(topo, capacity, dtype=np.complex128)\n",
    "A.random()"
   ]
  },
  {
   "cell_type": "markdown",
   "metadata": {},
   "source": [
    "When creating the `ttn` object, tensors will be constructed with the sizes defined in `topo` but with enough space allocated to store the tensors defined in `capacity`.  "
   ]
  },
  {
   "cell_type": "markdown",
   "metadata": {},
   "source": [
    "### Preparing the `sop_operator` Hamiltonian"
   ]
  },
  {
   "cell_type": "markdown",
   "metadata": {},
   "source": [
    "Now before we are ready to set up and perform the DMRG and TDVP loops, we first need to convert the Hamiltonian into a form that can be used to efficiently within the DMRG and TDVP algorithms.  Further details on this step are provided in the [tutorial on DMRG for the 1D Transverse field Ising model](file/../dmrg_TFIM.ipynb)."
   ]
  },
  {
   "cell_type": "code",
   "execution_count": 37,
   "metadata": {},
   "outputs": [],
   "source": [
    "h0 = pyttn.sop_operator(H0, A, sysinf, compress=True)\n",
    "h = pyttn.sop_operator(H, A, sysinf, compress=True)"
   ]
  },
  {
   "cell_type": "markdown",
   "metadata": {},
   "source": [
    "### Preparing the Ground State Wavefunction"
   ]
  },
  {
   "cell_type": "markdown",
   "metadata": {},
   "source": [
    "Now we can have everything we need to set up all of the objects required to perform the DMRG loop.  Here we set up DMRG with the use of subspace expansion to expand bond dimensions throughout the update steps, and perform $10$ DMRG steps to obtain an initial wavefunction."
   ]
  },
  {
   "cell_type": "code",
   "execution_count": 38,
   "metadata": {},
   "outputs": [],
   "source": [
    "#set up the DMRG sweeping object to \n",
    "sweep = pyttn.dmrg(A, h0, krylov_dim = 4, expansion='subspace', subspace_krylov_dim=12, subspace_neigs=6)\n",
    "\n",
    "#set up the subspace expansion parameters.  Here we expand bond dimension whenever a term in the \n",
    "#two-site energy variance (that is not captured within the single-site spaces) has singular value > 1e-5, \n",
    "#and do not use natural populations to determine whether to spawn additional basis functions.\n",
    "sweep.spawning_threshold = 1e-10\n",
    "sweep.minimum_unoccupied=0\n",
    "\n",
    "for i in range(10):\n",
    "    #perform the DMRG step\n",
    "    sweep(A, h0)"
   ]
  },
  {
   "cell_type": "markdown",
   "metadata": {},
   "source": [
    "### Running the Quench Dynamics"
   ]
  },
  {
   "cell_type": "markdown",
   "metadata": {},
   "source": [
    "Now that we have prepared the initial state, we are ready to set everything up to perform the Quench Dynamics and evaluate observables of interest.  Here we will monitor the magnetisation dynamics of the system following the Quench and so need to set up a sum-of-product operator for evaluating this expectation value."
   ]
  },
  {
   "cell_type": "code",
   "execution_count": null,
   "metadata": {},
   "outputs": [],
   "source": [
    "#set up the time evolution parameters\n",
    "dt = 0.025\n",
    "tmax = 10\n",
    "nstep = int(tmax/dt)+1\n",
    "\n",
    "#array for storing the values of the observables\n",
    "O = np.zeros(nstep+1)\n",
    "\n",
    "#set up the observable to measure\n",
    "Os = pyttn.SOP(N)\n",
    "for i in range(N):\n",
    "    Os += pyttn.sOP(\"sz\", i)\n",
    "op = pyttn.sop_operator(Os, A, sysinf, compress=True)\n",
    "\n",
    "#construct matrix_element object need for evaluating observables\n",
    "mel = pyttn.matrix_element(A)\n",
    "\n",
    "#set up the TDVP sweeping object to \n",
    "sweep = pyttn.tdvp(A, h, krylov_dim = 12, expansion='subspace', subspace_krylov_dim=12, subspace_neigs=6)\n",
    "\n",
    "#set up the subspace expansion parameters.  Here we expand bond dimension whenever a term in the \n",
    "#two-site energy variance (that is not captured within the single-site spaces) has singular value > 1e-5, \n",
    "#and do not use natural populations to determine whether to spawn additional basis functions.\n",
    "sweep.spawning_threshold = 1e-7\n",
    "sweep.minimum_unoccupied=0\n",
    "sweep.dt = dt\n",
    "sweep.coefficient = -1.0j"
   ]
  },
  {
   "cell_type": "markdown",
   "metadata": {},
   "source": [
    "Now that everything has been set up,  we can perform the actual time evolution.  "
   ]
  },
  {
   "cell_type": "code",
   "execution_count": null,
   "metadata": {},
   "outputs": [
    {
     "name": "stdout",
     "output_type": "stream",
     "text": [
      "313 128                                 \r"
     ]
    }
   ],
   "source": [
    "O[0] = np.real(mel(op, A)/N)\n",
    "\n",
    "for i in range(nstep):\n",
    "    #perform the TDVP step\n",
    "    sweep(A, h)\n",
    "\n",
    "    #and print out the energy of the A tensor for the sweep\n",
    "    print(i+1, A.maximum_bond_dimension(), end='                                 \\r')\n",
    "    O[i+1] = np.real(mel(op, A)/N)"
   ]
  },
  {
   "cell_type": "markdown",
   "metadata": {},
   "source": [
    "And now that we have the result we can plot it:"
   ]
  },
  {
   "cell_type": "code",
   "execution_count": null,
   "metadata": {},
   "outputs": [
    {
     "data": {
      "image/png": "[encoded data removed]",
      "text/plain": [
       "<Figure size 640x480 with 1 Axes>"
      ]
     },
     "metadata": {},
     "output_type": "display_data"
    }
   ],
   "source": [
    "t = np.arange(nstep+1)*dt\n",
    "plt.plot(t, O)\n",
    "plt.show()"
   ]
  },
  {
   "cell_type": "markdown",
   "metadata": {},
   "source": [
    "Now finally, we will visualise what the subspace expansion scheme has done to the bond dimension of the TTN, using the `visualise_tree` function.\n"
   ]
  },
  {
   "cell_type": "code",
   "execution_count": null,
   "metadata": {},
   "outputs": [
    {
     "data": {
      "image/png": "[encoded data removed]",
      "text/plain": [
       "<Figure size 640x480 with 1 Axes>"
      ]
     },
     "metadata": {},
     "output_type": "display_data"
    }
   ],
   "source": [
    "visualise_tree(A, bond_prop=\"bond dimension\", node_size=0)\n",
    "plt.show()"
   ]
  }
 ],
 "metadata": {
  "kernelspec": {
   "display_name": ".venv",
   "language": "python",
   "name": "python3"
  },
  "language_info": {
   "codemirror_mode": {
    "name": "ipython",
    "version": 3
   },
   "file_extension": ".py",
   "mimetype": "text/x-python",
   "name": "python",
   "nbconvert_exporter": "python",
   "pygments_lexer": "ipython3",
   "version": "3.12.3"
  }
 },
 "nbformat": 4,
 "nbformat_minor": 2
}
