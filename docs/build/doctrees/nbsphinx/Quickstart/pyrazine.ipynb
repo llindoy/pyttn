{
 "cells": [
  {
   "cell_type": "markdown",
   "metadata": {},
   "source": [
    "# Nonadiabatic Dynamics of 24-mode Pyrazine"
   ]
  },
  {
   "cell_type": "markdown",
   "metadata": {},
   "source": [
    "In this quickstart guide, we apply pyTTN to evaluate the non-adiabatic dynamics of the 24-mode pyrazine model following excitation to the $S_2$ elecronic state.  This model is a standard benchmark model for software aimed at simulating quantum dynamics of molecular systems.  Here we make use of the standard quadratic vibronic Hamiltonian presented in [A. Raab, G. A. Worth, H.-D. Meyer, L. S. Cederbaum, J. Chem. Phys. 110, 936–946 (1999)](https://doi.org/10.1063/1.478061).\n",
    "\n",
    "$$ \n",
    "\\begin{split}\n",
    "\\hat{H} &= \\sum_{i=1}^{24} \\omega_i \\left( - \\frac{\\partial^2 }{\\partial Q_i^2} + Q_i^2\\right) - \\Delta \\hat{\\sigma}_z \n",
    "         + \\sum_{i\\in G_1} \\left( a_i \\ket{0}\\bra{0} + b_i \\ket{1} \\bra{1} \\right) Q_i  \\\\ &+ \\sum_{i\\in G_3} c_i \\hat{\\sigma}_x Q_i \n",
    "    +\\sum_{(i,j)\\in G_2}\\left( a_{ij} \\ket{0}\\bra{0} + b_{ij} \\ket{1}\\bra{1} \\right) Q_i Q_j +\\sum_{(i,j)\\in G_4}c_{ij} \\hat{\\sigma}_x Q_i Q_j  \n",
    "\\end{split}\n",
    "    $$\n",
    "\n",
    "\n",
    "Here we are interested in the dynamics of the system starting from the initial state:\n",
    "$$ \\ket{\\Psi(0)} = \\ket{S_2} \\bigotimes_{k=1}^{24} \\ket{0}_k $$\n",
    "\n",
    "and will evaluate the autocorrelation\n",
    "$$    a(t) = \\braket{\\Psi(0)}{\\Psi(t)} = \\braket{\\Psi(t/2)^*}{\\Psi(t/2)} $$\n",
    "and shifted and scaled spectrum \n",
    "$$    I(\\omega) \\propto \\int_0^{t_{\\mathrm{max}}} \\mathrm{Re}\\left[a(t) e^{-\\frac{t}{\\tau}} \\cos\\left(\\frac{\\pi t}{2t_{\\mathrm{max}}}\\right) e^{i\\omega t} \\right]\\mathrm{d} t $$\n",
    "\n"
   ]
  },
  {
   "cell_type": "markdown",
   "metadata": {},
   "source": [
    "### Contents"
   ]
  },
  {
   "cell_type": "markdown",
   "metadata": {},
   "source": [
    "\n",
    "1. [Importing the Package](#importing-the-package)\n",
    "\n",
    "2. [Setting up the System and Hamiltonian](#setting-up-the-system-and-hamiltonian)\n",
    "\n",
    "3. [Preparing the Initial Wavefunction](#preparing-the-initial-wavefunction)\n",
    "\n",
    "4. [Preparing the pyttn.pyttn.sOP_operator Representation of the Hamiltonian](#preparing-the-pyttn.sOP_operator-hamiltonian)\n",
    "\n",
    "5. [Running the Dynamics](#running-the-dynamics)\n"
   ]
  },
  {
   "cell_type": "markdown",
   "metadata": {},
   "source": [
    "### Importing the Package"
   ]
  },
  {
   "cell_type": "markdown",
   "metadata": {},
   "source": [
    "We start by importing the required modules for this example"
   ]
  },
  {
   "cell_type": "code",
   "execution_count": 5,
   "metadata": {},
   "outputs": [],
   "source": [
    "import os\n",
    "os.environ['OMP_NUM_THREADS']='1'\n",
    "\n",
    "import numpy as np\n",
    "import matplotlib.pyplot as plt \n",
    "%matplotlib inline\n",
    "\n",
    "import pyttn\n",
    "from pyttn.utils import visualise_tree"
   ]
  },
  {
   "cell_type": "markdown",
   "metadata": {},
   "source": [
    "### Setting up the System and Hamiltonian\n",
    "\n",
    "The construction of the pyrazine model Hamiltonian that we consider in this section is considerably more involved than was the case for the spin models we have considered in previous examples.  This is due to the large number of distinct vibronic coupling constants with different forms depending on the symmetry of the vibrational modes.  "
   ]
  },
  {
   "cell_type": "markdown",
   "metadata": {},
   "source": [
    "##### Vibrational Mode Labels\n",
    "\n",
    "In order to define the Hamiltonian, we will start by labelling the vibrational modes and construct the various groupings of the modes:"
   ]
  },
  {
   "cell_type": "code",
   "execution_count": 6,
   "metadata": {},
   "outputs": [],
   "source": [
    "#convert from eV to hartree\n",
    "eV = 0.0367493049512081\n",
    "\n",
    "def modes():\n",
    "    return ['el', 'v10a', 'v6a', 'v1', 'v9a', 'v8a', 'v2', 'v6b', 'v8b', 'v4', 'v5', 'v3', 'v16a', 'v12', 'v13', 'v19b', 'v18b', 'v18a', 'v14', 'v19a', 'v17a', 'v20b', 'v16b' , 'v11', 'v7b']\n",
    "\n",
    "def mode_index(mode):\n",
    "    return modes().index(mode)\n",
    "\n",
    "def vibrational_mode_index(mode):\n",
    "    return modes().index(mode)-1\n",
    "\n",
    "def Ag():\n",
    "    return ['v6a', 'v1', 'v9a', 'v8a', 'v2']\n",
    "\n",
    "def B1g():\n",
    "    return ['v10a']\n",
    "\n",
    "def B2g():\n",
    "    return ['v4' , 'v5']\n",
    "\n",
    "def B3g():\n",
    "    return ['v6b', 'v3', 'v8b', 'v7b']\n",
    "\n",
    "def Au():\n",
    "    return ['v16a', 'v17a']\n",
    "\n",
    "def B1u():\n",
    "    return ['v12', 'v18a', 'v19a', 'v13']\n",
    "\n",
    "def B2u():\n",
    "    return ['v18b', 'v14', 'v19b', 'v20b']\n",
    "\n",
    "def B3u():\n",
    "    return ['v16b', 'v11']\n",
    "\n",
    "\n",
    "def G1():\n",
    "    return Ag()\n",
    "\n",
    "def G2(): \n",
    "    return [ Ag(), Au(), B1g(), B2g(), B3g(), B1u(), B2u(), B3u()]\n",
    "\n",
    "def G3():\n",
    "    return B1g()\n",
    "\n",
    "def G4():\n",
    "    G4i = [B1g(), B2g(), Au(), B3u()]\n",
    "    G4j = [Ag(), B3g(), B1u(), B2u()]\n",
    "    return G4i, G4j"
   ]
  },
  {
   "cell_type": "markdown",
   "metadata": {},
   "source": [
    "##### Hamiltonian Parameter Definition\n",
    "\n",
    "Next we go ahead and define the physical parameters of the system:"
   ]
  },
  {
   "cell_type": "code",
   "execution_count": 7,
   "metadata": {},
   "outputs": [],
   "source": [
    "def w():\n",
    "    return {\n",
    "        'v6a' : 0.0739*eV, \n",
    "        'v1'  : 0.1258*eV, \n",
    "        'v9a' : 0.1525*eV, \n",
    "        'v8a' : 0.1961*eV, \n",
    "        'v2'  : 0.3788*eV, \n",
    "        'v10a': 0.1139*eV,\n",
    "        'v4'  : 0.0937*eV, \n",
    "        'v5'  : 0.1219*eV,\n",
    "        'v6b' : 0.0873*eV, \n",
    "        'v3'  : 0.1669*eV, \n",
    "        'v8b' : 0.1891*eV, \n",
    "        'v7b' : 0.3769*eV,\n",
    "        'v16a': 0.0423*eV, \n",
    "        'v17a': 0.1190*eV,\n",
    "        'v12' : 0.1266*eV, \n",
    "        'v18a': 0.1408*eV, \n",
    "        'v19a': 0.1840*eV, \n",
    "        'v13' : 0.3734*eV,\n",
    "        'v18b': 0.1318*eV, \n",
    "        'v14' : 0.1425*eV, \n",
    "        'v19b': 0.1756*eV, \n",
    "        'v20b': 0.3798*eV,\n",
    "        'v16b': 0.0521*eV, \n",
    "        'v11' : 0.0973*eV\n",
    "    }\n",
    "\n",
    "\n",
    "def ai():\n",
    "    return np.array([-0.0981,-0.0503, 0.1452,-0.0445, 0.0247])*eV\n",
    "\n",
    "def bi():\n",
    "    return np.array([ 0.1355,-0.1710, 0.0375, 0.0168, 0.0162])*eV\n",
    "\n",
    "def aij():\n",
    "    ret = [\n",
    "        np.array(\n",
    "            [[       0, 0.00108,-0.00204,-0.00135,-0.00285], \n",
    "             [       0,       0, 0.00474, 0.00154,-0.00163],\n",
    "             [       0,       0,       0, 0.00872,-0.00474],\n",
    "             [       0,       0,       0,       0,-0.00143],\n",
    "             [       0,       0,       0,       0,       0]]\n",
    "        )*eV,\n",
    "        np.array(\n",
    "            [[ 0.01145, 0.00100],\n",
    "             [       0,-0.02040]]\n",
    "        )*eV,\n",
    "        np.array(\n",
    "            [[-0.01159]]\n",
    "        )*eV,\n",
    "        np.array(\n",
    "            [[-0.02252,-0.00049],\n",
    "             [       0,-0.01825]]\n",
    "        )*eV,\n",
    "        np.array(\n",
    "            [[-0.00741, 0.01321,-0.00717, 0.00515],\n",
    "             [       0, 0.05183,-0.03942, 0.00170],\n",
    "             [       0,       0,-0.05733,-0.00204],\n",
    "             [       0,       0,       0,-0.00333]]\n",
    "        )*eV,\n",
    "\n",
    "        np.array(\n",
    "            [[-0.04819, 0.00525,-0.00485,-0.00326],\n",
    "             [       0,-0.00792, 0.00852, 0.00888],\n",
    "             [       0,       0,-0.02429,-0.00443],\n",
    "             [       0,       0,       0,-0.00492]]\n",
    "\n",
    "        )*eV,\n",
    "        np.array(\n",
    "            [[-0.00277, 0.00016,-0.00250, 0.00357],\n",
    "             [       0, 0.03924,-0.00197,-0.00355],\n",
    "             [       0,       0, 0.00992, 0.00623],\n",
    "             [       0,       0,       0,-0.00110]]\n",
    "\n",
    "        )*eV,\n",
    "        np.array(\n",
    "            [[-0.02176,-0.00624],\n",
    "             [       0, 0.00315]]\n",
    "        )*eV\n",
    "    ]\n",
    "    for i in range(len(ret)):\n",
    "        ret[i] = ret[i] + ret[i].T\n",
    "        np.fill_diagonal(ret[i], ret[i].diagonal()/2)\n",
    "    return ret\n",
    "\n",
    "def bij():\n",
    "    ret = [\n",
    "        np.array(\n",
    "            [[       0,-0.00298,-0.00189,-0.00203,-0.00128], \n",
    "             [       0,       0, 0.00155, 0.00311,-0.00600],\n",
    "             [       0,       0,       0, 0.01194,-0.00334],\n",
    "             [       0,       0,       0,       0,-0.00713],\n",
    "             [       0,       0,       0,       0,       0]]\n",
    "        )*eV,\n",
    "        np.array(\n",
    "            [[-0.01459,-0.00091],\n",
    "             [       0,-0.00618]]\n",
    "        )*eV,\n",
    "        np.array(\n",
    "            [[-0.01159]]\n",
    "        )*eV,\n",
    "\n",
    "        np.array(\n",
    "            [[-0.03445, 0.00911],\n",
    "             [       0,-0.00265]]\n",
    "        )*eV,\n",
    "        np.array(\n",
    "            [[-0.00385,-0.00661, 0.00429,-0.00246],\n",
    "             [       0, 0.04842,-0.03034,-0.00185],\n",
    "             [       0,       0,-0.06332,-0.00388],\n",
    "             [       0,       0,       0,-0.00040]]\n",
    "        )*eV,\n",
    "\n",
    "        np.array(\n",
    "            [[-0.00840, 0.00536,-0.00097, 0.00034],\n",
    "             [       0, 0.00429, 0.00209,-0.00049],\n",
    "             [       0,       0,-0.00734, 0.00346],\n",
    "             [       0,       0,       0, 0.00062]]\n",
    "\n",
    "        )*eV,\n",
    "        np.array(\n",
    "            [[-0.01179,-0.00844, 0.07000,-0.01249],\n",
    "             [       0, 0.04000,-0.05000, 0.00265],\n",
    "             [       0,       0, 0.01246,-0.00422],\n",
    "             [       0,       0,       0, 0.00069]]\n",
    "\n",
    "        )*eV,\n",
    "        np.array(\n",
    "            [[-0.02214,-0.00261],\n",
    "             [       0,-0.00496]]\n",
    "        )*eV\n",
    "    ]\n",
    "    for i in range(len(ret)):\n",
    "        ret[i] = ret[i] + ret[i].T\n",
    "        np.fill_diagonal(ret[i], ret[i].diagonal()/2)\n",
    "    return ret\n",
    "\n",
    "\n",
    "def ci():\n",
    "    return np.array([0.2080])*eV\n",
    "\n",
    "\n",
    "def cij():\n",
    "    return [\n",
    "        np.array(\n",
    "            [[-0.01000,-0.00551, 0.00127, 0.00799,-0.00512]]\n",
    "        )*eV,\n",
    "        np.array(\n",
    "            [[-0.01372,-0.00466, 0.00329,-0.00031],\n",
    "             [ 0.00598,-0.00914, 0.00961, 0.00500]]\n",
    "        )*eV,\n",
    "        np.array(\n",
    "            [[-0.01056, 0.00559, 0.00401,-0.00226],\n",
    "             [-0.01200,-0.00213, 0.00328,-0.00396]]\n",
    "        )*eV,\n",
    "        np.array(\n",
    "            [[ 0.00118,-0.00009,-0.00285,-0.00095],\n",
    "             [ 0.01281,-0.01780, 0.00134,-0.00481]]\n",
    "        )*eV\n",
    "    ]"
   ]
  },
  {
   "cell_type": "markdown",
   "metadata": {},
   "source": [
    "##### Hamiltonian Definition\n",
    "\n",
    "Having done so we can now define the Hamiltonian for the system.  Here we have made use of a user defined `pyttn.operator_dictionary` to allow for specification of custom operators acting on the electronic system subspace."
   ]
  },
  {
   "cell_type": "code",
   "execution_count": 8,
   "metadata": {},
   "outputs": [],
   "source": [
    "\n",
    "def hamiltonian():\n",
    "    N = len(modes())\n",
    "    H = pyttn.SOP(N)\n",
    "    omegas = w()\n",
    "    vs = modes()[1:]\n",
    "    \n",
    "    delta = 0.8460/2.0*eV\n",
    "\n",
    "    #set up the system operator dictionary\n",
    "    opdict = pyttn.operator_dictionary(N)\n",
    "    for i in range(2):\n",
    "        v = np.zeros( (2,2), dtype=np.complex128)\n",
    "        v[i, i] = 1.0\n",
    "        op =  pyttn.site_operator(v, optype=\"matrix\", mode=0)\n",
    "        opdict.insert(0, \"|%d><%d|\"%(i, i), op)\n",
    "\n",
    "    v = np.zeros( (2,2), dtype=np.complex128)\n",
    "    v[0, 0] = 1.0\n",
    "    v[1, 1] = -1.0\n",
    "    op =  pyttn.site_operator(v, optype=\"matrix\", mode=0)\n",
    "    opdict.insert(0, \"sz\", op)\n",
    "\n",
    "    v = np.zeros( (2,2), dtype=np.complex128)\n",
    "    v[0, 1] = 1.0\n",
    "    v[1, 0] = 1.0\n",
    "    op =  pyttn.site_operator(v, optype=\"matrix\", mode=0)\n",
    "    opdict.insert(0, \"sx\", op)\n",
    "\n",
    "    #energy spacing of the S1 and S2 state\n",
    "    H += -delta*pyttn.sOP(\"sz\", 0)\n",
    "\n",
    "    #add on the vibrational mode terms\n",
    "    for v in vs:\n",
    "        H += omegas[v]*pyttn.sOP(\"n\", mode_index(v))\n",
    "\n",
    "    #the linear on-diagonal couplings\n",
    "    for i, g in enumerate(G1()):\n",
    "        H += ai()[i]*pyttn.sOP(\"|0><0|\", 0)*pyttn.sOP(\"q\", mode_index(g))\n",
    "        H += bi()[i]*pyttn.sOP(\"|1><1|\", 0)*pyttn.sOP(\"q\", mode_index(g))\n",
    "\n",
    "    #the quadratic on-diagonal couplings\n",
    "    for g, Aij, Bij in zip(G2(), aij(), bij()):\n",
    "        for i, vi in enumerate(g):\n",
    "            for j, vj in enumerate(g):\n",
    "                H += Aij[i, j]*pyttn.sOP(\"|0><0|\", 0)*pyttn.sOP(\"q\", mode_index(vi))*pyttn.sOP(\"q\", mode_index(vj))\n",
    "                H += Bij[i, j]*pyttn.sOP(\"|1><1|\", 0)*pyttn.sOP(\"q\", mode_index(vi))*pyttn.sOP(\"q\", mode_index(vj))\n",
    "\n",
    "    #the linear off-diagonal couplings\n",
    "    for i, g in enumerate(G3()):\n",
    "        H += ci()[i]*pyttn.sOP(\"sx\", 0)*pyttn.sOP(\"q\", mode_index(g))\n",
    "\n",
    "    #the quadratic on-diagonal couplings\n",
    "    G4i, G4j = G4()\n",
    "    for gi, gj, Cij in zip(G4i, G4j, cij()):\n",
    "        for i, vi in enumerate(gi):\n",
    "            for j, vj in enumerate(gj):\n",
    "                H += Cij[i, j]*pyttn.sOP(\"sx\", 0)*pyttn.sOP(\"q\", mode_index(vi))*pyttn.sOP(\"q\", mode_index(vj))\n",
    "    return H, opdict\n"
   ]
  },
  {
   "cell_type": "markdown",
   "metadata": {},
   "source": [
    "##### System Definition\n",
    "\n",
    "We now prepare the `system_modes` operators and construct the `pyttn.sOP` representation of the Hamiltonian using the functions defined above:"
   ]
  },
  {
   "cell_type": "code",
   "execution_count": 9,
   "metadata": {},
   "outputs": [],
   "source": [
    "\n",
    "#The total number of modes in the system\n",
    "N = 25          \n",
    "\n",
    "#The dimension of each of the bosonic modes\n",
    "m = [40, 32, 20, 12, 8, 4, 8, 24, 24, 8, 8, 24, 20, 4, 72, 80, 6, 20, 6, 6, 6, 32, 6, 4]\n",
    "\n",
    "#The composite mode definition\n",
    "composite_modes = [[0, 1], [2, 3, 4], [5, 6, 7], [8, 9, 10], [11, 12, 13], [14, 15], [16, 17, 18, 19], [20, 21, 22, 23]]\n",
    "Nc = len(composite_modes)\n",
    "\n",
    "composite_mode_dimensions = []\n",
    "#set up the system information object\n",
    "sysinf = pyttn.system_modes(Nc+1)\n",
    "sysinf[0] = pyttn.generic_mode(2)\n",
    "for ind, comb in enumerate(composite_modes):\n",
    "    sysinf[ind+1] = [pyttn.boson_mode(m[x]) for x in comb]\n",
    "\n",
    "#set up the sum of product operator Hamiltonian and operator dictionary\n",
    "H, opdict = hamiltonian()  "
   ]
  },
  {
   "cell_type": "markdown",
   "metadata": {},
   "source": [
    "### Preparing the Initial Wavefunction"
   ]
  },
  {
   "cell_type": "markdown",
   "metadata": {},
   "source": [
    "We now prepare the initial wavefunction.  This requires a two-step process, first we define the tree topology to use for this calculation through the use of the `ntree` class (which for this example we choose to be an MPS), following which we construct the `ttn` object that actually represents the wavefunction.  In this example we intend to use a subspace expansion based in order to expand bond dimension throughout the TDVP loop.  \n",
    "\n",
    "In order to do this, we define an additional `ntree` object with the same structure but different values defining the maximum allowed dimension of any bond in the network.  For more details one the construct of tree topologies see the [tutorial on tree topologies](file/../tree_topologies.ipynb). Here we are using a custom tree structure that was introduced in [O. Vendrell, H.-D. Meyer, J. Chem. Phys. 134, 044135 (2011)](https://doi.org/10.1063/1.3535541).\n"
   ]
  },
  {
   "cell_type": "markdown",
   "metadata": {},
   "source": [
    "##### Defining the Tree Structure\n",
    "\n",
    "Here we present a function for constructing the Tree used for the ML-MCTDH calculations for pyrazine:"
   ]
  },
  {
   "cell_type": "code",
   "execution_count": 10,
   "metadata": {},
   "outputs": [],
   "source": [
    "def build_topology_mode_combination(N1, N2, N3, N4, N5, m):    \n",
    "    topo = pyttn.ntree()\n",
    "    topo.insert(1)\n",
    "    #add electronic degrees of freedom\n",
    "    topo().insert(2)\n",
    "    topo()[0].insert(2)\n",
    "    topo().insert(2)\n",
    " \n",
    "    topo()[1].insert(N1)\n",
    "\n",
    "    topo()[1][0].insert(N2)\n",
    "    topo()[1][0][0].insert(m[0])\n",
    "\n",
    "    topo()[1][0].insert(N2)\n",
    " \n",
    "    topo()[1][0][1].insert(m[1])\n",
    "\n",
    "    topo()[1].insert(N1)\n",
    "    topo()[1][1].insert(N3)\n",
    "    topo()[1][1][0].insert(N4)\n",
    " \n",
    "    topo()[1][1][0][0].insert(m[2])\n",
    "            \n",
    "    topo()[1][1][0].insert(N4)\n",
    " \n",
    "    topo()[1][1][0][1].insert(m[3])\n",
    "\n",
    "    topo()[1][1][0].insert(N4)\n",
    " \n",
    "    topo()[1][1][0][2].insert(m[4])\n",
    "\n",
    "    topo()[1][1].insert(N3)\n",
    "    topo()[1][1][1].insert(N5)\n",
    " \n",
    "    topo()[1][1][1][0].insert(m[5])\n",
    "\n",
    "    topo()[1][1][1].insert(N5)\n",
    "    topo()[1][1][1][1].insert(m[6])\n",
    "\n",
    "    topo()[1][1][1].insert(N5)\n",
    "    topo()[1][1][1][2].insert(m[7])\n",
    "    pyttn.ntreeBuilder.sanitise(topo)\n",
    "    return topo"
   ]
  },
  {
   "cell_type": "markdown",
   "metadata": {},
   "source": [
    "##### Setup the Initial value of the `ttn` Wavefunction"
   ]
  },
  {
   "cell_type": "code",
   "execution_count": 11,
   "metadata": {},
   "outputs": [],
   "source": [
    "# Initial bond dimensions\n",
    "N1_0 = 4\n",
    "N2_0 = 4\n",
    "N3_0 = 3\n",
    "N4_0 = 2\n",
    "N5_0 = 3\n",
    "\n",
    "#maximum bond dimensions\n",
    "N1 = 32\n",
    "N2 = 32\n",
    "N3 = 20\n",
    "N4 = 12\n",
    "N5 = 16\n",
    "\n",
    "# Vector of dimensions of the local Hilbert space in the physical nodes\n",
    "vmode_dims = sysinf.mode_dimensions()[1:]\n",
    "\n",
    "#now construct an ntree object storing the MPS topology using the ntreeBuilder class\n",
    "topo = build_topology_mode_combination(N1_0, N2_0, N3_0, N4_0, N5_0, vmode_dims)\n",
    "capacity= build_topology_mode_combination(N1, N2, N3, N4, N5, vmode_dims)\n",
    "\n",
    "#now allocate the wavefunction object.  And allocate it so that each tensor is filled with random values\n",
    "A = pyttn.ttn(topo, capacity, dtype=np.complex128)\n",
    "A.set_seed(0)\n",
    "A.set_state([1] + [0 for i in range(len(vmode_dims))])"
   ]
  },
  {
   "cell_type": "markdown",
   "metadata": {},
   "source": [
    "When creating the `ttn` object, tensors will be constructed with the sizes defined in `topo` but with enough space allocated to store the tensors defined in `capacity`.  We can plot the tree structure using `visualise_tree`."
   ]
  },
  {
   "cell_type": "code",
   "execution_count": 12,
   "metadata": {},
   "outputs": [
    {
     "data": {
      "image/png": "[encoded data removed]",
      "text/plain": [
       "<Figure size 640x480 with 1 Axes>"
      ]
     },
     "metadata": {},
     "output_type": "display_data"
    }
   ],
   "source": [
    "visualise_tree(topo)\n",
    "plt.show()"
   ]
  },
  {
   "cell_type": "markdown",
   "metadata": {},
   "source": [
    "### Preparing the `pyttn.sop_operator` Hamiltonian"
   ]
  },
  {
   "cell_type": "markdown",
   "metadata": {},
   "source": [
    "Now before we are ready to set up and perform the DMRG and TDVP loops, we first need to convert the Hamiltonian into a form that can be used to efficiently within the DMRG and TDVP algorithms.  Further details on this step are provided in the [tutorial on DMRG for the 1D Transverse field Ising model](file/../dmrg_TFIM.ipynb)."
   ]
  },
  {
   "cell_type": "code",
   "execution_count": 13,
   "metadata": {},
   "outputs": [],
   "source": [
    "#setup the hierarchical SOP hamiltonian\n",
    "h = pyttn.sop_operator(H, A, sysinf, opdict)"
   ]
  },
  {
   "cell_type": "markdown",
   "metadata": {},
   "source": [
    "### Running the Dynamics"
   ]
  },
  {
   "cell_type": "markdown",
   "metadata": {},
   "source": [
    "Now we can have everything we need to set up all of the objects required to perform the TDVP loop and evaluate the autocorrelation."
   ]
  },
  {
   "cell_type": "code",
   "execution_count": 14,
   "metadata": {},
   "outputs": [],
   "source": [
    "fs = 41.341374575751\n",
    "\n",
    "#set up the time evolution parameters\n",
    "dt = 0.25*fs\n",
    "tmax = 150*fs\n",
    "nsteps = int(tmax/(2*dt))+1\n",
    "\n",
    "#buffer for storing the autocorrelation\n",
    "auto_corr = np.zeros(nsteps+1, dtype=np.complex128)\n",
    "\n",
    "#set up the TDVP sweeping object to \n",
    "sweep = pyttn.tdvp(A, h, krylov_dim = 12, expansion='subspace', subspace_krylov_dim=12, subspace_neigs=6)\n",
    "\n",
    "#construct the object used to plot matrix elements\n",
    "mel = pyttn.matrix_element(A)\n",
    "\n",
    "#set up the subspace expansion parameters.  Here we expand bond dimension whenever a term in the \n",
    "#two-site energy variance (that is not captured within the single-site spaces) has singular value > 1e-5, \n",
    "#and do not use natural populations to determine whether to spawn additional basis functions.\n",
    "sweep.spawning_threshold = 1e-8\n",
    "sweep.minimum_unoccupied=0\n",
    "sweep.dt = dt\n",
    "sweep.coefficient = -1.0j"
   ]
  },
  {
   "cell_type": "markdown",
   "metadata": {},
   "source": [
    "Now we actually run the dynamics:"
   ]
  },
  {
   "cell_type": "code",
   "execution_count": 15,
   "metadata": {},
   "outputs": [
    {
     "name": "stdout",
     "output_type": "stream",
     "text": [
      "                                        07641                                                                            \n"
     ]
    }
   ],
   "source": [
    "import copy\n",
    "B= copy.deepcopy(A)\n",
    "B.conj()\n",
    "auto_corr[0] = mel(B, A)\n",
    "\n",
    "tp = 0\n",
    "ninit = 10\n",
    "ts = np.logspace(np.log10(dt*1e-5), np.log10(dt), ninit)\n",
    "for i in range(ninit):\n",
    "    dti = ts[i]-tp\n",
    "    sweep.dt = dti\n",
    "    sweep.step(A, h)\n",
    "    tp = ts[i]\n",
    "\n",
    "i=1\n",
    "#set the values after the first timestep\n",
    "B= copy.deepcopy(A)\n",
    "B.conj()\n",
    "auto_corr[i] = mel(B, A)\n",
    "\n",
    "sweep.dt = dt\n",
    "\n",
    "#now run the remaining steps\n",
    "for i in range(1, nsteps):\n",
    "    sweep.step(A, h)\n",
    "\n",
    "    B=copy.deepcopy(A)      #copy A into B \n",
    "    B.conj()                #and conjugate the result\n",
    "\n",
    "    auto_corr[i+1] = mel(B, A)    #evaluate <psi(t/2)^*|psi(t/2)>\n",
    "\n",
    "    print(\"step: %d of %d.  Chimax: %d. a(t): %f\"%(i+1, nsteps, A.maximum_bond_dimension(), np.real(auto_corr[i+1])), end='                   \\r', flush=True)\n",
    "\n",
    "\n",
    "print('                                        \\r', flush = True)"
   ]
  },
  {
   "cell_type": "markdown",
   "metadata": {},
   "source": [
    "Now we evaluate the spectra and plot results:"
   ]
  },
  {
   "cell_type": "code",
   "execution_count": 16,
   "metadata": {},
   "outputs": [
    {
     "data": {
      "text/plain": [
       "[]"
      ]
     },
     "execution_count": 16,
     "metadata": {},
     "output_type": "execute_result"
    },
    {
     "data": {
      "image/png": "[encoded data removed]",
      "text/plain": [
       "<Figure size 640x480 with 2 Axes>"
      ]
     },
     "metadata": {},
     "output_type": "display_data"
    }
   ],
   "source": [
    "def compute_spectrum(w, Ac, tau, t):\n",
    "    return np.sum(np.real(Ac*np.exp(-t/tau)*np.cos(np.pi*t/(2*(t[-1])))*np.exp(1.0j*w*t)))*(t[1]-t[0])\n",
    "\n",
    "eV = 27.211399\n",
    "\n",
    "t = (np.arange(nsteps+1)*dt*2/fs)\n",
    "w = np.linspace(0.3, 0.6, 10000) - 0.8460/2\n",
    "Cw = np.zeros(w.shape)\n",
    "for i in range(len(w)):\n",
    "    Cw[i] = compute_spectrum(w[i], auto_corr, 150*fs, t*fs)\n",
    "\n",
    "fig, ax = plt.subplots(nrows=1, ncols=2)\n",
    "fig.subplots_adjust(wspace=0, hspace=0)\n",
    "\n",
    "\n",
    "ax[0].plot(t, np.abs(auto_corr))\n",
    "ax[0].set_xlim([0, 150])\n",
    "ax[0].set_ylim([0, 0.12])\n",
    "ax[0].set_xlabel(r'$t$ (fs)')\n",
    "ax[0].set_ylabel(r'$a(t)$')\n",
    "\n",
    "ax[1].plot(w*eV, Cw/np.max(Cw))\n",
    "ax[1].yaxis.set_label_position(\"right\")\n",
    "ax[1].yaxis.tick_right()\n",
    "ax[1].set_xlim([-0.7, 1])\n",
    "ax[1].set_xlabel(r'$\\hbar \\omega$ (eV)')\n",
    "ax[1].set_ylabel(r'$I(\\omega)$ (arb. units.)')\n",
    "plt.plot()\n"
   ]
  }
 ],
 "metadata": {
  "kernelspec": {
   "display_name": ".venv",
   "language": "python",
   "name": "python3"
  },
  "language_info": {
   "codemirror_mode": {
    "name": "ipython",
    "version": 3
   },
   "file_extension": ".py",
   "mimetype": "text/x-python",
   "name": "python",
   "nbconvert_exporter": "python",
   "pygments_lexer": "ipython3",
   "version": "3.12.3"
  }
 },
 "nbformat": 4,
 "nbformat_minor": 2
}
