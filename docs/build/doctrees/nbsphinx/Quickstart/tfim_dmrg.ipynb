{
 "cells": [
  {
   "cell_type": "markdown",
   "metadata": {},
   "source": [
    "# DMRG: 1D Transverse Field Ising Model"
   ]
  },
  {
   "cell_type": "markdown",
   "metadata": {},
   "source": [
    "In this quickstart guide, we apply pyTTN to evaluate the ground state energy of the 1D Transverse Field Ising model using a matrix product state representation for the wavefunction.  We consider the Hamiltonian\n",
    "\n",
    "$$ \\hat{H} = -J \\displaystyle\\sum_{j=1}^{N-1} \\hat{\\sigma}^z_j \\hat{\\sigma}^z_{j+1} + h \\displaystyle\\sum_j^N \\hat{\\sigma}^x_j$$\n",
    "\n",
    "where we will consider the critical point, namely $J = 1$, $h=1$, and with $N=64$ spins."
   ]
  },
  {
   "cell_type": "markdown",
   "metadata": {},
   "source": [
    "### Contents"
   ]
  },
  {
   "cell_type": "markdown",
   "metadata": {},
   "source": [
    "\n",
    "1. [Importing the Package](#importing-the-package)\n",
    "\n",
    "2. [Setting up the System and Hamiltonian](#setting-up-the-system-and-hamiltonian)\n",
    "\n",
    "3. [Preparing the Initial Wavefunction](#preparing-the-initial-wavefunction)\n",
    "\n",
    "4. [Preparing the sop_operator Representation of the Hamiltonian](#preparing-the-sop_operator-hamiltonian)\n",
    "\n",
    "5. [Setting up and Performing the DMRG Loop](#setting-up-and-performing-the-dmrg-loop)\n"
   ]
  },
  {
   "cell_type": "markdown",
   "metadata": {},
   "source": [
    "### Importing the Package"
   ]
  },
  {
   "cell_type": "markdown",
   "metadata": {},
   "source": [
    "We start by importing the required modules for this example"
   ]
  },
  {
   "cell_type": "code",
   "execution_count": 1,
   "metadata": {},
   "outputs": [],
   "source": [
    "import os\n",
    "os.environ['OMP_NUM_THREADS']='1'\n",
    "\n",
    "import numpy as np\n",
    "import matplotlib.pyplot as plt \n",
    "%matplotlib inline\n",
    "\n",
    "import pyttn\n",
    "from pyttn.utils import visualise_tree"
   ]
  },
  {
   "cell_type": "markdown",
   "metadata": {},
   "source": [
    "### Setting up the System and Hamiltonian\n",
    "\n",
    "We start by setting up the `system_modes` object that tells pyTTN the type of operators to expect, and local Hilbert space dimension associated with each mode.  For the case of the $N=64$ spin-$\\frac{1}{2}$ system we are considering here.  This is done as follows:"
   ]
  },
  {
   "cell_type": "code",
   "execution_count": 2,
   "metadata": {},
   "outputs": [],
   "source": [
    "# Define number of modes\n",
    "N = 64\n",
    "\n",
    "# Initialise system information variable as a set of N modes\n",
    "sysinf = pyttn.system_modes(N)\n",
    "\n",
    "# Specify that each mode is a two level system\n",
    "for i in range(N):\n",
    "    sysinf[i] = pyttn.tls_mode()"
   ]
  },
  {
   "cell_type": "markdown",
   "metadata": {},
   "source": [
    "We now prepare the system Hamiltonian through the use of the `SOP` class.  This makes use of a string representation of the Hamiltonian, that is later converted into a form necessary for performing calculations.  For more details on the generation of operators see the [tutorial on operator generation](file/../operator_generation.ipynb)."
   ]
  },
  {
   "cell_type": "code",
   "execution_count": null,
   "metadata": {},
   "outputs": [],
   "source": [
    "J = 1.0\n",
    "h = 1.0\n",
    "\n",
    "#set up the system Hamiltonian\n",
    "H = pyttn.SOP(N)\n",
    "\n",
    "#add on the onsite transversal fields\n",
    "for i in range(N):\n",
    "    H += h*pyttn.sOP(\"sx\", i)\n",
    "\n",
    "#now add on the zz interactions\n",
    "for i in range(N-1):\n",
    "    H += -J*pyttn.sOP(\"sz\", i)*pyttn.sOP(\"sz\", i+1)"
   ]
  },
  {
   "cell_type": "markdown",
   "metadata": {},
   "source": [
    "### Preparing the Initial Wavefunction"
   ]
  },
  {
   "cell_type": "markdown",
   "metadata": {},
   "source": [
    "We now prepare the initial wavefunction.  This requires a two-step process, first we define the tree topology to use for this calculation through the use of the `ntree` class (which for this example we choose to be an MPS), following which we construct the `ttn` object that actually represents the wavefunction.  In this example we intend to use a subspace expansion based in order to expand bond dimension throughout the DMRG loop.  In order to do this, we define an additional `ntree` object with the same structure but different values defining the maximum allowed dimension of any bond in the network.  For more details one the construct of tree topologies see the [tutorial on tree topologies](file/../tree_topologies.ipynb). \n"
   ]
  },
  {
   "cell_type": "code",
   "execution_count": 4,
   "metadata": {},
   "outputs": [],
   "source": [
    "# Initial bond dimension\n",
    "chi = 4\n",
    "\n",
    "#maximum bond dimension\n",
    "chi_max = 32\n",
    "\n",
    "# Vector of dimensions of the local Hilbert space in the physical nodes\n",
    "dims = sysinf.mode_dimensions()\n",
    "\n",
    "#now construct an ntree object storing the MPS topology using the ntreeBuilder class\n",
    "topo = pyttn.ntreeBuilder.mps_tree(dims, chi)\n",
    "capacity = pyttn.ntreeBuilder.mps_tree(dims, chi_max)\n",
    "\n",
    "#now allocate the wavefunction object.  And allocate it so that each tensor is filled with random values\n",
    "A = pyttn.ttn(topo, capacity, dtype=np.complex128)\n",
    "A.random()"
   ]
  },
  {
   "cell_type": "markdown",
   "metadata": {},
   "source": [
    "When creating the `ttn` object, tensors will be constructed with the sizes defined in `topo` but with enough space allocated to store the tensors defined in `capacity`.  "
   ]
  },
  {
   "cell_type": "markdown",
   "metadata": {},
   "source": [
    "### Preparing the `sop_operator` Hamiltonian"
   ]
  },
  {
   "cell_type": "markdown",
   "metadata": {},
   "source": [
    "Now before we are ready to set up and perform the DMRG loop, we first need to convert the Hamiltonian into a form that can be used to efficiently within the DMRG algorithm.  Within pyTTN, two formats are supported for the Hamiltonian:\n",
    "\n",
    "1. the Sum-of-Product operator representation\n",
    "2. the Hierarchical Sum-of-Product operator representation \n",
    "\n",
    "With the Sum-of-Product operator representation being the standard form used in ML-MCTDH calculations and the Hierarchical Sum-of-Product operator representation being equivalent to a sparse tensor representation of a Tree Tensor Network Operator.  Within pyTTN, both types of operator are handled with the same objects, namely the `sop_operator`.  The user can select between these two operator representations through the use of the compress variable with:\n",
    "\n",
    "- `compress=False` leading to the construction of a Sum-of-Product operator\n",
    "- `compress=True` leading to the construction of a Hierarchical Sum-of-Product operator.\n",
    "\n",
    "By default calls to `sop_operator` will lead to the construction of Hierarchical Sum-of-Product operators."
   ]
  },
  {
   "cell_type": "code",
   "execution_count": 5,
   "metadata": {},
   "outputs": [],
   "source": [
    "h = pyttn.sop_operator(H, A, sysinf, compress=True)"
   ]
  },
  {
   "cell_type": "markdown",
   "metadata": {},
   "source": [
    "### Setting up and Performing the DMRG Loop"
   ]
  },
  {
   "cell_type": "markdown",
   "metadata": {},
   "source": [
    "Now we can have everything we need to set up all of the objects required to perform the DMRG loop.  Here we set up DMRG with the use of subspace expansion to expand bond dimensions throughout the update steps. "
   ]
  },
  {
   "cell_type": "code",
   "execution_count": 6,
   "metadata": {},
   "outputs": [],
   "source": [
    "#set up the DMRG sweeping object to \n",
    "sweep = pyttn.dmrg(A, h, krylov_dim = 4, expansion='subspace', subspace_krylov_dim=12, subspace_neigs=6)\n",
    "\n",
    "#set up the subspace expansion parameters.  Here we expand bond dimension whenever a term in the \n",
    "#two-site energy variance (that is not captured within the single-site spaces) has singular value > 1e-5, \n",
    "#and do not use natural populations to determine whether to spawn additional basis functions.\n",
    "sweep.spawning_threshold = 1e-10\n",
    "sweep.minimum_unoccupied=0"
   ]
  },
  {
   "cell_type": "markdown",
   "metadata": {},
   "source": [
    "Now we have everything needed to perform the DMRG loop.  Here we perform 10 steps and plot the energy per spin for each step in the DMRG sweep:"
   ]
  },
  {
   "cell_type": "code",
   "execution_count": 7,
   "metadata": {},
   "outputs": [
    {
     "name": "stdout",
     "output_type": "stream",
     "text": [
      "1 -1.2675382099057548 13\n",
      "2 -1.267593435039451 20\n",
      "3 -1.2675934393941446 24\n",
      "4 -1.2675934394149269 24\n",
      "5 -1.2675934394162052 24\n",
      "6 -1.2675934394163335 24\n",
      "7 -1.2675934394163881 24\n",
      "8 -1.2675934394164143 24\n",
      "9 -1.2675934394164239 24\n",
      "10 -1.2675934394164328 24\n"
     ]
    }
   ],
   "source": [
    "for i in range(10):\n",
    "    #perform the DMRG step\n",
    "    sweep(A, h)\n",
    "\n",
    "    #and print out the energy per spin, and maximum bond dimension of the A tensor for the sweep\n",
    "    print(i+1, np.real(sweep.E()/N), A.maximum_bond_dimension())\n"
   ]
  },
  {
   "cell_type": "markdown",
   "metadata": {},
   "source": [
    "Here we observe convergence of the result to the expected value of:"
   ]
  },
  {
   "cell_type": "code",
   "execution_count": 8,
   "metadata": {},
   "outputs": [
    {
     "name": "stdout",
     "output_type": "stream",
     "text": [
      "-1.2675934394241177\n"
     ]
    }
   ],
   "source": [
    "E = (1 - 1/np.sin(np.pi/(2*(2*N+1))))\n",
    "print(E/N)"
   ]
  },
  {
   "cell_type": "markdown",
   "metadata": {},
   "source": [
    "Now finally, we will visualise what the subspace expansion scheme has done to the bond dimension of the TTN, using the `visualise_tree` function."
   ]
  },
  {
   "cell_type": "code",
   "execution_count": 9,
   "metadata": {},
   "outputs": [
    {
     "data": {
      "image/png": "[encoded data removed]",
      "text/plain": [
       "<Figure size 640x480 with 1 Axes>"
      ]
     },
     "metadata": {},
     "output_type": "display_data"
    }
   ],
   "source": [
    "visualise_tree(A, bond_prop=\"bond dimension\", node_size=0)\n",
    "plt.show()"
   ]
  }
 ],
 "metadata": {
  "kernelspec": {
   "display_name": ".venv",
   "language": "python",
   "name": "python3"
  },
  "language_info": {
   "codemirror_mode": {
    "name": "ipython",
    "version": 3
   },
   "file_extension": ".py",
   "mimetype": "text/x-python",
   "name": "python",
   "nbconvert_exporter": "python",
   "pygments_lexer": "ipython3",
   "version": "3.12.3"
  }
 },
 "nbformat": 4,
 "nbformat_minor": 2
}
