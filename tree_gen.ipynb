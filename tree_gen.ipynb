{
 "cells": [
  {
   "cell_type": "code",
   "execution_count": 1,
   "metadata": {},
   "outputs": [
    {
     "name": "stderr",
     "output_type": "stream",
     "text": [
      "/home/lachlan/pyttn/.venv/lib/python3.12/site-packages/numpy/_core/getlimits.py:548: UserWarning: Signature b'\\x00\\xd0\\xcc\\xcc\\xcc\\xcc\\xcc\\xcc\\xfb\\xbf\\x00\\x00\\x00\\x00\\x00\\x00' for <class 'numpy.longdouble'> does not match any known type: falling back to type probe function.\n",
      "This warnings indicates broken support for the dtype!\n",
      "  machar = _get_machar(dtype)\n"
     ]
    }
   ],
   "source": [
    "import os\n",
    "os.environ['OMP_NUM_THREADS']='1'\n",
    "\n",
    "import numpy as np\n",
    "import matplotlib.pyplot as plt\n",
    "\n",
    "from pyttn import generate_spanning_tree, generate_hierarchical_clustering_tree, convert_nx_to_tree, ntree\n"
   ]
  },
  {
   "cell_type": "code",
   "execution_count": 2,
   "metadata": {},
   "outputs": [
    {
     "ename": "TypeError",
     "evalue": "generate_spanning_tree() got an unexpected keyword argument 'max_degree'",
     "output_type": "error",
     "traceback": [
      "\u001b[31m---------------------------------------------------------------------------\u001b[39m",
      "\u001b[31mTypeError\u001b[39m                                 Traceback (most recent call last)",
      "\u001b[36mCell\u001b[39m\u001b[36m \u001b[39m\u001b[32mIn[2]\u001b[39m\u001b[32m, line 32\u001b[39m\n\u001b[32m     29\u001b[39m plt.figure(\u001b[32m1\u001b[39m)\n\u001b[32m     30\u001b[39m plt.imshow(G2)\n\u001b[32m---> \u001b[39m\u001b[32m32\u001b[39m spanning_tree, spanning_root_ind = \u001b[43mgenerate_spanning_tree\u001b[49m\u001b[43m(\u001b[49m\u001b[43mG2\u001b[49m\u001b[43m,\u001b[49m\u001b[43m \u001b[49m\u001b[43mmax_degree\u001b[49m\u001b[43m=\u001b[49m\u001b[32;43m1\u001b[39;49m\u001b[43m,\u001b[49m\u001b[43m \u001b[49m\u001b[43mroot_index\u001b[49m\u001b[43m=\u001b[49m\u001b[32;43m0\u001b[39;49m\u001b[43m)\u001b[49m\n\u001b[32m     33\u001b[39m clustering_tree, clustering_root_ind = generate_hierarchical_clustering_tree(G2, max_degree=\u001b[32m1\u001b[39m, root_index=\u001b[32m0\u001b[39m)\n\u001b[32m     35\u001b[39m tree, leaf_ordering = convert_nx_to_tree(spanning_tree, root_ind=spanning_root_ind)\n",
      "\u001b[31mTypeError\u001b[39m: generate_spanning_tree() got an unexpected keyword argument 'max_degree'"
     ]
    },
    {
     "data": {
      "image/png": "[encoded data removed]",
      "text/plain": [
       "<Figure size 640x480 with 1 Axes>"
      ]
     },
     "metadata": {},
     "output_type": "display_data"
    }
   ],
   "source": [
    "from pyttn.utils import visualise_tree\n",
    "\n",
    "\n",
    "tree = ntree(\"(0(121))\")\n",
    "tree2 = ntree(\"(0(121))\")\n",
    "\n",
    "N=4\n",
    "M=8\n",
    "#G = nx.erdos_renyi_graph(N, 0.1)\n",
    "#gamma = nx.to_numpy_array(G)\n",
    "v = 0.5*np.ones(N)#np.random.uniform(0, 1, size=N)\n",
    "w = np.diag(np.ones(N))#np.random.uniform(0, 1, size=(N)))\n",
    "w = (w + w.T)/2.0\n",
    "gamma = np.zeros((N+1, N+1))\n",
    "gamma[0, 1:] = v\n",
    "gamma[1:, 0] = v\n",
    "gamma[1:, 1:] = w\n",
    "gamma += 1e-15\n",
    "\n",
    "G2 = np.zeros((M*(N+1),M*(N+1)))\n",
    "for i in range(M):\n",
    "   G2[i*(N+1):(i+1)*(N+1), i*(N+1):(i+1)*(N+1)]=gamma\n",
    "\n",
    "for i in range(M-1):\n",
    "   G2[i*(N+1), (i+1)*(N+1)] = 1\n",
    "   G2[(i+1)*(N+1), i*(N+1)] = 1\n",
    "\n",
    "\n",
    "plt.figure(1)\n",
    "plt.imshow(G2)\n",
    "\n",
    "spanning_tree, spanning_root_ind = generate_spanning_tree(G2, max_nchild=1, root_index=0)\n",
    "clustering_tree, clustering_root_ind = generate_hierarchical_clustering_tree(G2)\n",
    "\n",
    "tree, leaf_ordering = convert_nx_to_tree(spanning_tree, root_ind=spanning_root_ind)\n",
    "print(leaf_ordering)\n",
    "tree2, leaf_ordering2 = convert_nx_to_tree(clustering_tree, root_ind=clustering_root_ind)\n",
    "print(leaf_ordering2)\n",
    "\n",
    "plt.figure(2)\n",
    "visualise_tree(tree, prog='dot')\n",
    "\n",
    "plt.figure(3)\n",
    "visualise_tree(tree2, prog='dot')"
   ]
  }
 ],
 "metadata": {
  "kernelspec": {
   "display_name": ".venv",
   "language": "python",
   "name": "python3"
  },
  "language_info": {
   "codemirror_mode": {
    "name": "ipython",
    "version": 3
   },
   "file_extension": ".py",
   "mimetype": "text/x-python",
   "name": "python",
   "nbconvert_exporter": "python",
   "pygments_lexer": "ipython3",
   "version": "3.12.3"
  }
 },
 "nbformat": 4,
 "nbformat_minor": 2
}
