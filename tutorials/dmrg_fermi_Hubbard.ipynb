{
 "cells": [
  {
   "cell_type": "markdown",
   "metadata": {},
   "source": [
    "# DMRG: 1D Fermi-Hubbard Model"
   ]
  },
  {
   "cell_type": "markdown",
   "metadata": {},
   "source": [
    "In this quickstart guide, we apply pyTTN to evaluate the ground state energy of the 1D Fermi-Hubbard Model using a matrix product state representation for the wavefunction.  We consider the Hamiltonian\n",
    "\n",
    "$$ \\hat{H} = -t \\sum_{i\\sigma} \\left(\\hat{c}_{i\\sigma}^\\dagger \\hat{c}_{i+1\\sigma} + h.c.\\right) + U\\sum_i \\hat{n}_{i\\uparrow }\\hat{n}_{i\\downarrow} - \\mu\\sum_{i\\sigma} \\hat{n}_{i\\sigma }$$\n",
    "\n",
    "where we will consider the case of $t = 1$, $U = 4$, $\\mu = U/2$, and a chain consisting of $N=100$ sites."
   ]
  },
  {
   "cell_type": "markdown",
   "metadata": {},
   "source": [
    "### Contents"
   ]
  },
  {
   "cell_type": "markdown",
   "metadata": {},
   "source": [
    "\n",
    "1. [Importing the Package](#importing-the-package)\n",
    "\n",
    "2. [Setting up the System and Hamiltonian](#setting-up-the-system-and-hamiltonian)\n",
    "\n",
    "3. [Preparing the Initial Wavefunction](#preparing-the-initial-wavefunction)\n",
    "\n",
    "4. [Preparing the sop_operator Representation of the Hamiltonian](#preparing-the-sop_operator-hamiltonian)\n",
    "\n",
    "5. [Setting up and Performing the DMRG Loop](#setting-up-and-performing-the-dmrg-loop)\n"
   ]
  },
  {
   "cell_type": "markdown",
   "metadata": {},
   "source": [
    "### Importing the Package"
   ]
  },
  {
   "cell_type": "markdown",
   "metadata": {},
   "source": [
    "We start by importing the required modules for this example"
   ]
  },
  {
   "cell_type": "code",
   "execution_count": 10,
   "metadata": {},
   "outputs": [],
   "source": [
    "import os\n",
    "os.environ['OMP_NUM_THREADS']='1'\n",
    "\n",
    "import numpy as np\n",
    "import matplotlib.pyplot as plt \n",
    "%matplotlib inline\n",
    "\n",
    "import pyttn\n",
    "from pyttn.utils import visualise_tree"
   ]
  },
  {
   "cell_type": "markdown",
   "metadata": {},
   "source": [
    "### Setting up the System and Hamiltonian\n",
    "\n",
    "We start by setting up the `system_modes` object that tells pyTTN the type of operators to expect, and local Hilbert space dimension associated with each mode.  Here we have a total of $N=100$ Fermion sites, each with two spin degrees of Freedom.  In this example, we will work with a Fermion ordering of the form $\\{1\\uparrow, 1\\downarrow, 2\\uparrow, 2\\downarrow, \\dots, N\\uparrow, N\\downarrow \\}$, and combine the two spin orbitals for each site into a physical degree of freedom.  \n",
    "\n",
    "Within pyTTN, this can readily be done by setting the value of the system_modes object to be a composite mode as shown below:"
   ]
  },
  {
   "cell_type": "code",
   "execution_count": 11,
   "metadata": {},
   "outputs": [],
   "source": [
    "# Define number of modes\n",
    "Norb = 100\n",
    "Nsorb = Norb*2\n",
    "\n",
    "# Initialise system information variable as a set of N modes\n",
    "sysinf = pyttn.system_modes(Norb)\n",
    "\n",
    "# Specify that each mode is a two level system\n",
    "for i in range(Norb):\n",
    "    sysinf[i] = [pyttn.fermion_mode(), pyttn.fermion_mode()]"
   ]
  },
  {
   "cell_type": "markdown",
   "metadata": {},
   "source": [
    "We now prepare the system Hamiltonian through the use of the `SOP` class.  This makes use of a string representation of the Hamiltonian, that is later converted into a form necessary for performing calculations.  For more details on the generation of operators see the [tutorial on operator generation](file/../operator_generation.ipynb).\n",
    "\n",
    "Now when specifying the Hamiltonian, we need to be aware of the selected Fermion ordering.  Here we are using the ordering $\\{1\\uparrow, 1\\downarrow, 2\\uparrow, 2\\downarrow, \\dots, N\\uparrow, N\\downarrow \\}$."
   ]
  },
  {
   "cell_type": "code",
   "execution_count": 12,
   "metadata": {},
   "outputs": [],
   "source": [
    "t = 1.0\n",
    "U = 4.0\n",
    "mu = U/2\n",
    "\n",
    "#set up the system Hamiltonian\n",
    "H = pyttn.SOP(Nsorb)\n",
    "\n",
    "#add on the hopping terms\n",
    "for i in range(Norb-1):\n",
    "\n",
    "    #the hopping terms for up spins\n",
    "    H += -t*(pyttn.fOP(\"cdag\", 2*i)*pyttn.fOP(\"c\", 2*(i+1)) + pyttn.fOP(\"cdag\", 2*(i+1))*pyttn.fOP(\"c\", 2*i))\n",
    "\n",
    "    #the hopping terms for down spins\n",
    "    H += -t*(pyttn.fOP(\"cdag\", 2*i+1)*pyttn.fOP(\"c\", 2*(i+1)+1) + pyttn.fOP(\"cdag\", 2*(i+1)+1)*pyttn.fOP(\"c\", 2*i+1))\n",
    "\n",
    "\n",
    "#now add density-density interactions\n",
    "for i in range(Norb):\n",
    "    H += U*pyttn.fOP(\"n\", 2*i)*pyttn.fOP(\"n\", 2*i+1) - mu*(pyttn.fOP(\"n\", 2*i) + pyttn.fOP(\"n\", 2*i+1))\n"
   ]
  },
  {
   "cell_type": "markdown",
   "metadata": {},
   "source": [
    "This has defined the Hamiltonian in terms of Fermionic operators.  In order to perform DMRG calculations, it is first necessary to encode this onto Pauli operators.  Within pyTTN, this can be done using a Jordan-Wigner mapping as follows, which introduces Jordan-wigner strings as required."
   ]
  },
  {
   "cell_type": "code",
   "execution_count": 13,
   "metadata": {},
   "outputs": [],
   "source": [
    "#finally we Jordan-Wigner map this operator.  In order to handle the fermion exchange statistics\n",
    "H = H.jordan_wigner(sysinf)"
   ]
  },
  {
   "cell_type": "markdown",
   "metadata": {},
   "source": [
    "### Preparing the Initial Wavefunction"
   ]
  },
  {
   "cell_type": "markdown",
   "metadata": {},
   "source": [
    "We now prepare the initial wavefunction.  This requires a two-step process, first we define the tree topology to use for this calculation through the use of the `ntree` class (which for this example we choose to be an MPS), following which we construct the `ttn` object that actually represents the wavefunction.  In this example we intend to use a subspace expansion based in order to expand bond dimension throughout the DMRG loop.  In order to do this, we define an additional `ntree` object with the same structure but different values defining the maximum allowed dimension of any bond in the network.  For more details one the construct of tree topologies see the [tutorial on tree topologies](file/../tree_topologies.ipynb). \n"
   ]
  },
  {
   "cell_type": "code",
   "execution_count": 14,
   "metadata": {},
   "outputs": [],
   "source": [
    "# Initial bond dimension\n",
    "chi = 4\n",
    "\n",
    "#maximum bond dimension\n",
    "chi_max = 128\n",
    "\n",
    "# Vector of dimensions of the local Hilbert space in the physical nodes\n",
    "dims = sysinf.mode_dimensions()\n",
    "\n",
    "#now construct an ntree object storing the MPS topology using the ntreeBuilder class\n",
    "topo = pyttn.ntreeBuilder.mps_tree(dims, chi)\n",
    "capacity = pyttn.ntreeBuilder.mps_tree(dims, chi_max)\n",
    "\n",
    "#now allocate the wavefunction object.  And allocate it so that each tensor is filled with random values\n",
    "A = pyttn.ttn(topo, capacity, dtype=np.complex128)\n",
    "A.random()"
   ]
  },
  {
   "cell_type": "markdown",
   "metadata": {},
   "source": [
    "When creating the `ttn` object, tensors will be constructed with the sizes defined in `topo` but with enough space allocated to store the tensors defined in `capacity`.  "
   ]
  },
  {
   "cell_type": "markdown",
   "metadata": {},
   "source": [
    "### Preparing the `sop_operator` Hamiltonian"
   ]
  },
  {
   "cell_type": "markdown",
   "metadata": {},
   "source": [
    "Now before we are ready to set up and perform the DMRG loop, we first need to convert the Hamiltonian into a form that can be used to efficiently within the DMRG algorithm.  Within pyTTN, two formats are supported for the Hamiltonian:\n",
    "\n",
    "1. the Sum-of-Product operator representation\n",
    "2. the Hierarchical Sum-of-Product operator representation \n",
    "\n",
    "With the Sum-of-Product operator representation being the standard form used in ML-MCTDH calculations and the Hierarchical Sum-of-Product operator representation being equivalent to a sparse tensor representation of a Tree Tensor Network Operator.  Within pyTTN, both types of operator are handled with the same objects, namely the `sop_operator`.  The user can select between these two operator representations through the use of the compress variable with:\n",
    "\n",
    "- `compress=False` leading to the construction of a Sum-of-Product operator\n",
    "- `compress=True` leading to the construction of a Hierarchical Sum-of-Product operator.\n",
    "\n",
    "By default calls to `sop_operator` will lead to the construction of Hierarchical Sum-of-Product operators."
   ]
  },
  {
   "cell_type": "code",
   "execution_count": 15,
   "metadata": {},
   "outputs": [],
   "source": [
    "h = pyttn.sop_operator(H, A, sysinf, compress=True)"
   ]
  },
  {
   "cell_type": "markdown",
   "metadata": {},
   "source": [
    "### Setting up and Performing the DMRG Loop"
   ]
  },
  {
   "cell_type": "markdown",
   "metadata": {},
   "source": [
    "Now we can have everything we need to set up all of the objects required to perform the DMRG loop.  Here we set up DMRG with the use of subspace expansion to expand bond dimensions throughout the update steps. Here we will do a coarse loop with a relatively low threshold for subspace expansion before performing a series of more, tightly converged steps."
   ]
  },
  {
   "cell_type": "code",
   "execution_count": 16,
   "metadata": {},
   "outputs": [],
   "source": [
    "#set up the DMRG sweeping object to \n",
    "sweep = pyttn.dmrg(A, h, krylov_dim = 8, expansion='subspace', subspace_krylov_dim=12, subspace_neigs=6)\n",
    "\n",
    "#set up the subspace expansion parameters.  Here we expand bond dimension whenever a term in the \n",
    "#two-site energy variance (that is not captured within the single-site spaces) has singular value > threshold\n",
    "#and do not use natural populations to determine whether to spawn additional basis functions.\n",
    "threshold = [1e-2, 1e-2, 1e-2, 1e-3, 1e-3, 1e-4, 1e-4, 1e-4, 1e-4, 1e-6, 1e-6, 1e-8, 1e-8, 1e-8, 1e-8]\n",
    "sweep.minimum_unoccupied=0"
   ]
  },
  {
   "cell_type": "markdown",
   "metadata": {},
   "source": [
    "Now we perform the sweep setting the spawning threshold at each step in the loop"
   ]
  },
  {
   "cell_type": "code",
   "execution_count": 17,
   "metadata": {},
   "outputs": [
    {
     "name": "stdout",
     "output_type": "stream",
     "text": [
      "1 -2.555900950833639 8\n",
      "2 -2.562434021508975 8\n",
      "3 -2.5633760901371465 8\n",
      "4 -2.5663149345530503 15\n",
      "5 -2.567896751616524 19\n",
      "6 -2.5688534906872316 26\n",
      "7 -2.5695197142922286 31\n",
      "8 -2.569725383078926 33\n",
      "9 -2.569816876093405 35\n",
      "10 -2.5695488009075067 45\n",
      "11 -2.5696973727303756 54\n",
      "12 -2.5695043282061643 65\n",
      "13 -2.569844816476963 75\n",
      "14 -2.5698344829848874 86\n",
      "15 -2.569892704894183 98\n"
     ]
    }
   ],
   "source": [
    "for i in range(len(threshold)):\n",
    "    sweep.spawning_threshold = threshold[i]\n",
    "\n",
    "    #perform the DMRG step\n",
    "    sweep(A, h)\n",
    "\n",
    "    #and print out the energy per site for the sweep\n",
    "    print(i+1, np.real(sweep.E()/Norb), A.maximum_bond_dimension(), flush=True)"
   ]
  },
  {
   "cell_type": "markdown",
   "metadata": {},
   "source": [
    "Now finally, we will visualise what the subspace expansion scheme has done to the bond dimension of the TTN, using the `visualise_tree` function."
   ]
  },
  {
   "cell_type": "code",
   "execution_count": 18,
   "metadata": {},
   "outputs": [
    {
     "data": {
      "image/png": "[encoded data removed]",
      "text/plain": [
       "<Figure size 640x480 with 1 Axes>"
      ]
     },
     "metadata": {},
     "output_type": "display_data"
    }
   ],
   "source": [
    "visualise_tree(A, bond_prop=\"bond dimension\", node_size=0)\n",
    "plt.show()"
   ]
  }
 ],
 "metadata": {
  "kernelspec": {
   "display_name": ".venv",
   "language": "python",
   "name": "python3"
  },
  "language_info": {
   "codemirror_mode": {
    "name": "ipython",
    "version": 3
   },
   "file_extension": ".py",
   "mimetype": "text/x-python",
   "name": "python",
   "nbconvert_exporter": "python",
   "pygments_lexer": "ipython3",
   "version": "3.12.3"
  }
 },
 "nbformat": 4,
 "nbformat_minor": 2
}
