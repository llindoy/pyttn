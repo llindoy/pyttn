{
 "cells": [
  {
   "cell_type": "markdown",
   "metadata": {},
   "source": [
    "# Operations with Tree Tensor Networks"
   ]
  },
  {
   "cell_type": "markdown",
   "metadata": {},
   "source": [
    "Import libraries"
   ]
  },
  {
   "cell_type": "code",
   "execution_count": 1,
   "metadata": {},
   "outputs": [],
   "source": [
    "import numpy as np\n"
   ]
  },
  {
   "cell_type": "markdown",
   "metadata": {},
   "source": [
    "Import PyTTN dependencies"
   ]
  },
  {
   "cell_type": "code",
   "execution_count": 2,
   "metadata": {},
   "outputs": [],
   "source": [
    "from pyttn import *\n"
   ]
  },
  {
   "cell_type": "markdown",
   "metadata": {},
   "source": [
    "### Contents"
   ]
  },
  {
   "cell_type": "markdown",
   "metadata": {},
   "source": [
    "\n",
    "1. [Preparation](#preparation)\n",
    "\n",
    "    - [Preparing Tree Tensor Networks](#prepare-tree-tensor-network)\n",
    "\n",
    "    - [Set Initial State of TTN](#set-initial-state-of-ttn)\n",
    "\n"
   ]
  },
  {
   "cell_type": "markdown",
   "metadata": {},
   "source": [
    "### Preparation"
   ]
  },
  {
   "cell_type": "markdown",
   "metadata": {},
   "source": [
    "##### Prepare Tree Tensor Network"
   ]
  },
  {
   "cell_type": "markdown",
   "metadata": {},
   "source": [
    "To prepare a Tree Tensor Network, it is necessary to set up the topology of the tree. There is a detailed guide on how to do this in the tutorial [tree_generation.ipynb](files/../tree_topologies.ipynb)."
   ]
  },
  {
   "cell_type": "code",
   "execution_count": 3,
   "metadata": {},
   "outputs": [
    {
     "name": "stdout",
     "output_type": "stream",
     "text": [
      "ntree : (1(8(8(8(10(15))(10(15)))(10(15)))(8(10(15))(10(15))))(8(8(8(10(15))(10(15)))(10(15)))(8(10(15))(10(15)))));\n",
      "\n"
     ]
    }
   ],
   "source": [
    "# Number of physical degrees of freedom\n",
    "N = 10\n",
    "\n",
    "# Maximum bond dimension\n",
    "chi = 8\n",
    "\n",
    "# Vector of dimensions of the local Hilbert space in the physical nodes\n",
    "dims = [15 for _ in range(N)]\n",
    "\n",
    "# Vector of dimensions of the basis transformation nodes\n",
    "basis_nodes_dims = [10 for _ in range(N)]\n",
    "\n",
    "# Max number of child nodes for each node. Always larger than 1\n",
    "degree = 2\n",
    "\n",
    "\n",
    "# Set up the tree topology\n",
    "topo = ntreeBuilder.mlmctdh_tree(dims, degree, chi, basis_nodes_dims)\n",
    "print(topo)"
   ]
  },
  {
   "cell_type": "markdown",
   "metadata": {},
   "source": [
    "And from it, create the Tree Tensor Network:"
   ]
  },
  {
   "cell_type": "code",
   "execution_count": 4,
   "metadata": {},
   "outputs": [],
   "source": [
    "A = ttn(topo, dtype = np.complex128)"
   ]
  },
  {
   "cell_type": "markdown",
   "metadata": {},
   "source": [
    "This creates a tree tensor network, where the bond dimension between a node and a root is given by the integer connecting the node to the root.  In this example, we have constructed a TTN object, where each of the tensors in the Tree Tensor Network have been allocated with enough memory to exactly handle the specified bond dimensions.  When working with adaptive bond dimension techniques, pyTTN only perform bond dimension expansion provided the Tensor Network object has enough memory to store the expanded bond dimension tensors.  In order to allocate larger tensor than are required by the topology `ntree` object the `ttn` function also accepts an optional capacity `ntree` that will be used in allocating the tensor object:"
   ]
  },
  {
   "cell_type": "code",
   "execution_count": 5,
   "metadata": {},
   "outputs": [],
   "source": [
    "# Number of physical degrees of freedom\n",
    "N = 10\n",
    "\n",
    "# Bond dimension of State\n",
    "chi = 8\n",
    "\n",
    "#Maximum allowed bond dimension of state\n",
    "chi_capacity = 32\n",
    "\n",
    "# Vector of dimensions of the local Hilbert space in the physical nodes\n",
    "dims = [15 for _ in range(N)]\n",
    "\n",
    "# Vector of dimensions of the basis transformation nodes\n",
    "basis_nodes_dims = [10 for _ in range(N)]\n",
    "\n",
    "# Max number of child nodes for each node. Always larger than 1\n",
    "degree = 2\n",
    "\n",
    "\n",
    "# Set up the tree topology and tree capacity\n",
    "topo = ntreeBuilder.mlmctdh_tree(dims, degree, chi, basis_nodes_dims)\n",
    "capacity = ntreeBuilder.mlmctdh_tree(dims, degree, chi_capacity, basis_nodes_dims)\n",
    "\n",
    "# Allocate the tree tensor network object allowing for larger tensor than are required to store topo\n",
    "A = ttn(topo, capacity, dtype = np.complex128)"
   ]
  },
  {
   "cell_type": "markdown",
   "metadata": {},
   "source": [
    "When working with the resultant `ttn` object, the tensors will be treated as if they have the size defined in `topo`."
   ]
  },
  {
   "cell_type": "markdown",
   "metadata": {},
   "source": [
    "##### Set initial state of TTN"
   ]
  },
  {
   "cell_type": "markdown",
   "metadata": {},
   "source": [
    "There are several pre-defined functions to set the initial value of the Tree Tensor Network. A useful one is to initialise it to a random state.\n",
    "\n",
    "One can create different random state with different seeds. The function `set_seed()` takes an integer which is used as the seed of the random number generator."
   ]
  },
  {
   "cell_type": "code",
   "execution_count": 15,
   "metadata": {},
   "outputs": [
    {
     "name": "stdout",
     "output_type": "stream",
     "text": [
      "(4,0) 0 1 2 3 4 5 6 7 8 9\n"
     ]
    }
   ],
   "source": [
    "\n",
    "state = sepState([i for i in range(10)])\n",
    "print((2.0*state*2.0))"
   ]
  }
 ],
 "metadata": {
  "kernelspec": {
   "display_name": ".venv",
   "language": "python",
   "name": "python3"
  },
  "language_info": {
   "codemirror_mode": {
    "name": "ipython",
    "version": 3
   },
   "file_extension": ".py",
   "mimetype": "text/x-python",
   "name": "python",
   "nbconvert_exporter": "python",
   "pygments_lexer": "ipython3",
   "version": "3.12.3"
  }
 },
 "nbformat": 4,
 "nbformat_minor": 2
}
