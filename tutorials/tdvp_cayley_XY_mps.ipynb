{
 "cells": [
  {
   "cell_type": "markdown",
   "metadata": {},
   "source": [
    "# Spin Dynamics of an anisotropic XY model on a Cayley Tree"
   ]
  },
  {
   "cell_type": "markdown",
   "metadata": {},
   "source": [
    "A quick introduction on how to use pyTTN to perform calculations using Tree Tensor Network states.  In this tutorial we demonstrate how to use pyTTN to evaluate the real time spin-dynamics of an anisotropic XY model on a Cayley Tree.  Here we consider a Hamiltonian of the form:\n",
    "\n",
    "$$ \\hat{H} = \\sum_{\\langle i,j \\rangle}\\left( (1-\\eta)\\hat{S}_{xi}\\hat{S}_{xj}+(1+\\eta)\\hat{S}_{yi}\\hat{S}_{yj}\\right)  +\\sum_{i} \\hat{S}_{zi} $$\n",
    "\n",
    "In this example, we consider a depth 6 tree.  Due to the increased complexity of indexing a Cayley tree, this example highlights some more advanced features of the pyTTN library."
   ]
  },
  {
   "cell_type": "markdown",
   "metadata": {},
   "source": [
    "### Contents"
   ]
  },
  {
   "cell_type": "markdown",
   "metadata": {},
   "source": [
    "\n",
    "1. [Importing the Package](#importing-the-package)\n",
    "\n",
    "2. [Setting up the System and Hamiltonian](#setting-up-the-system-and-hamiltonian)\n",
    "\n",
    "3. [Preparing the Initial Wavefunction](#preparing-the-initial-wavefunction)\n",
    "\n",
    "4. [Preparing the `sop_operator` Representation of the Hamiltonian](#preparing-the-sop_operator-hamiltonian)\n",
    "\n",
    "5. [Setting up Observables](#setting-up-observables)\n",
    "\n",
    "6. [Setting up and Performing Time Evolution](#setting-up-and-performing-time-evolution)\n"
   ]
  },
  {
   "cell_type": "markdown",
   "metadata": {},
   "source": [
    "### Importing the Package"
   ]
  },
  {
   "cell_type": "markdown",
   "metadata": {},
   "source": [
    "We start by importing the required modules for this example"
   ]
  },
  {
   "cell_type": "code",
   "execution_count": 1,
   "metadata": {},
   "outputs": [],
   "source": [
    "import os\n",
    "os.environ['OMP_NUM_THREADS']='1'\n",
    "\n",
    "import numpy as np\n",
    "import matplotlib.pyplot as plt \n",
    "%matplotlib inline\n",
    "\n",
    "import pyttn\n",
    "from pyttn.utils import visualise_tree"
   ]
  },
  {
   "cell_type": "markdown",
   "metadata": {},
   "source": [
    "### Setting up the System and Hamiltonian\n",
    "\n",
    "We start by setting up the `system_modes` object that tells pyTTN the type of operators to expect, and local Hilbert space dimension associated with each mode.  For the case of a depth 6 Cayley tree of degree 3, we have a asystem containing a total of $N=94$ spin-$\\frac{1}{2}$.  The system can readily be set up as follows"
   ]
  },
  {
   "cell_type": "code",
   "execution_count": 2,
   "metadata": {},
   "outputs": [],
   "source": [
    "#function for computing the number of sites in a Cayley Tree containing a specific number of layers\n",
    "def cayley_sites(NL, degree):\n",
    "    ret = 0\n",
    "    for i in range(NL):\n",
    "        if i == 0:\n",
    "            ret += 1\n",
    "        else: \n",
    "            ret += degree*(degree-1)**(i-1)\n",
    "    return ret\n",
    "\n",
    "\n",
    "depth=7\n",
    "degree=3\n",
    "\n",
    "\n",
    "# Define number of modes\n",
    "N = cayley_sites(depth, degree)\n",
    "\n",
    "# Initialise system information variable as a set of N modes\n",
    "sysinf = pyttn.system_modes(N)\n",
    "\n",
    "# Specify that each mode is a two level system\n",
    "for i in range(N):\n",
    "    sysinf[i] = pyttn.spin_mode(2)"
   ]
  },
  {
   "cell_type": "markdown",
   "metadata": {},
   "source": [
    "We now prepare the system Hamiltonian through the use of the `SOP` class.  This makes use of a string representation of the Hamiltonian, that is later converted into a form necessary for performing calculations.  For more details on the generation of operators see the [tutorial on operator generation](file/../operator_generation.ipynb).  Here we first introduce some a function that constructs an ntree with the connectivity of the Cayley tree and returns a connectivity graph of the network"
   ]
  },
  {
   "cell_type": "code",
   "execution_count": 3,
   "metadata": {},
   "outputs": [],
   "source": [
    "\n",
    "def get_cayley_connectivity(depth, degree, chi=1):\n",
    "    def get_nskip(layer):\n",
    "        ret = 0\n",
    "        for i in range(layer):\n",
    "            if i == 0:\n",
    "                ret += 1\n",
    "            else: \n",
    "                ret += degree*(degree-1)**(i-1)\n",
    "        return ret\n",
    "\n",
    "    #unpacks the cayley tree index into a single integer\n",
    "    def get_index(ind):\n",
    "        if len(ind) == 0:\n",
    "            return 0\n",
    "        else:\n",
    "            #figure out how many terms are in the Cayley tree of the given size\n",
    "            c = get_nskip(len(ind))\n",
    "            ns = [(degree-1)**i for i in reversed(range(len(ind)))]\n",
    "\n",
    "            for i in range(len(ind)):\n",
    "                c += ind[i]*ns[i]\n",
    "            return c\n",
    "\n",
    "    #insert the root node into the ntree\n",
    "    topo = pyttn.ntree('(1)')\n",
    "\n",
    "    inds = []\n",
    "\n",
    "    #now build each of the Layers around the tree\n",
    "    if depth-1 > 0:\n",
    "        #add the first layer\n",
    "        x = get_index([])\n",
    "        for i in range(degree):\n",
    "            y = get_index([i])\n",
    "            inds.append([x, y])\n",
    "            topo().insert(chi)\n",
    "\n",
    "        #now attempt to add all other layers to the tree\n",
    "        for layer in range(1, depth-1):\n",
    "            #get all of the leaves of the the tree with the current number of layers\n",
    "            leaf_indices = topo.leaf_indices()\n",
    "\n",
    "            #now iterate over each leaf and add its children\n",
    "            for li in leaf_indices:\n",
    "                x = get_index(li)\n",
    "                for i in range(degree-1):\n",
    "                    topo.at(li).insert(chi)\n",
    "                    y = get_index(li + [i])\n",
    "                    inds.append([x, y])\n",
    "    \n",
    "    return inds, topo\n",
    "\n"
   ]
  },
  {
   "cell_type": "markdown",
   "metadata": {},
   "source": [
    "Now we actually go ahead and set up the Hamiltonian"
   ]
  },
  {
   "cell_type": "code",
   "execution_count": 4,
   "metadata": {},
   "outputs": [],
   "source": [
    "eta = 0.04\n",
    "\n",
    "#get properties of the cayley tree\n",
    "inds, topo = get_cayley_connectivity(depth, degree)\n",
    "\n",
    "#set up the system Hamiltonian\n",
    "H = pyttn.SOP(N)\n",
    "\n",
    "#add on the onsite fields\n",
    "for i in range(N):\n",
    "    H += pyttn.sOP(\"sz\", i)\n",
    "\n",
    "for ind in inds:\n",
    "    H += (1-eta)*pyttn.sOP(\"sx\", ind[0])*pyttn.sOP(\"sx\", ind[1])\n",
    "    H += (1+eta)*pyttn.sOP(\"sy\", ind[0])*pyttn.sOP(\"sy\", ind[1])\n",
    "\n"
   ]
  },
  {
   "cell_type": "markdown",
   "metadata": {},
   "source": [
    "### Preparing the Initial Wavefunction"
   ]
  },
  {
   "cell_type": "markdown",
   "metadata": {},
   "source": [
    "We now prepare the initial wavefunction.  This requires a two-step process, first we define the tree topology to use for this calculation through the use of the `ntree` class (which for this example we choose to be an MPS), following which we construct the `ttn` object that actually represents the wavefunction.  In this example we intend to use a subspace expansion based in order to expand bond dimension throughout the TDVP loop.  In order to do this, we define an additional `ntree` object with the same structure but different values defining the maximum allowed dimension of any bond in the network.  For more details one the construct of tree topologies see the [tutorial on tree topologies](file/../tree_topologies.ipynb). \n"
   ]
  },
  {
   "cell_type": "code",
   "execution_count": 5,
   "metadata": {},
   "outputs": [],
   "source": [
    "# Initial bond dimension\n",
    "chi = 2\n",
    "\n",
    "#maximum bond dimension\n",
    "chi_max = 128\n",
    "\n",
    "# Vector of dimensions of the local Hilbert space in the physical nodes\n",
    "dims = sysinf.mode_dimensions()\n",
    "dims = sysinf.mode_dimensions()\n",
    "\n",
    "#now construct an ntree object storing the MPS topology using the ntreeBuilder class\n",
    "topo = pyttn.ntreeBuilder.mps_tree(dims, chi)\n",
    "capacity = pyttn.ntreeBuilder.mps_tree(dims, chi_max)\n",
    "\n",
    "#now allocate the wavefunction object.  And allocate it so that each tensor is filled with random values\n",
    "A = pyttn.ttn(topo, capacity, dtype=np.complex128)\n",
    "\n",
    "#and set up the system to be in the state where all spins are down except for the central spin which is up.\n",
    "state = [0 for i in range(N)]\n",
    "state[0] = 1\n",
    "A.set_state(state)"
   ]
  },
  {
   "cell_type": "markdown",
   "metadata": {},
   "source": [
    "When creating the `ttn` object, tensors will be constructed with the sizes defined in `topo` but with enough space allocated to store the tensors defined in `capacity`.  "
   ]
  },
  {
   "cell_type": "markdown",
   "metadata": {},
   "source": [
    "### Preparing the `sop_operator` Hamiltonian"
   ]
  },
  {
   "cell_type": "markdown",
   "metadata": {},
   "source": [
    "Now before we are ready to set up and perform the TDVP loop, we first need to convert the Hamiltonian into a form that can be used to efficiently within the TDVP algorithm.  Here we set the Hamiltonian up as a Hierarchical Sum-of-Product operator by using the default call to sop_operator. "
   ]
  },
  {
   "cell_type": "code",
   "execution_count": null,
   "metadata": {},
   "outputs": [],
   "source": [
    "h = pyttn.sop_operator(H, A, sysinf)\n"
   ]
  },
  {
   "cell_type": "markdown",
   "metadata": {},
   "source": [
    "### Setting up Observables"
   ]
  },
  {
   "cell_type": "markdown",
   "metadata": {},
   "source": [
    "In order to extract the spin-dynamics from this system we need to set up a set of observables to monitor.  Here we will do this by constructing a set of operators defining the average magnetisation associated with each Layer of the Cayley tree.  Additionally, we need to define the `matrix_element` object that will be used for evaluating the actual expectation values."
   ]
  },
  {
   "cell_type": "code",
   "execution_count": 7,
   "metadata": {},
   "outputs": [],
   "source": [
    "#set up the observables of interest\n",
    "ops = []\n",
    "#add on the central spin magnetisation operator\n",
    "ops.append(pyttn.site_operator(pyttn.sOP(\"sz\", 0), sysinf))\n",
    "\n",
    "linds = [cayley_sites(i,degree) for i in range(depth)]\n",
    "\n",
    "#for each other layer\n",
    "for i in range(depth-1):\n",
    "\n",
    "    #construct the SOP containing the average magnetisation of the layer\n",
    "    opS = pyttn.SOP(N)\n",
    "    for ind in range(linds[i], linds[i+1]):\n",
    "        opS += (1.0/(linds[i+1]-linds[i]))*pyttn.sOP(\"sz\", ind)\n",
    "\n",
    "    #and append this to the ops array as a sop_operator.\n",
    "    ops.append(pyttn.sop_operator(opS, A, sysinf))\n",
    "\n",
    "\n",
    "#set up the matrix element evaluation code\n",
    "mel = pyttn.matrix_element(A)"
   ]
  },
  {
   "cell_type": "markdown",
   "metadata": {},
   "source": [
    "### Setting up and Performing Time Evolution"
   ]
  },
  {
   "cell_type": "markdown",
   "metadata": {},
   "source": [
    "Now we can have everything we need to set up all of the objects required to perform the TDVP loop.  Here we set up TDVP with the use of subspace expansion to expand bond dimensions throughout the update steps. "
   ]
  },
  {
   "cell_type": "code",
   "execution_count": 8,
   "metadata": {},
   "outputs": [],
   "source": [
    "#set up parameters for the time evolution\n",
    "dt = 0.05\n",
    "nstep = 150\n",
    "\n",
    "observables = np.zeros((len(ops), nstep+1))\n",
    "\n",
    "#set up the TDVP sweeping object.  Here we use subspace expansion evaluating the 6 largest eigenvalues of\n",
    "#the two site energy variance using a krylov subspace of dimension 12.\n",
    "sweep = pyttn.tdvp(A, h, krylov_dim=16,  expansion='subspace', subspace_neigs = 6, subspace_krylov_dim=12)\n",
    "\n",
    "#set up the subspace expansion parameters.  Here we expand bond dimension whenever a term in the \n",
    "#two-site energy variance (that is not captured within the single-site spaces) has singular value > 1e-5, \n",
    "#and do not use natural populations to determine whether to spawn additional basis functions.\n",
    "sweep.spawning_threshold = 1e-6\n",
    "sweep.unoccupied_threshold = 1e-6\n",
    "sweep.minimum_unoccupied=2\n",
    "\n",
    "#integration timestep \n",
    "sweep.dt = dt\n",
    "sweep.coefficient = -1.0j"
   ]
  },
  {
   "cell_type": "markdown",
   "metadata": {},
   "source": [
    "Now we have everything needed to perform the TDVP loop.  Here we now perform all of the required time evolution steps."
   ]
  },
  {
   "cell_type": "code",
   "execution_count": 9,
   "metadata": {},
   "outputs": [
    {
     "name": "stdout",
     "output_type": "stream",
     "text": [
      "150 52                                  48                                 \r"
     ]
    }
   ],
   "source": [
    "for c in range(len(ops)):\n",
    "    observables[c, 0] = np.real(mel(ops[c], A))\n",
    "\n",
    "for i in range(nstep):\n",
    "    #perform the TDVP step\n",
    "    sweep(A, h)\n",
    "\n",
    "    #and print out the energy of the A tensor for the sweep\n",
    "    print(i+1, A.maximum_bond_dimension(), end='                                 \\r', flush=True)\n",
    "    for c in range(len(ops)):\n",
    "        observables[c, i+1] = np.real(mel(ops[c], A))"
   ]
  },
  {
   "cell_type": "markdown",
   "metadata": {},
   "source": [
    "Now that we have computed the dynamics, we can plot the results:"
   ]
  },
  {
   "cell_type": "code",
   "execution_count": 10,
   "metadata": {},
   "outputs": [
    {
     "data": {
      "image/png": "[encoded data removed]",
      "text/plain": [
       "<Figure size 640x480 with 1 Axes>"
      ]
     },
     "metadata": {},
     "output_type": "display_data"
    }
   ],
   "source": [
    "t = np.arange(nstep+1)*dt\n",
    "for c in range(len(ops)):\n",
    "    plt.plot(t, observables[c, :], label=r'$L='+str(c+1)+'$')\n",
    "plt.xlabel(r\"$t$\")\n",
    "plt.ylabel(r'$\\left\\langle S_z^L(t) \\right\\rangle$')\n",
    "plt.legend()\n",
    "plt.show()"
   ]
  },
  {
   "cell_type": "markdown",
   "metadata": {},
   "source": [
    "Now finally, we will visualise what the subspace expansion scheme has done to the bond dimension of the TTN, using the `visualise_tree` function."
   ]
  },
  {
   "cell_type": "code",
   "execution_count": 11,
   "metadata": {},
   "outputs": [
    {
     "data": {
      "image/png": "[encoded data removed]",
      "text/plain": [
       "<Figure size 640x480 with 1 Axes>"
      ]
     },
     "metadata": {},
     "output_type": "display_data"
    }
   ],
   "source": [
    "visualise_tree(A, bond_prop=\"bond dimension\", node_size=0, label_all_bonds=False)\n",
    "plt.show()"
   ]
  }
 ],
 "metadata": {
  "kernelspec": {
   "display_name": ".venv",
   "language": "python",
   "name": "python3"
  },
  "language_info": {
   "codemirror_mode": {
    "name": "ipython",
    "version": 3
   },
   "file_extension": ".py",
   "mimetype": "text/x-python",
   "name": "python",
   "nbconvert_exporter": "python",
   "pygments_lexer": "ipython3",
   "version": "3.12.3"
  }
 },
 "nbformat": 4,
 "nbformat_minor": 2
}
