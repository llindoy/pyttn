{
 "cells": [
  {
   "cell_type": "markdown",
   "metadata": {},
   "source": [
    "Import libraries"
   ]
  },
  {
   "cell_type": "code",
   "execution_count": 1,
   "metadata": {},
   "outputs": [],
   "source": [
    "import numpy as np\n",
    "import time\n",
    "import h5py\n",
    "import scipy\n",
    "import copy\n",
    "from numba import jit"
   ]
  },
  {
   "cell_type": "markdown",
   "metadata": {},
   "source": [
    "Import PyTTN dependencies"
   ]
  },
  {
   "cell_type": "code",
   "execution_count": 2,
   "metadata": {},
   "outputs": [],
   "source": [
    "from pyttn import *\n",
    "from pyttn.utils import orthopol_discretisation\n",
    "from pyttn.utils import visualise_tree\n",
    "\n",
    "import sys\n",
    "sys.path.append(\"../examples/old/spin_boson_model/\")\n",
    "from chain_map import chain_map"
   ]
  },
  {
   "cell_type": "markdown",
   "metadata": {},
   "source": [
    "## Bath discretisation"
   ]
  },
  {
   "cell_type": "markdown",
   "metadata": {},
   "source": [
    "The spectral density of the continuous bath is given by: \n",
    "$\n",
    "J(\\omega) = \\text{sign}(\\omega) \\frac{\\pi}{2}\\alpha\\omega_c \\left(\\frac{\\omega}{\\omega_c}\\right)^s e^{-|\\omega/\\omega_c|}\n",
    "$.\n",
    "\n",
    "To obtain the bath spectral function, it is necessary to consider the effect of the Bose distribution at finite temperature:\n",
    "\n",
    "- At zero temperature, $S(\\omega) = J(\\omega) \\quad \\forall \\, \\omega > 0$\n",
    "\n",
    "- At finite temperature, $S(\\omega) = \\frac{1}{2} J(\\omega) \\left( 1 + \\frac{1}{\\text{tanh}(\\frac{\\beta \\omega}{2})} \\right)$\n",
    "\n",
    "The bath spectral function is discretised following an Orthogonal polynomial discretisation strategy (see [PRB 92, 155126 (2015)](https://journals.aps.org/prb/pdf/10.1103/PhysRevB.92.155126) for reference), which calculates the copulings and on-site terms for a discrete bath in a star configuration.\n",
    "\n",
    "The maximum frequency cutoff of the discretisation is set by $\\omega_{max}=$ `Nw`*$\\omega_c$.\n",
    "The effect of modes with frequency $\\omega_i > \\omega_{max}$ is approximated by performing a polaron transformation for these modes, and tracing them out in the resulting Hamiltonian. This gives rise to a renormalisation term `renorm` of the tunnelling matrix element $\\Delta$, which will be important later on when the Hamiltonian is initialised.\n",
    "\n",
    "A consequence of the Bose distribution is that, at finite temperature, $S(\\omega)$ will be non-zero for negative frequencies, as expected from thermo-field theory."
   ]
  },
  {
   "cell_type": "markdown",
   "metadata": {},
   "source": [
    "The function below discretises the bath in a star configuration. Its parameters are `Nb`, the number of bath modes; and `alpha`, `wc` and `s`, parameters of the spectral density. As optional parameters, one can specify `beta`, the inverse temperature; `Nw`, the parameter that sets maximum cutoff frequency; `atol`, the absolute tolerance of the discretisation; and `rtol`, the relative tolerance of the discretisation.\n",
    "\n",
    "The function returns `w`, the on-site frequencies $\\omega$ of boson bath; \n",
    "`g`, the couplings $g$ of the bosons to TLS; and\n",
    "`renorm`, the renormalisation constant."
   ]
  },
  {
   "cell_type": "code",
   "execution_count": 18,
   "metadata": {},
   "outputs": [],
   "source": [
    "def discretise_bath(Nb, alpha, wc, s, beta = None, Nw = 10, moment_scaling=2, atol=0, rtol=1e-10):\n",
    "    \n",
    "    # Exponential cutoff spectral density\n",
    "    @jit(nopython=True)\n",
    "    def J(w):\n",
    "        return np.abs(np.pi/2*alpha*wc*np.power(w/wc, s)*np.exp(-np.abs(w/wc)))*np.where(w > 0, 1.0, -1.0)\n",
    "\n",
    "    # Frequency-dependent bath spectral function\n",
    "    @jit(nopython=True)\n",
    "    def S(w):\n",
    "        # At zero temperature\n",
    "        if beta == None:\n",
    "            return J(w)*np.where(w > 0, 1.0, 0.0)\n",
    "        \n",
    "        # At finite temperature\n",
    "        else:\n",
    "            return J(w)*0.5*(1.0+1.0/np.tanh(beta*w/2.0))\n",
    "\n",
    "    # Set maximum cutoff frequency\n",
    "    wmax = Nw*wc\n",
    "\n",
    "    # Set minimum frequency: 0 at zero temperature, negative at finite temperature\n",
    "    wmin = 0\n",
    "    if beta != None:\n",
    "        wmin = -wmax/(beta*wc+1)\n",
    "\n",
    "    # Discretise the bath using the orthopol discretisation strategy\n",
    "    g, w = orthopol_discretisation.discretise(lambda x : S(x), wmin, wmax, Nb, moment_scaling=moment_scaling, atol=atol, rtol=rtol)\n",
    "\n",
    "    # Compute the polaron-transformed renormalisation of the truncated high frequency modes\n",
    "    renorm = np.exp(-2.0/np.pi*scipy.integrate.quad(lambda x : J(x)/(x*x), wmax, np.inf)[0])\n",
    "\n",
    "    return np.array(g), np.array(w), renorm"
   ]
  },
  {
   "cell_type": "markdown",
   "metadata": {},
   "source": [
    "## Hamiltonian preparation"
   ]
  },
  {
   "cell_type": "markdown",
   "metadata": {},
   "source": [
    "This section prepares the Hamiltonian as a `SOP object` (which stands for _\"Sum of OPerators\"_)\n",
    "that later will be converted into a Tree Tensor Network Operator (a TTNO). \n",
    "\n",
    "Each of the site operators in the Hamiltonian is initialised as a `sOP object` (which stands for _\"site OPerator\"_). The first parameter of `sOP()` specifies the kind of operator, and the second parameter indicates the site index where the operator acts on.\n",
    "\n",
    "Common operators used in this script are:\n",
    "- `sx` for spin operator $\\hat{S}_x = \\frac{\\hbar}{2} \\hat{\\sigma}_x$\n",
    "\n",
    "- `sz` for spin operator $\\hat{S}_z = \\frac{\\hbar}{2} \\hat{\\sigma}_z$\n",
    "\n",
    "- `a` for bosonic annihilation operator $\\hat{a}$\n",
    "\n",
    "- `adag` for bosonic creation operator $\\hat{a}^{\\dagger}$\n",
    "\n",
    "- `n` for bosonic number operator $\\hat{n} = \\hat{a}^{\\dagger}\\hat{a}$\n",
    "\n",
    "- `q` for bosonic position operator $\\hat{q} = \\frac{1}{\\sqrt{2}} \\left( \\hat{a} + \\hat{a}^{\\dagger} \\right)$\n",
    "\n",
    "For a detailed explanation of how to create Hamiltonians for spin and bosonic systems, read the [tutorial on operator generation](file/../operator_generation.ipynb).\n",
    "\n"
   ]
  },
  {
   "cell_type": "markdown",
   "metadata": {},
   "source": [
    "#### Star geometry"
   ]
  },
  {
   "cell_type": "markdown",
   "metadata": {},
   "source": [
    "The Hamiltonian of the Spin-Boson model in the star geometry may be written as\n",
    "\n",
    "$\n",
    "\\hat{{H}}_s=\\varepsilon\\hat{{\\sigma}}_{z}+\\Delta\\hat{{\\sigma}}_{x}+\\hat{{\\sigma}}_{z}\\sum_{k=1}^Ng_{k}(\\hat{{a}}_{k}^{\\dagger}+\\hat{{a}}_{k})+\\sum_{k=1}^N\\omega_{k}\\hat{{a}}_{k}^{\\dagger}\\hat{{a}}\n",
    "$,\n",
    "\n",
    "where $\\hat{{a}}_{k}^{\\dagger}$ and $\\hat{{a}_{k}}$ are the bosonic creation and annihilation operators associated with the $k$-th bath mode, and $\\hat{\\sigma}_x$ and $\\hat{\\sigma}_z$ are Pauli matrices."
   ]
  },
  {
   "cell_type": "markdown",
   "metadata": {},
   "source": [
    "The function below sets up the Hamiltonian with the bath discretised in a star configuration.\n",
    "\n",
    "The arguments `eps`, `delta`, `g` and `w` are parameters of Hamiltonian, encoding $\\varepsilon$, $\\Delta$, $\\vec{g}$ and $\\vec{\\omega}$. In particular, `g` and `w` are vectors containing the couplings $g_k$ and frequencies $\\omega_k$ of each bath mode.\n",
    "The argument `Nb` specifies the number of bath modes."
   ]
  },
  {
   "cell_type": "code",
   "execution_count": 19,
   "metadata": {},
   "outputs": [],
   "source": [
    "def setup_star_hamiltonian(eps, delta, g, w, Nb):\n",
    "    # Total number of particles (1 TLS + Nb bosons)\n",
    "    N = Nb+1\n",
    "\n",
    "    # Initialise H as SOP object (\"Sum of OPerators\")\n",
    "    H = SOP(N)\n",
    "\n",
    "    # Add on-site terms of TLS to Hamiltonian H\n",
    "    H += eps*sOP(\"sz\", 0)\n",
    "    H += delta*sOP(\"sx\", 0)\n",
    "\n",
    "    # Add on-site terms of bosons, and coupling of each boson with TLS\n",
    "    for i in range(Nb):\n",
    "        H += w[i] * sOP(\"n\", i+1)\n",
    "        H += np.sqrt(2)*g[i] * sOP(\"sz\", 0)  * sOP(\"q\", i+1)\n",
    "\n",
    "    return H, w"
   ]
  },
  {
   "cell_type": "markdown",
   "metadata": {},
   "source": [
    "#### Chain geometry"
   ]
  },
  {
   "cell_type": "markdown",
   "metadata": {},
   "source": [
    "##### 1. TEDOPA: Time Evolving Density matrix using Orthogonal Polynomials Algorithm"
   ]
  },
  {
   "cell_type": "markdown",
   "metadata": {},
   "source": [
    "One way to obtain the Hamiltonian in the chain configuration is to perform a unitary transformation on the bosonic modes of the Hamiltonian in star geometry. In particular, tridiagonalising the coupling matrix leads to a chain form of the spin-boson Hamiltonian, which is the central object employed within TEDOPA\n",
    "(see [Rosenbach et al., 2016](https://dspace.mit.edu/bitstream/handle/1721.1/108515/Rosenbach-2016-Efficient%20simulation.pdf)), which stands for _\"Time Evolving Density matrix using Orthogonal Polynomials Algorithm\"_.\n",
    "\n",
    "The resulting Hamiltonian for the Spin-Boson model has the form:\n",
    "\n",
    "$\n",
    "\\hat{{H}}_c=\\varepsilon\\hat{{\\sigma}}_{z}+\\Delta\\hat{{\\sigma}}_{x} +\\hat{{\\sigma}}_{z} \\kappa_{0}(\\hat{{a}}_{1}^{\\dagger} +\\hat{{a}}_{1}) +\\sum_{k=1}^N\\epsilon_{k}\\hat{{a}}_{k}^{\\dagger}\\hat{{a}}+\\sum_{k=1}^{N-1}t_k(\\hat{{a}}_{k}^{\\dagger}\\hat{a}_{k+1}+\\hat{a}_{k+1}^{\\dagger}\\hat{{a}}_{k})\n",
    "$,\n",
    "\n",
    "where $\\hat{{a}}_{k}^{\\dagger}$ and $\\hat{{a}_{k}}$ are the bosonic creation and annihilation operators associated with the $k$-th bath mode, and $\\hat{\\sigma}_x$ and $\\hat{\\sigma}_z$ are Pauli matrices. \n",
    "\n",
    "The coefficient $\\kappa_0$ accounts for the coupling between the spin and the bath of bosons; the $\\varepsilon_k$ are the on-site energies of each boson in the bath; and the nearest-neighbour hoppings $t_k$ indicate the coupling strength between the $k$-th and $(k+1)$-th modes in the bath."
   ]
  },
  {
   "cell_type": "markdown",
   "metadata": {},
   "source": [
    "The function below sets up the Hamiltonian with the bath discretised in a chain configuration, following the TEDOPA method.\n",
    "\n",
    "The arguments `eps`, `delta`, `g` and `w` are parameters of Hamiltonian, encoding $\\varepsilon$, $\\Delta$, $\\vec{g}$ and $\\vec{\\omega}$. In particular, `g` and `w` are vectors containing the couplings $g_k$ and frequencies $\\omega_k$ of each bath mode. **Note that** here $g_k$ and $\\omega_k$ are still the couplings in the star topology, and the function will calculate the appropriate couplings for the chain topology.\n",
    "The argument `Nb` specifies the number of bath modes.\n",
    "\n",
    "The function uses the external function `chain_map()` from\n",
    "[chain_map.py](file/../../examples/old/spin_boson_model/chain_map.py) to implement the unitary transformation that calculates the chain hoppings `t` and on-site energies `e` from the star couplings `g` and frequencies `w`.\n",
    "Note that $\\kappa_0 = t_0$."
   ]
  },
  {
   "cell_type": "code",
   "execution_count": 20,
   "metadata": {},
   "outputs": [],
   "source": [
    "def setup_chain_hamiltonian(eps, delta, g, w, Nb):\n",
    "    # Total number of particles (1 TLS + Nb bosons)\n",
    "    N = Nb+1\n",
    "\n",
    "    # Obtain hopping and on-site coefficients for bath in chain geometry,\n",
    "    # starting from g and w, the couplings and frequencies of bath in star configuration.\n",
    "    t, e = chain_map(g, w)\n",
    "\n",
    "    # Initialise H as SOP object (\"Sum of OPerators\")\n",
    "    H = SOP(N)\n",
    "\n",
    "    # Add on-site terms of TLS to Hamiltonian H\n",
    "    H += eps*sOP(\"sz\", 0)\n",
    "    H += delta*sOP(\"sx\", 0)\n",
    "\n",
    "    for i in range(Nb):\n",
    "        # Add coupling between spin and first boson in bath\n",
    "        if i == 0:\n",
    "            H += np.sqrt(2)*t[i]*sOP(\"sz\", 0) * sOP(\"q\", i+1)\n",
    "\n",
    "        # Add nearest-neighbour couplings between bosons in bath\n",
    "        else:\n",
    "            H += t[i]*sOP(\"adag\", i)*sOP(\"a\", i+1)  \n",
    "            H += t[i]*sOP(\"a\", i)*sOP(\"adag\", i+1) \n",
    "        \n",
    "        # Add on-site energies for bosons in bath\n",
    "        H += e[i] * sOP(\"n\", i+1)\n",
    "\n",
    "    return H, e"
   ]
  },
  {
   "cell_type": "markdown",
   "metadata": {},
   "source": [
    "##### 2. Time-dependent couplings in chain interaction picture"
   ]
  },
  {
   "cell_type": "markdown",
   "metadata": {},
   "source": [
    "Another way to obtain the Hamiltonian in the chain configuration may be to use a time-dependent transformation to the interaction picture of the chain Hamiltonian. The resulting Hamiltonian has the form:\n",
    "\n",
    "$\n",
    "\\hat{H}_{ic}(t) = e^{-i\\hat{H}_B t} \\hat{H}_{c} e^{i\\hat{H}_B t} = \\epsilon\\hat{{\\sigma}}_{z}+\\Delta\\hat{{\\sigma}}_{x}+\\hat{{\\sigma}}_{z}\\sum_{k}\\left( g_{k}(t)\\hat{{a}}_{k}^{\\dagger}+ g_k^*(t)\\hat{{a}}_{k} \\right)\n",
    "$,\n",
    "\n",
    "where $\\hat{{a}}_{k}^{\\dagger}$ and $\\hat{{a}_{k}}$ are the bosonic creation and annihilation operators associated with the $k$-th bath mode, and $\\hat{\\sigma}_x$ and $\\hat{\\sigma}_z$ are Pauli matrices. \n",
    "\n",
    "The time-dependent coefficient $g_{k}(t)$ can be expressed in terms of the star-bath on-site energy terms and the transformation matrix that takes the coupling matrix from the chain topology to the star topology (see [Nuomin et al., 2022](https://journals.aps.org/pra/abstract/10.1103/PhysRevA.105.032406) for reference)."
   ]
  },
  {
   "cell_type": "markdown",
   "metadata": {},
   "source": [
    "The function below sets up the Hamiltonian with the bath discretised in a chain configuration in the chain interaction picture.\n",
    "\n",
    "The arguments `eps`, `delta`, `g` and `w` are parameters of Hamiltonian, encoding $\\varepsilon$, $\\Delta$, $\\vec{g}$ and $\\vec{\\omega}$. In particular, `g` and `w` are vectors containing the couplings $g_k$ and frequencies $\\omega_k$ of each bath mode. **Note that** here $g_k$ and $\\omega_k$ are still the couplings in the star topology, and the function will calculate the appropriate time-dependent couplings $g_k(t)$.\n",
    "The argument `Nb` specifies the number of bath modes.\n",
    "\n",
    "The function uses the external function `chain_map()` from\n",
    "[chain_map.py](file/../../examples/spin_boson_model/chain_map.py) to implement the unitary transformation that calculates the chain hoppings `t`, on-site energies `e`, and a unitary transformation matrix `U` that converts a bath from star to chain configuration, from the star couplings `g` and frequencies `w`."
   ]
  },
  {
   "cell_type": "markdown",
   "metadata": {},
   "source": [
    "A significant part of the algorithm is the class `func_class`, which allows to implement the time-dependent coefficients. It is defined with the initial value of the parameter `e0`, the index of the mode `i`, the unitary transformation matrix `U0`, and `t0=t[0]` the coupling between bath and spin system. The object takes the parameter `e` and applies the time evolution, internally keeping track of time, and thus implementing time-dependent coefficients.\n",
    "\n",
    "For a more detailed explanation on how to implement time-dependent coefficients, read the [tutorial on operator generation](files/../operator_generation.ipynb)."
   ]
  },
  {
   "cell_type": "code",
   "execution_count": 21,
   "metadata": {},
   "outputs": [],
   "source": [
    "def setup_ipchain_hamiltonian(eps, delta, g, w, Nb):\n",
    "    # Total number of particles (1 TLS + Nb bosons)\n",
    "    N = Nb+1\n",
    "\n",
    "    # Obtain hopping and on-site coefficients for bath in chain geometry,\n",
    "    # starting from g and w, the couplings and frequencies of bath in star configuration.\n",
    "    t, e, U = chain_map(g, w, return_unitary = True)\n",
    "    t0 = t[0]\n",
    "\n",
    "    # Initialise H as SOP object (\"Sum of OPerators\")\n",
    "    H = SOP(N)\n",
    "\n",
    "    # Add on-site terms of TLS to Hamiltonian H\n",
    "    H += eps*sOP(\"sz\", 0)\n",
    "    H += delta*sOP(\"sx\", 0)\n",
    "\n",
    "    # Define class for time-dependent coefficients\n",
    "    class func_class:\n",
    "        # Initialise parameters\n",
    "        def __init__(self, i, t0, e0, U0, conj = False):\n",
    "            self.i = i\n",
    "            self.conj=conj\n",
    "            self.t0 = t0\n",
    "            self.e = copy.deepcopy(e0)\n",
    "            self.U = copy.deepcopy(U0)\n",
    "\n",
    "        # Update to the coefficient value\n",
    "        def __call__(self, ti):\n",
    "            val = self.t0*np.conj(self.U[:, 0])@(np.exp(-1.0j*ti*self.e)*self.U[:, self.i])\n",
    "\n",
    "            if(self.conj):\n",
    "                val = np.conj(val)\n",
    "\n",
    "            return val\n",
    "\n",
    "    # Add time-dependent couplings in bath using func_class, defined above\n",
    "    for i in range(Nb):\n",
    "        H += coeff(func_class(i, t0, w, U, conj=False))*sOP(\"sz\", 0)*sOP(\"a\", i+1) \n",
    "        H += coeff(func_class(i, t0, w, U, conj=True ))*sOP(\"sz\", 0)*sOP(\"adag\", i+1)  \n",
    "\n",
    "    return H, e"
   ]
  },
  {
   "cell_type": "markdown",
   "metadata": {},
   "source": [
    "## Dynamics"
   ]
  },
  {
   "cell_type": "markdown",
   "metadata": {},
   "source": [
    "Specify parameters of the system"
   ]
  },
  {
   "cell_type": "code",
   "execution_count": 5,
   "metadata": {},
   "outputs": [],
   "source": [
    "# Number of bath modes\n",
    "Nb = 20\n",
    "\n",
    "# Dimension of Hilbert space of bath bosons\n",
    "nbose = 20\n",
    "\n",
    "# Parameters of the bath spectral function\n",
    "alpha = 1\n",
    "wc = 5\n",
    "s = 1\n",
    "\n",
    "# Geometry of the bath discretisation\n",
    "geom = 'star'\n",
    "\n",
    "# Parameters of Hamiltonian\n",
    "delta = 0\n",
    "eps = 1"
   ]
  },
  {
   "cell_type": "markdown",
   "metadata": {},
   "source": [
    "Specify parameters of the simulation"
   ]
  },
  {
   "cell_type": "code",
   "execution_count": 6,
   "metadata": {},
   "outputs": [],
   "source": [
    "# Bond dimension\n",
    "chi = 16\n",
    "\n",
    "# Time step for dynamics (TDVP algorithm)\n",
    "dt = 0.005\n",
    "\n",
    "# Filename to store results\n",
    "fname = 'sbm.h5'\n",
    "\n",
    "nstep = int(Nb/dt)+1"
   ]
  },
  {
   "cell_type": "markdown",
   "metadata": {},
   "source": [
    "The information about the dimensions of each element in the network is stored appropriately in the `sysinf` parameter.\n",
    "\n",
    "For each mode, `sysinf` defines the type of physical mode (spin, bosonic, fermionic, pauli, generic) and its dimensionality. The system uses this information whenever it generates site operators (to ensure they have the correct dimensionality) and also when constructing the network topology. For more information about defining the types of physical modes, read the [tutorial on operator generation](files/../operator_generation.ipynb)."
   ]
  },
  {
   "cell_type": "code",
   "execution_count": 7,
   "metadata": {},
   "outputs": [],
   "source": [
    "# Total number of particles (1 TLS + Nb bosons)\n",
    "N = Nb+1\n",
    "\n",
    "# Vector with dimensions of each bath mode\n",
    "mode_dims = [nbose for i in range(Nb)]\n",
    "#mode_dims = [min(max(4, int(wc*Ncut/l[i])), nbose) for i in range(Nb)]\n",
    "\n",
    "# Specify system information\n",
    "sysinf = system_modes(N)\n",
    "sysinf[0] = spin_mode(2)\n",
    "for i in range(Nb):\n",
    "    sysinf[i+1] = boson_mode(mode_dims[i])"
   ]
  },
  {
   "cell_type": "markdown",
   "metadata": {},
   "source": [
    "Discretise the bath."
   ]
  },
  {
   "cell_type": "code",
   "execution_count": 25,
   "metadata": {},
   "outputs": [],
   "source": [
    "g, w, renorm = discretise_bath(Nb, alpha, wc, s, beta=None, Nw=7.5)"
   ]
  },
  {
   "cell_type": "markdown",
   "metadata": {},
   "source": [
    "Initialise the Hamiltonian.\n",
    "\n",
    "Note the renormalisation `renorm` of the tunneling matrix element $\\Delta$."
   ]
  },
  {
   "cell_type": "code",
   "execution_count": 26,
   "metadata": {},
   "outputs": [],
   "source": [
    "H = None\n",
    "\n",
    "if geom  == 'chain':\n",
    "    H, l = setup_chain_hamiltonian(eps, delta*renorm, 2*g, w, Nb)\n",
    "elif geom == 'ipchain':\n",
    "    H, l = setup_ipchain_hamiltonian(eps, delta*renorm, 2*g, w, Nb)\n",
    "else:\n",
    "    H, l = setup_star_hamiltonian(eps, delta*renorm, 2*g, w, Nb)"
   ]
  },
  {
   "cell_type": "markdown",
   "metadata": {},
   "source": [
    "**Tree topology of the network**\n",
    "\n",
    "This section prepares the network topology using a syntactic notation and the PyTTN tree builder. For a detailed explanation on how to generate network topologies, read the [tutorial on tree generation](files/../tree_topologies.ipynb). The tree can be represented with the function `visualise_tree().\n",
    "\n",
    "In this section below, `topo` creates the initial node for the network, its root. It can be seen that the initial node has two subnodes: the first one will encode the spin system, and the second one will connect to the bath.\n",
    "Subsequent terms will be added to the second node (this is specified by `topo()[1]` in the code below).\n",
    "\n",
    "The variable `degree` specifies the order of TTN that encodes the bath. A `degree = 1` would represent the bath as a Matrix Product State (MPS) connected to the node on the right of `topo`. A `degree = 2` would represent the bath as a Binary Tree; a `degree = 3` would represent it as a Ternary Tree; and so on.\n"
   ]
  },
  {
   "cell_type": "code",
   "execution_count": 8,
   "metadata": {},
   "outputs": [
    {
     "name": "stdout",
     "output_type": "stream",
     "text": [
      "ntree : (1(2(2))(20(20))(16(20(20))(16(20(20))(16(20(20))(16(20(20))(16(20(20))(16(20(20))(16(20(20))(16(20(20))(16(20(20))(16(20(20))(16(20(20))(16(20(20))(16(20(20))(16(20(20))(16(20(20))(16(20(20))(16(20(20))(16(20(20))(16(20)))))))))))))))))))));\n",
      "\n"
     ]
    },
    {
     "data": {
      "image/png": "[encoded data removed]",
      "text/plain": [
       "<Figure size 640x480 with 1 Axes>"
      ]
     },
     "metadata": {},
     "output_type": "display_data"
    }
   ],
   "source": [
    "degree = 1\n",
    "\n",
    "# Add the node that forms the root of the bath\n",
    "topo = ntree(\"(1(2(2))(2))\")\n",
    "\n",
    "if(degree > 1):\n",
    "    # If degree > 1, encode bath using a Tree Tensor Network (TTN)\n",
    "    ntreeBuilder.mlmctdh_subtree(topo()[1], mode_dims, degree, chi)\n",
    "\n",
    "else:\n",
    "    # If degree == 1, encode bath using Matrix Product State (MPS, simplest case of a TTN,\n",
    "    # initialised in an optimal way)\n",
    "    ntreeBuilder.mps_subtree(topo()[1], mode_dims, chi, nbose)\n",
    "\n",
    "# Optimise geometry of the TTN\n",
    "ntreeBuilder.sanitise(topo)\n",
    "print(topo)\n",
    "\n",
    "visualise_tree(topo)"
   ]
  },
  {
   "cell_type": "markdown",
   "metadata": {},
   "source": [
    "**Initialise Tree Tensor Network**\n",
    "\n",
    "The Tree Tensor Network (TTN) is created as a `ttn` object with network geometry specified by `topo`, and subsequently initialised in a $|0\\rangle$ state in all modes.\n",
    "\n",
    "The Hamiltonian, that was previously initialised as a sum (`SOP`) of site operators (`sOP`), now is set up as a sparse Tree Tensor Network Operator, informed with the network geometry contained in `sysinf`. This is done using `sop_operator`. For a detailed guide on constructing Hamiltonians, read the [tutorial on operator generation](files/../operator_generation.ipynb)."
   ]
  },
  {
   "cell_type": "code",
   "execution_count": 28,
   "metadata": {},
   "outputs": [],
   "source": [
    "# Create TTN using topology calculated above\n",
    "A = ttn(topo)\n",
    "\n",
    "# Initialise all modes in |0> state\n",
    "A.set_state([0 for i in range(Nb+1)])\n",
    "\n",
    "# Initialise Hamiltonian as sparse TTNO (TTN Operator)\n",
    "# The parameter compress = true implements hierarchical form\n",
    "h = sop_operator(H, A, sysinf, identity_opt=True, compress=True)"
   ]
  },
  {
   "cell_type": "markdown",
   "metadata": {},
   "source": [
    "**Evaluation**\n",
    "\n",
    "To obtain the dynamical results, it is necessary to define and prepare the operator that will be evaluated. The function `matrix_element` (see [matrix_element.hpp](files/../../python/ttns/observables/matrix_element.hpp) for reference) prepares the engine that will be used to calculate the expectation value of the operator of interest. An example of use can be seen inside the time-evolution loop (below).\n",
    "\n",
    "The operator to evaluate is set up as a global site operator `site_operator`. It is initialised as a `sOP` (a _\"site OPerator\"_), and informed with the network topology contained in `sysinf`. A `site_operator` is different from a `sOP` because the former is a global operator that can interact with the TTN. For more information on these operators, read the [tutorial on operator generation](files/../operator_generation.ipynb)."
   ]
  },
  {
   "cell_type": "code",
   "execution_count": 29,
   "metadata": {},
   "outputs": [],
   "source": [
    "# Engine to evaluate matrix elements\n",
    "mel = matrix_element(A)\n",
    "\n",
    "# Operator to evaluate\n",
    "op = site_operator(sOP(\"sz\", 0), sysinf)"
   ]
  },
  {
   "cell_type": "markdown",
   "metadata": {},
   "source": [
    "**Time evolution**\n",
    "\n",
    "The time evolution is performed using the TDVP algorithm (the _\"Time Dependent Variational Principle\"_; for more information see [SciPost Phys. Lect. Notes 7 (2019)](https://scipost.org/SciPostPhysLectNotes.7)). The function `tdvp()` creates the TDVP engine and specifies the dimenison of the Krylov subspace to use in the evolution. The `sweep.coefficient` determines the kind of time evolution: in the example below, it is complex evolution (`1.0j`), going forward in time (`-1.0j`).\n",
    "\n",
    "The toggle `sweep.use_time_dependent_hamiltonian` updates the Hamiltonian during the time evolution, using the class `func_class` defined above for the interaction picture Hamiltonian. This can be though of as turning on / off the time-dependence of the Hamiltonian.\n",
    "\n",
    "The desired expectation value is evaluated using `mel` (recall `mel = matrix_element(A)`, it is the engine for the matrix-element evaluation), and stored in vector of results `res`. Every 100 steps, the value of `res` is saved in a file of name `ofname`, specified in the simulation parameters above."
   ]
  },
  {
   "cell_type": "code",
   "execution_count": null,
   "metadata": {},
   "outputs": [
    {
     "name": "stdout",
     "output_type": "stream",
     "text": [
      "0.005 53.56034994125366 0.4999999999999975 0.999999999999995\n"
     ]
    }
   ],
   "source": [
    "# Initialise TDVP engine\n",
    "sweep = tdvp(A, h, krylov_dim = 12)\n",
    "sweep.dt = dt\n",
    "\n",
    "# Specify complex, forward time evolution\n",
    "sweep.coefficient = -1.0j\n",
    "\n",
    "# Turn time-dependence on\n",
    "if(geom == 'ipchain'):\n",
    "    sweep.use_time_dependent_hamiltonian = True\n",
    "\n",
    "# Vector to store result\n",
    "res = np.zeros(nstep+1)\n",
    "\n",
    "# Evaluate result before time evolution\n",
    "res[0] = np.real(mel(op, A, A))\n",
    "\n",
    "# TDVP loop\n",
    "for i in range(nstep):\n",
    "    # TDVP step\n",
    "    t1 = time.time()\n",
    "    sweep.step(A, h)\n",
    "    t2 = time.time()\n",
    "    \n",
    "    # Evaluate result after evolution step\n",
    "    res[i+1] = np.real(mel(op, A, A))\n",
    "\n",
    "    # Print step\n",
    "    print((i+1)*dt, t2-t1, res[i+1], mel(A))\n",
    "    sys.stdout.flush()\n",
    "\n",
    "    # Save the evolution result every 100 steps\n",
    "    if(i % 100 == 0):\n",
    "        h5 = h5py.File(fname, 'w')\n",
    "        h5.create_dataset('t', data=(np.arange(nstep+1)*dt))\n",
    "        h5.create_dataset('Sz', data=res)\n",
    "        h5.close()\n",
    "\n",
    "# Save final result of evolution\n",
    "h5 = h5py.File(fname, 'w')\n",
    "h5.create_dataset('t', data=(np.arange(nstep+1)*dt))\n",
    "h5.create_dataset('Sz', data=res)\n",
    "h5.close()"
   ]
  }
 ],
 "metadata": {
  "kernelspec": {
   "display_name": "Python 3",
   "language": "python",
   "name": "python3"
  },
  "language_info": {
   "codemirror_mode": {
    "name": "ipython",
    "version": 3
   },
   "file_extension": ".py",
   "mimetype": "text/x-python",
   "name": "python",
   "nbconvert_exporter": "python",
   "pygments_lexer": "ipython3",
   "version": "3.10.12"
  }
 },
 "nbformat": 4,
 "nbformat_minor": 2
}
