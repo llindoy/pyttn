{
 "cells": [
  {
   "cell_type": "markdown",
   "metadata": {},
   "source": [
    "# TEDOPA: Zero Temperature Dynamics of the Spin-Boson Model"
   ]
  },
  {
   "cell_type": "markdown",
   "metadata": {},
   "source": [
    "We will now demonstrate how to use pyTTN to perform OQS dynamics for a spin-boson model using the TEDOPA method.  This approaoch is also a unitary Dynamics approach, but with two main difference from the [Star Hamiltonian](files/../oqs_sbm_star.ipynb) example:\n",
    "\n",
    "1. The use of an MPS ansatz for the bath contribution to the wavefunction\n",
    "2. The use of the Chain Topology form of the system-bath Hamiltonian\n",
    "\n",
    "Within the pyTTN library, both the construction of the bath contribution to the wavefunction and the definition of the system-bath Hamiltonian are controlled by the `pyttn.oqs.DiscreteBosonicBath` function, and as a result we may perform TEDOPA simulations of the above model with only minor changes to the [Star Hamiltonian](files/../oqs_sbm_star.ipynb) example.  "
   ]
  },
  {
   "cell_type": "markdown",
   "metadata": {},
   "source": [
    "### Contents"
   ]
  },
  {
   "cell_type": "markdown",
   "metadata": {},
   "source": [
    "1. [Import The Library](#importing-the-library)\n",
    "\n",
    "2. [Setting up the Discrete Bosonic Bath](#setting-up-the-discrete-bosonic-bath)\n",
    "\n",
    "3. [Setting up the System Information](#setting-up-the-system-information)\n",
    "\n",
    "4. [Building the Hamiltonian](#building-the-hamiltonian)\n",
    "\n",
    "5. [Building the Wavefunction](#building-the-wavefunction)\n",
    "\n",
    "6. [Preparing for Time Evolution](#preparing-for-time-evolution)\n",
    "\n",
    "7. [Performing the Time Evolution](#performing-the-time-evolution)"
   ]
  },
  {
   "cell_type": "markdown",
   "metadata": {},
   "source": [
    "### Importing the Library\n",
    "\n",
    "We start by importing the required modules.  This is unchanged from the [Star Hamiltonian](files/../oqs_sbm_star.ipynb) example."
   ]
  },
  {
   "cell_type": "code",
   "execution_count": 3,
   "metadata": {},
   "outputs": [],
   "source": [
    "import os\n",
    "os.environ['OMP_NUM_THREADS']='1'\n",
    "\n",
    "import numpy as np\n",
    "import matplotlib.pyplot as plt \n",
    "%matplotlib inline\n",
    "\n",
    "import pyttn\n",
    "from pyttn import oqs\n",
    "from pyttn.utils import visualise_tree"
   ]
  },
  {
   "cell_type": "markdown",
   "metadata": {},
   "source": [
    "### Setting up the Discrete Bosonic Bath\n",
    "\n",
    "Next we define the spectral density of the bath and set up the `pyttn.oqs.BosonicBath` and `pyttn.oqs.DiscreteBosonicBath` objects.\n",
    "\n",
    " This is unchanged from the [Star Hamiltonian](files/../oqs_sbm_star.ipynb) example."
   ]
  },
  {
   "cell_type": "code",
   "execution_count": 4,
   "metadata": {},
   "outputs": [],
   "source": [
    "#set up the time evolution information\n",
    "dt = 0.05\n",
    "tmax = 15\n",
    "nstep = int(tmax/dt)+1\n",
    "t = np.arange(nstep+1)*dt\n",
    "\n",
    "#set up the bath spectral density\n",
    "alpha = 1.0\n",
    "s = 1\n",
    "wc = 5\n",
    "\n",
    "# Exponential cutoff spectral density\n",
    "#@jit(nopython=True)\n",
    "def J(w):\n",
    "    return np.abs(np.pi/2*alpha*wc*np.power(w/wc, s)*np.exp(-np.abs(w/wc)))*np.where(w > 0, 1.0, -1.0)\n",
    "\n",
    "#set up the BosonicBath\n",
    "bath = oqs.BosonicBath(J, beta=None)\n",
    "\n",
    "#maximum frequency cutoff upper bound in units of wc\n",
    "Nw = 8\n",
    "\n",
    "#discretise the bath using 256 modes \n",
    "Nb = 140\n",
    "g, w = bath.discretise(oqs.OrthopolDiscretisation(Nb, bath.find_wmin(Nw*wc), Nw*wc))\n",
    "discbath = oqs.DiscreteBosonicBath(g, w)\n"
   ]
  },
  {
   "cell_type": "markdown",
   "metadata": {},
   "source": [
    "### Setting up the System Information\n",
    "\n",
    "Now we get the system information from the `pyttn.oqs.DiscreteBosonicBath` object, optionally applying mode combination to combine primitive bosonic modes into composite modes.\n",
    "\n",
    " This is unchanged from the [Star Hamiltonian](files/../oqs_sbm_star.ipynb) example."
   ]
  },
  {
   "cell_type": "code",
   "execution_count": 5,
   "metadata": {},
   "outputs": [],
   "source": [
    "#set up the total system information object including both system information and bath information\n",
    "#here the system consists of a single two level system\n",
    "sysinf = pyttn.system_modes(1)\n",
    "sysinf[0] = pyttn.tls_mode()\n",
    "\n",
    "nbose = 25\n",
    "discbath.truncate_modes(pyttn.utils.EnergyTruncation(10*wc, Lmax=nbose, Lmin=4))\n",
    "\n",
    "use_mode_combination = True\n",
    "if use_mode_combination:\n",
    "    #here we allow for the combination of up to four modes provided the resultant composite Hilbert space dimension has size less than 1000\n",
    "    nbmax=4\n",
    "    nhilbmax=1000\n",
    "    mode_comb = pyttn.utils.ModeCombination(nbmax, nhilbmax)\n",
    "    bsys = discbath.system_information(mode_comb)\n",
    "else:\n",
    "    bsys = discbath.system_information()\n",
    "\n",
    "#now combine the system and bath information together\n",
    "sysinf = pyttn.combine_systems(sysinf, bsys)\n"
   ]
  },
  {
   "cell_type": "markdown",
   "metadata": {},
   "source": [
    "### Building the Hamiltonian\n",
    "\n",
    "Here we see our first change compared to the example provided in [Star Hamiltonian](files/../oqs_sbm_star.ipynb) example.  The TEDOPA method makes use of the chain geometry for the system-bath coupling Hamiltonian.  Within pyTTN, the geometry of the system-bath coupling Hamiltonian is controlled by the optional `geom` parameter.\n",
    "\n",
    "To use the chain representation, we simply set this parameter to \"chain\"."
   ]
  },
  {
   "cell_type": "code",
   "execution_count": 6,
   "metadata": {},
   "outputs": [],
   "source": [
    "#create the SOP object\n",
    "H = pyttn.SOP(Nb+1)\n",
    "\n",
    "#add on the system Hamiltonian\n",
    "delta = 0.5\n",
    "eps = 0\n",
    "H += delta * pyttn.sOP(\"sx\", 0) + eps * pyttn.sOP(\"sz\", 0)\n",
    "\n",
    "#and append all bath and system bath Hamiltonian terms\n",
    "H = discbath.add_system_bath_hamiltonian(H, pyttn.sOP(\"sz\", 0), geom=\"chain\")"
   ]
  },
  {
   "cell_type": "markdown",
   "metadata": {},
   "source": [
    "### Building the Wavefunction\n",
    "\n",
    "We are now in a position to prepare the wavefunction tree topology.  This is where the second and final change from the [Star Hamiltonian](files/../oqs_sbm_star.ipynb) example is made.  The TEDOPA method makes use of an MPS tree for representing the bath, this can be enforced by setting `degree=1`.\n"
   ]
  },
  {
   "cell_type": "code",
   "execution_count": 7,
   "metadata": {},
   "outputs": [],
   "source": [
    "#bond dimension used at start of simulation\n",
    "chi0 = 4\n",
    "\n",
    "#maximum allowed bond dimension in network\n",
    "chi = 64\n",
    "\n",
    "#construct the MPS bath tree used for TEDOPA\n",
    "degree = 1\n",
    "\n",
    "#set up the topology tree\n",
    "topo = pyttn.ntree(\"(1(2(2)))\")\n",
    "_ = discbath.add_bath_tree(topo(), degree, chi0, chi0)\n",
    "\n",
    "#set up the capacity tree\n",
    "capacity = pyttn.ntree(\"(1(2(2)))\")\n",
    "_ = discbath.add_bath_tree(capacity(), degree, chi, chi)"
   ]
  },
  {
   "cell_type": "markdown",
   "metadata": {},
   "source": [
    "\n",
    "At this stage, the script proceeds identically to the [Star Hamiltonian](#dynamics-using-the-discretised-star-hamiltonian) example. "
   ]
  },
  {
   "cell_type": "code",
   "execution_count": 8,
   "metadata": {},
   "outputs": [],
   "source": [
    "#build the TTN object for this system\n",
    "A = pyttn.ttn(topo, capacity, dtype=np.complex128)\n",
    "\n",
    "#prepare a product state where the system is in the up spin state (0) and the bath is in its vacuum state\n",
    "state = [0] + [0 for i in range(len(bsys))]\n",
    "A.set_state(state) "
   ]
  },
  {
   "cell_type": "markdown",
   "metadata": {},
   "source": [
    "### Preparing for Time Evolution"
   ]
  },
  {
   "cell_type": "code",
   "execution_count": 9,
   "metadata": {},
   "outputs": [],
   "source": [
    "#set up the Hamiltonian as a sop_operator object\n",
    "h = pyttn.sop_operator(H, A, sysinf)\n",
    "\n",
    "#set up the observable to measure\n",
    "op = pyttn.site_operator(pyttn.sOP(\"sz\", 0), sysinf)\n",
    "\n",
    "#set up buffers to store the observable\n",
    "Sz = np.zeros(nstep+1)\n",
    "\n",
    "#construct matrix_element object need for evaluating observables\n",
    "mel = pyttn.matrix_element(A)\n",
    "\n",
    "#prepare the tdvp object\n",
    "sweep = pyttn.tdvp(A, h, krylov_dim=12, subspace_neigs = 4, subspace_krylov_dim = 8, expansion='subspace')\n",
    "sweep.spawning_threshold = 1e-8\n",
    "sweep.minimum_unoccupied=0\n",
    "\n",
    "sweep.dt = dt\n",
    "sweep.coefficient = -1.0j"
   ]
  },
  {
   "cell_type": "markdown",
   "metadata": {},
   "source": [
    "### Performing the Time Evolution"
   ]
  },
  {
   "cell_type": "code",
   "execution_count": 10,
   "metadata": {},
   "outputs": [],
   "source": [
    "#measure the initial magnetisation\n",
    "Sz[0] = np.real(mel(op, A, A))\n",
    "\n",
    "#perform the first timestep using a logarithmic discretisation of time over this period.  \n",
    "#This can be useful to allow for suitable adaptation of weakly occupied single particle \n",
    "#functions through the initial time point.\n",
    "tp = 0\n",
    "ts = np.logspace(np.log10(dt*1e-5), np.log10(dt), 5)\n",
    "for i in range(5):\n",
    "    dti = ts[i]-tp\n",
    "    sweep.dt = dti\n",
    "    sweep.step(A, h)\n",
    "    tp = ts[i]"
   ]
  },
  {
   "cell_type": "markdown",
   "metadata": {},
   "source": [
    "Now that we have completed the first step, we return to time evolution as usual."
   ]
  },
  {
   "cell_type": "code",
   "execution_count": null,
   "metadata": {},
   "outputs": [
    {
     "name": "stdout",
     "output_type": "stream",
     "text": [
      "step: 25 of 301.  Chimax: 64                   \r"
     ]
    }
   ],
   "source": [
    "i=1\n",
    "#set the values after the first timestep\n",
    "Sz[i] =np.real(mel(op, A, A))\n",
    "sweep.dt = dt\n",
    "\n",
    "#now perform standard time stepping\n",
    "for i in range(1,nstep):\n",
    "    sweep.step(A, h)\n",
    "    Sz[i+1] = np.real(mel(op, A, A))\n",
    "    print(\"step: %d of %d.  Chimax: %d\"%(i+1, nstep, A.maximum_bond_dimension()), end='                   \\r')\n",
    "print('                                                       \\r')"
   ]
  },
  {
   "cell_type": "markdown",
   "metadata": {},
   "source": [
    "And now that we have finished the time evolution we can plot the resultant magnetisation."
   ]
  },
  {
   "cell_type": "code",
   "execution_count": null,
   "metadata": {},
   "outputs": [
    {
     "data": {
      "image/png": "[encoded data removed]",
      "text/plain": [
       "<Figure size 640x480 with 1 Axes>"
      ]
     },
     "metadata": {},
     "output_type": "display_data"
    }
   ],
   "source": [
    "plt.plot(t, Sz)\n",
    "plt.show()"
   ]
  },
  {
   "cell_type": "markdown",
   "metadata": {},
   "source": [
    "And we can also do things like visualise how the bond dimension has expanded throughout the tensor network."
   ]
  },
  {
   "cell_type": "code",
   "execution_count": null,
   "metadata": {},
   "outputs": [
    {
     "data": {
      "image/png": "[encoded data removed]",
      "text/plain": [
       "<Figure size 640x480 with 1 Axes>"
      ]
     },
     "metadata": {},
     "output_type": "display_data"
    }
   ],
   "source": [
    "visualise_tree(A, node_size=1, bond_prop=\"bond dimension\")\n",
    "plt.show()"
   ]
  }
 ],
 "metadata": {
  "kernelspec": {
   "display_name": ".venv",
   "language": "python",
   "name": "python3"
  },
  "language_info": {
   "codemirror_mode": {
    "name": "ipython",
    "version": 3
   },
   "file_extension": ".py",
   "mimetype": "text/x-python",
   "name": "python",
   "nbconvert_exporter": "python",
   "pygments_lexer": "ipython3",
   "version": "3.12.3"
  }
 },
 "nbformat": 4,
 "nbformat_minor": 2
}
