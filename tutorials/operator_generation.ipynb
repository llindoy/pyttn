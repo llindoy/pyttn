{
 "cells": [
  {
   "cell_type": "markdown",
   "metadata": {},
   "source": [
    "# Operator generation with PyTTN"
   ]
  },
  {
   "cell_type": "markdown",
   "metadata": {},
   "source": [
    "Import libraries"
   ]
  },
  {
   "cell_type": "code",
   "execution_count": 1,
   "metadata": {},
   "outputs": [
    {
     "name": "stderr",
     "output_type": "stream",
     "text": [
      "/home/lachlan/pyttn/.venv/lib/python3.12/site-packages/numpy/_core/getlimits.py:548: UserWarning: Signature b'\\x00\\xd0\\xcc\\xcc\\xcc\\xcc\\xcc\\xcc\\xfb\\xbf\\x00\\x00\\x00\\x00\\x00\\x00' for <class 'numpy.longdouble'> does not match any known type: falling back to type probe function.\n",
      "This warnings indicates broken support for the dtype!\n",
      "  machar = _get_machar(dtype)\n"
     ]
    }
   ],
   "source": [
    "import numpy as np\n",
    "import copy\n",
    "import matplotlib.pyplot as plt \n",
    "%matplotlib inline"
   ]
  },
  {
   "cell_type": "markdown",
   "metadata": {},
   "source": [
    "Import PyTTN dependencies"
   ]
  },
  {
   "cell_type": "code",
   "execution_count": 2,
   "metadata": {},
   "outputs": [],
   "source": [
    "from pyttn import sOP, fOP, sPOP, sSOP, SOP, coeff\n",
    "from pyttn import boson_mode, tls_mode, fermion_mode, spin_mode, nlevel_mode, generic_mode\n",
    "from pyttn import site_operator, product_operator, sop_operator\n",
    "from pyttn import system_modes, operator_dictionary\n",
    "from pyttn import ntree, ntreeBuilder, ttn\n",
    "\n",
    "# Function to visualise tree diagrams\n",
    "from pyttn.utils import visualise_tree"
   ]
  },
  {
   "cell_type": "markdown",
   "metadata": {},
   "source": [
    "### Contents\n"
   ]
  },
  {
   "cell_type": "markdown",
   "metadata": {},
   "source": [
    "\n",
    "1. [Defining operators](#defining-operators)\n",
    "\n",
    "    - [Specifying mode types](#specifying-mode-types)\n",
    "\n",
    "    - [Basic operator definition](#basic-operator-definition)\n",
    "\n",
    "    - [Advanced operator definition](#advanced-operator-definition)\n",
    "\n",
    "2. [Spin operators](#spin-operators)\n",
    "\n",
    "    - [Example Hamiltonian: 1-D transverse-field Ising model](#example-hamiltonian-transverse-field-ising-model)\n",
    "\n",
    "3. [Fermionic operators](#fermionic-operators)\n",
    "\n",
    "    - [Example Hamiltonian: 1-D Kitaev chain](#example-hamiltonian-1-dimensional-kitaev-chain)\n",
    "\n",
    "4. [Two-level system operators](#two-level-system-operators)\n",
    "\n",
    "    - [Example Hamiltonian: Rabi oscillations & time-dependent coefficients](#example-hamiltonian-rabi-oscillations--time-dependent-coefficients)\n",
    "\n",
    "5. [Bosonic operators](#bosonic-operators)\n",
    "\n",
    "    - [Example Hamiltonian: 1-D Bose-Hubbard model](#example-hamiltonian-1-dimensional-bose-hubbard-model)\n",
    "\n",
    "6. [Constructing a Tree Tensor Network Operator](#constructing-a-tree-tensor-network-operator)\n",
    "\n",
    "7. [Custom operators & generic modes](#custom-operators--generic-modes)\n",
    "\n",
    "8. [Global operators](#global-operators)\n",
    "\n",
    "9. [Mode combination](#mode-combination)"
   ]
  },
  {
   "cell_type": "markdown",
   "metadata": {},
   "source": [
    "### Defining operators"
   ]
  },
  {
   "cell_type": "markdown",
   "metadata": {},
   "source": [
    "##### Specifying mode types"
   ]
  },
  {
   "cell_type": "markdown",
   "metadata": {},
   "source": [
    "To initialise the system, the physical modes are created through the function `system_modes`. The information about the modes of the system is stored in the variable `sysinf`."
   ]
  },
  {
   "cell_type": "code",
   "execution_count": 3,
   "metadata": {},
   "outputs": [],
   "source": [
    "# Number of modes\n",
    "N = 6\n",
    "\n",
    "# Initialise system information variable as a set of N modes\n",
    "sysinf = system_modes(N)"
   ]
  },
  {
   "cell_type": "markdown",
   "metadata": {},
   "source": [
    "After creating the modes, one needs to specify the type of each mode. PyTTN accepts five different modes:\n",
    "\n",
    "- _d_-dimensional spin systems\n",
    "- Two-level systems\n",
    "- N-level mode\n",
    "- Bosons\n",
    "- Fermions\n",
    "- User-defined generic modes\n",
    "\n",
    "The code will store the information about the modes and automatically understand e.g. if a certain $\\hat{a}^{\\dagger}$ is a bosonic or fermionic creation operator depending on which mode it acts on.\n",
    "\n",
    "As an example below, we will set each mode to be of a different kind. The dimension of the Hilbert space of the spin, bosonic, nlevel, and generic mode are set in the argument of the function."
   ]
  },
  {
   "cell_type": "code",
   "execution_count": 4,
   "metadata": {},
   "outputs": [],
   "source": [
    "sysinf[0] = spin_mode(2)\n",
    "sysinf[1] = tls_mode()\n",
    "sysinf[2] = nlevel_mode(4)\n",
    "sysinf[3] = boson_mode(10)\n",
    "sysinf[4] = fermion_mode()\n",
    "sysinf[5] = generic_mode(3)\n"
   ]
  },
  {
   "cell_type": "markdown",
   "metadata": {},
   "source": [
    "There is more information on each type of mode and their predefined operators in the sections below."
   ]
  },
  {
   "cell_type": "markdown",
   "metadata": {},
   "source": [
    "##### Basic operator definition"
   ]
  },
  {
   "cell_type": "markdown",
   "metadata": {},
   "source": [
    "Once the information about the modes is specified, one can start applying operators that act on these modes.\n",
    "\n",
    "A **site operator** is initialised as a `sOP` object (which stands for _\"site OPerator\"_). The `sOP()` function takes two arguments: the first one, a string label selecting which operator to apply; the second one, the physical index of the degree of freedom in which the operator acts.\n",
    "\n",
    "For example, to apply a Pauli $\\hat{\\sigma}_x$ on the two-level system at mode `1`, one would write:"
   ]
  },
  {
   "cell_type": "code",
   "execution_count": 5,
   "metadata": {},
   "outputs": [
    {
     "data": {
      "text/plain": [
       "<pyttn.ttnpp.sOP at 0x7fc084fcfaf0>"
      ]
     },
     "execution_count": 5,
     "metadata": {},
     "output_type": "execute_result"
    }
   ],
   "source": [
    "sOP(\"x\",1)"
   ]
  },
  {
   "cell_type": "markdown",
   "metadata": {},
   "source": [
    "Similarly, to apply a bosonic creation operator $\\hat{a}^{\\dagger}$ on site `3`, one would write:"
   ]
  },
  {
   "cell_type": "code",
   "execution_count": 6,
   "metadata": {},
   "outputs": [
    {
     "data": {
      "text/plain": [
       "<pyttn.ttnpp.sOP at 0x7fc09d735cb0>"
      ]
     },
     "execution_count": 6,
     "metadata": {},
     "output_type": "execute_result"
    }
   ],
   "source": [
    "sOP(\"adag\",3)"
   ]
  },
  {
   "cell_type": "markdown",
   "metadata": {},
   "source": [
    "A fermionic operator is defined in the same way. Since the type of mode is defined in `sysinf`, the code will automatically determine if `\"a\"` refers to a bosonic or fermionic annihilation operator $\\hat{a}$. Below is an example of the annihilation operator acting on the bosonic mode on site `3`, and on the fermionic mode on site `4`.\n",
    "\n",
    "To avoid coding confusion with bosonic operators, it is possible to define fermionic modes using the function `fOP`, which stands for _\"fermionic OPerator\"_. This option is purely redundant since the information about the modes is stored on `sysinf`, but can provide a useful visual clue about the nature of the modes when coding."
   ]
  },
  {
   "cell_type": "code",
   "execution_count": 7,
   "metadata": {},
   "outputs": [
    {
     "data": {
      "text/plain": [
       "<pyttn.ttnpp.sOP at 0x7fc09d4d8bb0>"
      ]
     },
     "execution_count": 7,
     "metadata": {},
     "output_type": "execute_result"
    }
   ],
   "source": [
    "# Bosonic annihilation operator (acts on mode 1: a boson)\n",
    "sOP(\"a\",3)\n",
    "\n",
    "# Fermionic annihilation operator (acts on mode 2: a fermion)\n",
    "sOP(\"a\",4)\n",
    "\n",
    "# Exactly the same fermionic annihilation operator\n",
    "fOP(\"a\",4)"
   ]
  },
  {
   "cell_type": "markdown",
   "metadata": {},
   "source": [
    "The site operators `sOP` can be multiplied normally using `*` to create composite operators that act on several modes. The resulting operator is a `sPOP` object—a _\"site Product of OPerators\"_. "
   ]
  },
  {
   "cell_type": "code",
   "execution_count": 8,
   "metadata": {},
   "outputs": [
    {
     "data": {
      "text/plain": [
       "<pyttn.ttnpp.sPOP at 0x7fc09d4b88f0>"
      ]
     },
     "execution_count": 8,
     "metadata": {},
     "output_type": "execute_result"
    }
   ],
   "source": [
    "sOP(\"adag\",3)*fOP(\"adag\",4)"
   ]
  },
  {
   "cell_type": "markdown",
   "metadata": {},
   "source": [
    "A `sPOP` can also be created directly from a list of operators. This can be useful when defining operators acting on many modes."
   ]
  },
  {
   "cell_type": "code",
   "execution_count": 9,
   "metadata": {},
   "outputs": [
    {
     "data": {
      "text/plain": [
       "<pyttn.ttnpp.sPOP at 0x7fc0847fa070>"
      ]
     },
     "execution_count": 9,
     "metadata": {},
     "output_type": "execute_result"
    }
   ],
   "source": [
    "# Imagine a set of 20 modes\n",
    "M = 20\n",
    "\n",
    "# Define a list containing number operators acting on each mode\n",
    "ops = []\n",
    "for i in range(M):\n",
    "    ops.append(sOP(\"n\",i))\n",
    "\n",
    "# The product of all those number operators: n_1 * n_2 * n_3 * ...\n",
    "sPOP(ops)"
   ]
  },
  {
   "cell_type": "markdown",
   "metadata": {},
   "source": [
    "To add site operators `sOP` (and products of site operators `sPOP`) together, one defines a `SOP` object. This is very useful when defining Hamiltonians and other nontrivial operators.\n",
    "\n",
    "To allocate memory efficiently, the `SOP` object needs to be initialised with a defined number of modes. The `sOP` and `sPOP` operators are then added using `+=`. They can be added alone, multiplied to each other, and multiplied to coefficients.\n",
    "\n",
    "The resulting operator can be printed as a string for easy visualisation."
   ]
  },
  {
   "cell_type": "code",
   "execution_count": 10,
   "metadata": {},
   "outputs": [
    {
     "name": "stdout",
     "output_type": "stream",
     "text": [
      "((0,0) + 0 functions)\n",
      "+((1,0) + 0 functions) x_3 y_3 z_3\n",
      "((-1.5,3) + 0 functions) n_1 x_3\n",
      "((-0.5,0) + 0 functions) x_0 fermi_a_2\n",
      "+((1,0) + 0 functions) y_0 adag_1\n",
      "+((1,0) + 0 functions) z_0\n",
      "\n"
     ]
    }
   ],
   "source": [
    "# Initialise a SOP object with N modes\n",
    "H = SOP(N)\n",
    "\n",
    "# Adding site operators to SOP in different ways\n",
    "H += sOP(\"z\",0)\n",
    "H += sOP(\"y\",0)*sOP(\"adag\",1)\n",
    "H += -0.5*sOP(\"x\",0)*fOP(\"a\",2)\n",
    "H += (-1.5 + 3j)*sOP(\"x\",3)*sOP(\"n\",1)\n",
    "H += sPOP([sOP(\"x\",3),sOP(\"y\",3),sOP(\"z\",3)])\n",
    "\n",
    "# Print SOP as string of operators\n",
    "print(H)"
   ]
  },
  {
   "cell_type": "markdown",
   "metadata": {},
   "source": [
    "##### Advanced operator definition"
   ]
  },
  {
   "cell_type": "markdown",
   "metadata": {},
   "source": [
    "The above sections should be enough to understand most of this tutorial. However, there are some more relevant features that could be useful for the advanced user. This section will cover:\n",
    "\n",
    "- The _string N-Body Operator_ and the `coefficient`class\n",
    "- Time-dependent coefficients\n",
    "- Product of Hamiltonians"
   ]
  },
  {
   "cell_type": "markdown",
   "metadata": {},
   "source": [
    "**The _string N-Body Operator_ and the `coefficient` class**"
   ]
  },
  {
   "cell_type": "markdown",
   "metadata": {},
   "source": [
    "In the section above explained the `sPOP` (_string Product of OPerators_) was introduced as the product of site operators `sOP`. Indeed, if one multiplies two `sOP` together, the resulting object is a `sPOP`:"
   ]
  },
  {
   "cell_type": "code",
   "execution_count": 11,
   "metadata": {},
   "outputs": [
    {
     "data": {
      "text/plain": [
       "<pyttn.ttnpp.sPOP at 0x7fc09bc2f270>"
      ]
     },
     "execution_count": 11,
     "metadata": {},
     "output_type": "execute_result"
    }
   ],
   "source": [
    "sOP(\"adag\",1)*fOP(\"adag\",2)"
   ]
  },
  {
   "cell_type": "markdown",
   "metadata": {},
   "source": [
    "However, multiplying a scalar times a string of site operators does not result in a `sPOP`, but rather a slightly different object called `sNBO`: a _string N-Body Operator_."
   ]
  },
  {
   "cell_type": "code",
   "execution_count": 12,
   "metadata": {},
   "outputs": [
    {
     "data": {
      "text/plain": [
       "<pyttn.ttnpp.sNBO_complex at 0x7fc0847480f0>"
      ]
     },
     "execution_count": 12,
     "metadata": {},
     "output_type": "execute_result"
    }
   ],
   "source": [
    "(0.5+1j) * sOP(\"adag\",1)*fOP(\"adag\",2)\n"
   ]
  },
  {
   "cell_type": "markdown",
   "metadata": {},
   "source": [
    "This is related to how PyTTN processes coefficients. Every coefficient that multiplies a _site OPerator_ `sOP` or a _site Product of OPerators_ `sPOP` is processed as a `coefficient` object. A `sNBO` is simply a `sPOP` multiplied by a `coefficient` type object.\n",
    "\n",
    "When a scalar multiplies a site operator, this processing is done internally, and the user does not need to worry about initialising the scalar as a `coefficient`. However, when the coefficient is a function, it needs to be initialised explicitly as a `coefficient` object using the `coeff()` function. "
   ]
  },
  {
   "cell_type": "code",
   "execution_count": 13,
   "metadata": {},
   "outputs": [
    {
     "data": {
      "text/plain": [
       "<pyttn.ttnpp.sNBO_complex at 0x7fc09d4adaf0>"
      ]
     },
     "execution_count": 13,
     "metadata": {},
     "output_type": "execute_result"
    }
   ],
   "source": [
    "coeff(0.5+1j) * sOP(\"adag\",1)*fOP(\"adag\",2)"
   ]
  },
  {
   "cell_type": "markdown",
   "metadata": {},
   "source": [
    "**Time-dependent coefficients**"
   ]
  },
  {
   "cell_type": "markdown",
   "metadata": {},
   "source": [
    "The possibility of using callable functions as coefficients allows for the use of time-dependent coefficients.\n",
    "\n",
    "Any function that is callable as `__call__(t:float) -> float / complex` can be configured as a `coefficient` object. This means a time-dependent coefficient could be as simple as this:"
   ]
  },
  {
   "cell_type": "code",
   "execution_count": 14,
   "metadata": {},
   "outputs": [
    {
     "data": {
      "text/plain": [
       "<pyttn.ttnpp.sNBO_complex at 0x7fc084815b30>"
      ]
     },
     "execution_count": 14,
     "metadata": {},
     "output_type": "execute_result"
    }
   ],
   "source": [
    "coeff(lambda t: np.exp(-t)) * sOP(\"z\", 0) "
   ]
  },
  {
   "cell_type": "markdown",
   "metadata": {},
   "source": [
    "or a much more elaborate callable object:"
   ]
  },
  {
   "cell_type": "code",
   "execution_count": 15,
   "metadata": {},
   "outputs": [
    {
     "data": {
      "text/plain": [
       "<pyttn.ttnpp.sNBO_complex at 0x7fc085ff1ff0>"
      ]
     },
     "execution_count": 15,
     "metadata": {},
     "output_type": "execute_result"
    }
   ],
   "source": [
    "class transf:\n",
    "    # Initialise internal parameters\n",
    "    def __init__(self, i:int, t0:float, e0:float, U0:np.matrix, conj = False):\n",
    "        self.i = i\n",
    "        self.conj = conj\n",
    "        self.t0 = t0\n",
    "        self.e = copy.deepcopy(e0)\n",
    "        self.U = copy.deepcopy(U0)\n",
    "\n",
    "    # Update to the coefficient value\n",
    "    def __call__(self, ti):\n",
    "        evol = np.conj(self.U[:, 0])@(np.exp(-1.0j*ti*self.e)*self.U[:, self.i])\n",
    "        val = self.t0 * evol\n",
    "\n",
    "        if(self.conj):\n",
    "            val = np.conj(val)\n",
    "\n",
    "        return val\n",
    "\n",
    "# Set value of parameters \n",
    "t0 = 1.0\n",
    "e = 2.0\n",
    "U = np.random.random((4,4))\n",
    "\n",
    "# Apply time-dependent coefficient\n",
    "coeff(transf(2, t0, e, U, conj=False)) * sOP(\"z\", 0)"
   ]
  },
  {
   "cell_type": "markdown",
   "metadata": {},
   "source": [
    "Note: when calculating dynamics of time-dependent Hamiltonians using TDVP, it is important to set the parameter `sweep.use_time_dependent_hamiltonian = True`. When turned off, the time evolution will be calculated using the Hamiltonian at $t=0$."
   ]
  },
  {
   "cell_type": "markdown",
   "metadata": {},
   "source": [
    "**Product of Hamiltonians**"
   ]
  },
  {
   "cell_type": "markdown",
   "metadata": {},
   "source": [
    "The section [above](#basic-operator-definition) explained how to define _site operators_ `sOP`; how to multiply them to obtain _site product of operators_ `sPOP`; and how to add several `sOP` and `sPOP` together to generate _sums of operators_ `SOP`. \n",
    "\n",
    "`SOP` objects are used to construct Hamiltonians, and encode the information about its site operators in a memory efficient way—that is also the reason why a `SOP` needs to be initialised for a specific number of modes."
   ]
  },
  {
   "cell_type": "code",
   "execution_count": 16,
   "metadata": {},
   "outputs": [
    {
     "name": "stdout",
     "output_type": "stream",
     "text": [
      "((0,0) + 0 functions)\n",
      "+((1,0) + 0 functions) z_1\n",
      "+((1,0) + 0 functions) x_0\n",
      "\n"
     ]
    }
   ],
   "source": [
    "# Initialise Hamiltonian as SOP (\"Sum of OPerators\") object with N modes\n",
    "H = SOP(2)\n",
    "\n",
    "# Add terms to the Hamiltonian\n",
    "H += sOP(\"x\",0)\n",
    "H += sOP(\"z\",1)\n",
    "\n",
    "# Print as string of operators\n",
    "print(H)"
   ]
  },
  {
   "cell_type": "markdown",
   "metadata": {},
   "source": [
    "However, these memory restrictions also mean that it is not possible to multiply two `SOP` and obtain a new `SOP`:"
   ]
  },
  {
   "cell_type": "code",
   "execution_count": 17,
   "metadata": {},
   "outputs": [
    {
     "name": "stdout",
     "output_type": "stream",
     "text": [
      "Multiplying together two SOP objects throws a TypeError\n"
     ]
    }
   ],
   "source": [
    "try:\n",
    "    H2 = H*H\n",
    "except TypeError:\n",
    "    print(\"Multiplying together two SOP objects throws a TypeError\")"
   ]
  },
  {
   "cell_type": "markdown",
   "metadata": {},
   "source": [
    "For that purpose, one may use a simpler class: `sSOP`, a _string Sum of OPerators_. A `sSOP` simply combines site operators `sOP` and `sPOP` to create complex operators, without regard for memory allocation. It is how `SOP` processes site operators internally before allocating memory efficiently. It is not created for a fixed number of modes, and can be multiplied times other `sSOP` to create new `sSOP`.\n",
    "\n",
    "Because it is not as optimised, its use is discouraged when not needed. For the same reason, a `sSOP` cannot be used to construct a Tree Tensor Network Operator, and instead must be converted to a `SOP` for that purpose.\n",
    "\n",
    "Besides the differences in memory allocation, sums of operators using `sSOP` work exactly like with `SOP`:"
   ]
  },
  {
   "cell_type": "code",
   "execution_count": 18,
   "metadata": {},
   "outputs": [
    {
     "name": "stdout",
     "output_type": "stream",
     "text": [
      "+((1,0) + 0 functions) x_0\n",
      "+((1,0) + 0 functions) z_1\n",
      "\n"
     ]
    }
   ],
   "source": [
    "# Initialise Hamiltonian as sSOP (\"string Sum of OPerators\")\n",
    "# without a set number of modes\n",
    "Hsop = sSOP()\n",
    "\n",
    "# Add terms to the Hamiltonian\n",
    "Hsop += sOP(\"x\",0)\n",
    "Hsop += sOP(\"z\",1)\n",
    "\n",
    "# Print as string of operators\n",
    "print(Hsop)"
   ]
  },
  {
   "cell_type": "markdown",
   "metadata": {},
   "source": [
    "And it can be observed that `sSOP` objects can be multiplied by other `sSOP` objects:"
   ]
  },
  {
   "cell_type": "code",
   "execution_count": 19,
   "metadata": {},
   "outputs": [
    {
     "name": "stdout",
     "output_type": "stream",
     "text": [
      "+((1,0) + 0 functions) x_0 x_0\n",
      "+((1,0) + 0 functions) x_0 z_1\n",
      "+((1,0) + 0 functions) z_1 x_0\n",
      "+((1,0) + 0 functions) z_1 z_1\n",
      "\n"
     ]
    }
   ],
   "source": [
    "Hsop2 = Hsop*Hsop\n",
    "\n",
    "# Print as string of operators\n",
    "print(Hsop2)"
   ]
  },
  {
   "cell_type": "markdown",
   "metadata": {},
   "source": [
    "The resulting Hamiltonian is also a `sPOP`. To construct a Tree Tensor Network Operator from it, it is necessary to transform it to a `SOP`:"
   ]
  },
  {
   "cell_type": "code",
   "execution_count": 20,
   "metadata": {},
   "outputs": [
    {
     "name": "stdout",
     "output_type": "stream",
     "text": [
      "((0,0) + 0 functions)\n",
      "+((1,0) + 0 functions) z_1 z_1\n",
      "+((2,0) + 0 functions) x_0 z_1\n",
      "+((1,0) + 0 functions) x_0 x_0\n",
      "\n"
     ]
    }
   ],
   "source": [
    "# Initialise Hamiltonian as SOP object\n",
    "H2 = SOP(N)\n",
    "\n",
    "# Add elements of sSOP to SOP\n",
    "for el in Hsop2:\n",
    "    H2 += el\n",
    "\n",
    "# Print as string of operators\n",
    "print(H2)"
   ]
  },
  {
   "cell_type": "markdown",
   "metadata": {},
   "source": [
    "### Spin operators"
   ]
  },
  {
   "cell_type": "markdown",
   "metadata": {},
   "source": [
    "The _d_-dimensional spin modes have several predefined operators that commonly appear in spin systems. Below is a list of these operators and the labels that can be used to call them.\n",
    "\n",
    "- Raising operator $\\hat{S}^+$: `s+`, `sp`.\n",
    "\n",
    "- Lowering operator $\\hat{S}^-$: `s-`,`sm`.\n",
    "\n",
    "- $\\hat{S}^x = \\frac{1}{2}(\\hat{S}^+ + \\hat{S}^-)$: `sx`, `x`.\n",
    "\n",
    "- $\\hat{S}^y = \\frac{-i}{2}(\\hat{S}^+ - \\hat{S}^-)$: `sy`, `y`.\n",
    "\n",
    "- $\\hat{S}^z = \\frac{-i}{\\hbar}[\\hat{S}^x, \\hat{S}^y]$: `sz`, `z`.\n",
    "\n",
    "The dimension of the spin operators is automatically adapted to the dimension set in the `spin_mode`.\n",
    "\n",
    "One can also define other custom operators—more information on this in the section [Custom operators & generic modes](#custom-operators--generic-modes)."
   ]
  },
  {
   "cell_type": "markdown",
   "metadata": {},
   "source": [
    "##### Example Hamiltonian: transverse-field Ising model"
   ]
  },
  {
   "cell_type": "markdown",
   "metadata": {},
   "source": [
    "As an example of a spin system, we construct the 1-dimensional transverse-field Ising model.\n",
    "\n",
    "The Hamiltonian of the model is: $\\hat{H} = -J \\displaystyle\\sum_{j=1}^{N-1} \\hat{S}^z_j \\hat{S}^z_{j+1} - h \\displaystyle\\sum_j^N \\hat{S}^x_j$\n",
    "\n",
    "To construct the Hamiltonian of the system, the first step is to initialise the modes:"
   ]
  },
  {
   "cell_type": "code",
   "execution_count": 21,
   "metadata": {},
   "outputs": [],
   "source": [
    "# Define number of modes\n",
    "N = 10\n",
    "\n",
    "# Initialise system information variable as a set of N modes\n",
    "sysinf = system_modes(N)\n",
    "\n",
    "# Specify that each mode is a 2-dimensional spin\n",
    "for i in range(N):\n",
    "    sysinf[i] = spin_mode(2)"
   ]
  },
  {
   "cell_type": "markdown",
   "metadata": {},
   "source": [
    "Then, one can specify the parameters of the Hamiltonian:"
   ]
  },
  {
   "cell_type": "code",
   "execution_count": 22,
   "metadata": {},
   "outputs": [],
   "source": [
    "J = 4\n",
    "h = 2"
   ]
  },
  {
   "cell_type": "markdown",
   "metadata": {},
   "source": [
    "And construct the Hamiltonian:"
   ]
  },
  {
   "cell_type": "code",
   "execution_count": 23,
   "metadata": {},
   "outputs": [
    {
     "name": "stdout",
     "output_type": "stream",
     "text": [
      "((0,0) + 0 functions)\n",
      "((-4,0) + 0 functions) sz_8 sz_9\n",
      "((-2,0) + 0 functions) sx_9\n",
      "((-2,0) + 0 functions) sx_8\n",
      "((-2,0) + 0 functions) sx_7\n",
      "((-2,0) + 0 functions) sx_6\n",
      "((-4,0) + 0 functions) sz_0 sz_1\n",
      "((-2,0) + 0 functions) sx_5\n",
      "((-2,0) + 0 functions) sx_0\n",
      "((-4,0) + 0 functions) sz_1 sz_2\n",
      "((-2,0) + 0 functions) sx_1\n",
      "((-2,0) + 0 functions) sx_2\n",
      "((-4,0) + 0 functions) sz_3 sz_4\n",
      "((-2,0) + 0 functions) sx_3\n",
      "((-4,0) + 0 functions) sz_7 sz_8\n",
      "((-4,0) + 0 functions) sz_4 sz_5\n",
      "((-2,0) + 0 functions) sx_4\n",
      "((-4,0) + 0 functions) sz_5 sz_6\n",
      "((-4,0) + 0 functions) sz_2 sz_3\n",
      "((-4,0) + 0 functions) sz_6 sz_7\n",
      "\n"
     ]
    }
   ],
   "source": [
    "# Initialise H as SOP object (\"Sum of OPerators\")\n",
    "H = SOP(N)\n",
    "\n",
    "# Add terms of Hamiltonian\n",
    "for i in range(N-1):\n",
    "    H += -J*sOP(\"sz\",i)*sOP(\"sz\",i+1)\n",
    "    H += -h*sOP(\"sx\",i)\n",
    "H += -h*sOP(\"sx\",N-1)\n",
    "\n",
    "# Print Hamiltonian as string of operators\n",
    "print(H)"
   ]
  },
  {
   "cell_type": "markdown",
   "metadata": {},
   "source": [
    "Once the Hamiltonian is constructed in this form, it can be initialised as a Tree Tensor Network Operator, aware of the topology of the network and able to interact as an operator with a Tree Tensor Network. This is explained step by step in the section [Constructing a Tree Tensor Network Operator](#constructing-a-tree-tensor-network-operator)."
   ]
  },
  {
   "cell_type": "markdown",
   "metadata": {},
   "source": [
    "### Fermionic operators"
   ]
  },
  {
   "cell_type": "markdown",
   "metadata": {},
   "source": [
    "The predefined operators for fermionic modes are listed below. They can be called with any of the labels indicated, undistinguishably.\n",
    "\n",
    "- Annihilation operator $\\hat{a}$: `a`, `c`, `f`.\n",
    "\n",
    "- Creation operator $\\hat{a}^{\\dagger}$: `adag`, `ad`, `cdag`, `cd`, `fdag`, `fd`.\n",
    "\n",
    "- Number operator $\\hat{n} = \\hat{a}^{\\dagger}\\hat{a}$: `n`, `adaga`, `ada`, `cdagc`, `cdc`, `fdagf`, `fdf`.\n",
    "\n",
    "- Vacancy operator $\\hat{v} = \\mathbb{\\hat{I}} - \\hat{n} = \\hat{a}\\hat{a}^{\\dagger}$: `v`.\n",
    "\n",
    "One can also define other custom operators—more information on this in the section [Custom operators & generic modes](#custom-operators--generic-modes).\n",
    "\n",
    "Fermionic operators are particular because they obey anti-commutation relations. In order to be implemented in a tensor network, they need to be mapped to operators that the tensor network can handle effectively. The Jordan-Wigner maps are commonly used for this purpose: they map the fermionic creation and annihilation operators to spin operators. In PyTTN, this transformation is done internally, so the user does not have to worry about applying Jordan-Wigner maps to the predefined fermionic operators. This should, however, be considered when defining custom operators."
   ]
  },
  {
   "cell_type": "markdown",
   "metadata": {},
   "source": [
    "##### Example Hamiltonian: 1-dimensional Kitaev chain"
   ]
  },
  {
   "cell_type": "markdown",
   "metadata": {},
   "source": [
    "As an example of a fermionic system, we construct the 1-dimensional Kitaev chain.\n",
    "\n",
    "The Hamiltonian of the model is: $\\hat{H} = -\\mu \\sum_{j=1}^{N} \\hat{a}^{\\dagger}_j \\hat{a}_j  - t \\displaystyle\\sum_{j=1}^{N-1} \\left( \\hat{a}^{\\dagger}_j \\hat{a}_{j+1} + \\hat{a}^{\\dagger}_{j+1} \\hat{a}_j \\right) + \\displaystyle\\sum_{j=1}^{N-1}\\Delta \\left( \\hat{a}^{\\dagger}_{j} \\hat{a}^{\\dagger}_{j+1} + \\hat{a}_j \\hat{a}_{j+1} \\right)$.\n",
    "\n",
    "To construct the Hamiltonian of the system, the first step is to initialise the modes:"
   ]
  },
  {
   "cell_type": "code",
   "execution_count": 24,
   "metadata": {},
   "outputs": [],
   "source": [
    "# Define number of modes\n",
    "N = 10\n",
    "\n",
    "# Initialise system information variable as a set of N modes\n",
    "sysinf = system_modes(N)\n",
    "\n",
    "# Specify that each mode is a fermion\n",
    "for i in range(N):\n",
    "    sysinf[i] = fermion_mode()"
   ]
  },
  {
   "cell_type": "markdown",
   "metadata": {},
   "source": [
    "One can then specify the parameters of the Hamiltonian:"
   ]
  },
  {
   "cell_type": "code",
   "execution_count": 25,
   "metadata": {},
   "outputs": [],
   "source": [
    "mu = 1.5\n",
    "t = 2.\n",
    "delta = 10"
   ]
  },
  {
   "cell_type": "markdown",
   "metadata": {},
   "source": [
    "And construct the Hamiltonian:"
   ]
  },
  {
   "cell_type": "code",
   "execution_count": 26,
   "metadata": {},
   "outputs": [
    {
     "name": "stdout",
     "output_type": "stream",
     "text": [
      "((0,0) + 0 functions)\n",
      "((-1.5,0) + 0 functions) n_9\n",
      "((-1.5,0) + 0 functions) n_8\n",
      "((-1.5,0) + 0 functions) n_7\n",
      "((-1.5,0) + 0 functions) n_4\n",
      "((-1.5,0) + 0 functions) n_1\n",
      "+((10,0) + 0 functions) fdag_8 fdag_9\n",
      "((-1.5,0) + 0 functions) n_5\n",
      "((-2,0) + 0 functions) f_8 fdag_9\n",
      "+((10,0) + 0 functions) f_7 f_8\n",
      "+((10,0) + 0 functions) fdag_7 fdag_8\n",
      "((-2,0) + 0 functions) f_7 fdag_8\n",
      "((-2,0) + 0 functions) f_2 fdag_3\n",
      "+((10,0) + 0 functions) f_6 f_7\n",
      "((-2,0) + 0 functions) fdag_7 f_8\n",
      "+((10,0) + 0 functions) fdag_1 fdag_2\n",
      "((-1.5,0) + 0 functions) n_6\n",
      "((-2,0) + 0 functions) fdag_1 f_2\n",
      "+((10,0) + 0 functions) fdag_2 fdag_3\n",
      "+((10,0) + 0 functions) f_5 f_6\n",
      "+((10,0) + 0 functions) f_0 f_1\n",
      "((-1.5,0) + 0 functions) n_2\n",
      "+((10,0) + 0 functions) f_2 f_3\n",
      "((-2,0) + 0 functions) fdag_2 f_3\n",
      "+((10,0) + 0 functions) f_4 f_5\n",
      "((-1.5,0) + 0 functions) n_0\n",
      "+((10,0) + 0 functions) f_8 f_9\n",
      "((-2,0) + 0 functions) f_0 fdag_1\n",
      "((-2,0) + 0 functions) f_1 fdag_2\n",
      "((-2,0) + 0 functions) fdag_8 f_9\n",
      "((-2,0) + 0 functions) f_6 fdag_7\n",
      "+((10,0) + 0 functions) fdag_6 fdag_7\n",
      "((-2,0) + 0 functions) fdag_0 f_1\n",
      "((-2,0) + 0 functions) f_3 fdag_4\n",
      "+((10,0) + 0 functions) fdag_3 fdag_4\n",
      "+((10,0) + 0 functions) fdag_0 fdag_1\n",
      "+((10,0) + 0 functions) fdag_5 fdag_6\n",
      "((-2,0) + 0 functions) fdag_6 f_7\n",
      "((-1.5,0) + 0 functions) n_3\n",
      "((-2,0) + 0 functions) fdag_4 f_5\n",
      "((-2,0) + 0 functions) fdag_5 f_6\n",
      "((-2,0) + 0 functions) fdag_3 f_4\n",
      "((-2,0) + 0 functions) f_4 fdag_5\n",
      "+((10,0) + 0 functions) f_3 f_4\n",
      "+((10,0) + 0 functions) fdag_4 fdag_5\n",
      "+((10,0) + 0 functions) f_1 f_2\n",
      "((-2,0) + 0 functions) f_5 fdag_6\n",
      "\n"
     ]
    }
   ],
   "source": [
    "# Initialise H as SOP object (\"Sum of OPerators\")\n",
    "H = SOP(N)\n",
    "\n",
    "# Add terms of Hamiltonian\n",
    "for i in range(N-1):\n",
    "    H += -t*(sOP(\"fdag\",i)*sOP(\"f\",i+1) + sOP(\"fdag\",i+1)*sOP(\"f\",i))\n",
    "    H += delta*(sOP(\"fdag\",i)*sOP(\"fdag\",i+1) + sOP(\"f\",i+1)*sOP(\"f\",i))\n",
    "\n",
    "for i in range(N):\n",
    "    H += -mu*sOP(\"n\",i)\n",
    "\n",
    "# Print Hamiltonian as string of operators\n",
    "print(H)"
   ]
  },
  {
   "cell_type": "markdown",
   "metadata": {},
   "source": [
    "Once the Hamiltonian is constructed in this form, it can be initialised as a Tree Tensor Network Operator, aware of the topology of the network and able to interact as an operator with a Tree Tensor Network. This is explained step by step in the section [Constructing a Tree Tensor Network Operator](#constructing-a-tree-tensor-network-operator)."
   ]
  },
  {
   "cell_type": "markdown",
   "metadata": {},
   "source": [
    "### Two-Level System operators"
   ]
  },
  {
   "cell_type": "markdown",
   "metadata": {},
   "source": [
    "Two-level-system modes are similar to 2-dimensional spin modes. Rather than using the spin operators, their operations are given by Pauli matrices—one must be careful with the scaling factor between the 2-dimensional $\\hat{S}_+$ and the Pauli matrix $\\hat{\\sigma}_x$.\n",
    "\n",
    "The predefined operators for two-level systems are listed below, along with the labels that can be used to call them.\n",
    "\n",
    "- Pauli $\\hat{\\sigma}^x$: `x`, `sigmax`, `sx`.\n",
    "\n",
    "- Pauli $\\hat{\\sigma}^y$: `y`, `sigmay`, `sy`.\n",
    "\n",
    "- Pauli $\\hat{\\sigma}^z$: `z`, `sigmaz`, `sz`.\n",
    "\n",
    "- Raising operator $\\hat{\\sigma}^+ = \\hat{\\sigma}^x + i\\hat{\\sigma}^y$: `s+`, `sigma+`, `sp`, `sigmap`.\n",
    "\n",
    "- Lowering operator $\\hat{\\sigma}^- = \\hat{\\sigma}^x - i\\hat{\\sigma}^y$: `s-`,`sigma-`, `sm`, `sigmam`.\n",
    "\n",
    "- Projectors of the form $|m\\rangle\\langle n |$: `|m><n|`\n",
    "\n",
    "One can also define other custom operators—more information on this in the section [Custom operators & generic modes](#custom-operators--generic-modes)."
   ]
  },
  {
   "cell_type": "markdown",
   "metadata": {},
   "source": [
    "##### Example Hamiltonian: Rabi oscillations & time-dependent coefficients"
   ]
  },
  {
   "cell_type": "markdown",
   "metadata": {},
   "source": [
    "As an example of a two-level system Hamiltonian, we model the dynamics of a two-level atom undergoing Rabi oscillations.\n",
    "\n",
    "The Hamiltonian of the system is: $\\hat{H} = \\frac{\\hbar \\omega_0}{2} \\hat{\\sigma}^z + \\hbar \\Omega \\text{cos}(\\omega t) \\hat{\\sigma}^x$.\n",
    "\n",
    "To construct the Hamiltonian of the system, the first step is to initialise the modes:"
   ]
  },
  {
   "cell_type": "code",
   "execution_count": 27,
   "metadata": {},
   "outputs": [],
   "source": [
    "# Define number of modes\n",
    "N = 1\n",
    "\n",
    "# Initialise system information variable as a set of N modes\n",
    "sysinf = system_modes(N)\n",
    "\n",
    "# Specify that each mode is a 2-dimensional spin\n",
    "for i in range(N):\n",
    "    sysinf[i] = tls_mode()"
   ]
  },
  {
   "cell_type": "markdown",
   "metadata": {},
   "source": [
    "One can then specify the parameters of the Hamiltonian:"
   ]
  },
  {
   "cell_type": "code",
   "execution_count": 28,
   "metadata": {},
   "outputs": [],
   "source": [
    "w_0 = 1\n",
    "w = 2\n",
    "Rabi_freq = 5"
   ]
  },
  {
   "cell_type": "markdown",
   "metadata": {},
   "source": [
    "And the final step is to construct the Hamiltonian. This Hamiltonian has time-dependent coefficients, which makes it different to the example Hamiltonian above. To construct it, recall [how coefficients are processed in PyTTN](#advanced-operator-definition):\n",
    "\n",
    "> Every coefficient that multiplies a _site OPerator_ `sOP` or a _site Product of OPerators_ `sPOP` is processed as a `coefficient` object. When a scalar multiplies a site operator, this processing is done internally, and the user does not need to worry about initialising the scalar as a `coefficient`. However, when the coefficient is a time-dependent function, it needs to be initialised as a `coefficient` object using the `coeff()` function. Any function that is callable as `__call__(t:float) -> float / complex` can be configured as a `coefficient` object.\n",
    "\n",
    "Note: when calculating dynamics of time-dependent Hamiltonians using TDVP, it is important to set the parameter `sweep.use_time_dependent_hamiltonian = True`. When turned off, the time evolution will be calculated using the $t=0$ Hamiltonian.\n",
    "\n",
    "Therefore, the Hamiltonian of a two-level atom under Rabi oscillations can be constructed as follows:"
   ]
  },
  {
   "cell_type": "code",
   "execution_count": 29,
   "metadata": {},
   "outputs": [
    {
     "name": "stdout",
     "output_type": "stream",
     "text": [
      "((0,0) + 0 functions)\n",
      "+((0,0) + 1 functions) x_0\n",
      "+((0.5,0) + 0 functions) z_0\n",
      "\n"
     ]
    }
   ],
   "source": [
    "# Initialise H as SOP object (\"Sum of OPerators\")\n",
    "H = SOP(N)\n",
    "\n",
    "# Add terms of Hamiltonian\n",
    "H += w_0/2*sOP(\"z\",0)\n",
    "H += Rabi_freq*coeff(lambda t: np.cos(w*t))*sOP(\"x\", 0) \n",
    "\n",
    "# Print Hamiltonian as string of operators\n",
    "print(H)"
   ]
  },
  {
   "cell_type": "markdown",
   "metadata": {},
   "source": [
    "Once the Hamiltonian is constructed in this form, it can be initialised as a Tree Tensor Network Operator, aware of the topology of the network and able to interact as an operator with a Tree Tensor Network. This is explained step by step in the section [Constructing a Tree Tensor Network Operator](#constructing-a-tree-tensor-network-operator)."
   ]
  },
  {
   "cell_type": "markdown",
   "metadata": {},
   "source": [
    "### N-Level System operators"
   ]
  },
  {
   "cell_type": "markdown",
   "metadata": {},
   "source": [
    "N-level-system modes support system with a discrete local Hilbert space. The predefined operators for two-level systems are listed below, along with the labels that can be used to call them.\n",
    "\n",
    "- Projectors of the form $|m\\rangle\\langle n |$: `|m><n|`\n",
    "\n",
    "One can also define other custom operators—more information on this in the section [Custom operators & generic modes](#custom-operators--generic-modes)."
   ]
  },
  {
   "cell_type": "markdown",
   "metadata": {},
   "source": [
    "##### Example Hamiltonian: Rabi oscillations & time-dependent coefficients"
   ]
  },
  {
   "cell_type": "markdown",
   "metadata": {},
   "source": [
    "As an example of a N-level system Hamiltonian, we model the dynamics of a two-level atom undergoing Rabi oscillations.\n",
    "\n",
    "The Hamiltonian of the system is: $\\hat{H} = \\frac{\\hbar \\omega_0}{2} \\hat{\\sigma}^z + \\hbar \\Omega \\text{cos}(\\omega t) \\hat{\\sigma}^x$.  \n",
    "Which can be written in terms of the N-level operators as: $\\hat{H} = \\frac{\\hbar \\omega_0}{2} (|0\\rangle\\langle 0| -|1\\rangle\\langle 1|) + \\hbar \\Omega \\text{cos}(\\omega t) (|0\\rangle\\langle 1| +|1\\rangle\\langle 0|)$\n",
    "\n",
    "To construct the Hamiltonian of the system, the first step is to initialise the modes:"
   ]
  },
  {
   "cell_type": "code",
   "execution_count": 30,
   "metadata": {},
   "outputs": [],
   "source": [
    "# Define number of modes\n",
    "N = 1\n",
    "\n",
    "# Initialise system information variable as a set of N modes\n",
    "sysinf = system_modes(N)\n",
    "\n",
    "# Specify that each mode is an nlevel system but here consider the case where n is two\n",
    "for i in range(N):\n",
    "    sysinf[i] = nlevel_mode(2)"
   ]
  },
  {
   "cell_type": "markdown",
   "metadata": {},
   "source": [
    "One can then specify the parameters of the Hamiltonian:"
   ]
  },
  {
   "cell_type": "code",
   "execution_count": 31,
   "metadata": {},
   "outputs": [],
   "source": [
    "w_0 = 1\n",
    "w = 2\n",
    "Rabi_freq = 5"
   ]
  },
  {
   "cell_type": "markdown",
   "metadata": {},
   "source": [
    "And the final step is to construct the Hamiltonian. This Hamiltonian has time-dependent coefficients, which makes it different to the example Hamiltonian above. To construct it, recall [how coefficients are processed in PyTTN](#advanced-operator-definition):\n",
    "\n",
    "> Every coefficient that multiplies a _site OPerator_ `sOP` or a _site Product of OPerators_ `sPOP` is processed as a `coefficient` object. When a scalar multiplies a site operator, this processing is done internally, and the user does not need to worry about initialising the scalar as a `coefficient`. However, when the coefficient is a time-dependent function, it needs to be initialised as a `coefficient` object using the `coeff()` function. Any function that is callable as `__call__(t:float) -> float / complex` can be configured as a `coefficient` object.\n",
    "\n",
    "Note: when calculating dynamics of time-dependent Hamiltonians using TDVP, it is important to set the parameter `sweep.use_time_dependent_hamiltonian = True`. When turned off, the time evolution will be calculated using the $t=0$ Hamiltonian.\n",
    "\n",
    "Therefore, the Hamiltonian of a two-level atom under Rabi oscillations can be constructed as follows:"
   ]
  },
  {
   "cell_type": "code",
   "execution_count": 32,
   "metadata": {},
   "outputs": [
    {
     "name": "stdout",
     "output_type": "stream",
     "text": [
      "((0,0) + 0 functions)\n",
      "+((0,0) + 1 functions) |0><1|_0\n",
      "+((0,0) + 1 functions) |1><0|_0\n",
      "((-0.5,0) + 0 functions) |1><1|_0\n",
      "+((0.5,0) + 0 functions) |0><0|_0\n",
      "\n"
     ]
    }
   ],
   "source": [
    "# Initialise H as SOP object (\"Sum of OPerators\")\n",
    "H = SOP(N)\n",
    "\n",
    "# Add terms of Hamiltonian\n",
    "H += w_0/2*(sOP(\"|0><0|\",0)-sOP(\"|1><1|\", 0))\n",
    "H += Rabi_freq*coeff(lambda t: np.cos(w*t))*(sOP(\"|1><0|\", 0)+sOP(\"|0><1|\", 0))\n",
    "\n",
    "# Print Hamiltonian as string of operators\n",
    "print(H)"
   ]
  },
  {
   "cell_type": "markdown",
   "metadata": {},
   "source": [
    "### Bosonic operators"
   ]
  },
  {
   "cell_type": "markdown",
   "metadata": {},
   "source": [
    "The predefined operators for bosonic modes are listed below. They can be called with any of the labels indicated, undistinguishably.\n",
    "\n",
    "- Annihilation operator $\\hat{a}$: `a`, `c`, `b`.\n",
    "\n",
    "- Creation operator $\\hat{a}^{\\dagger}$: `adag`, `ad`, `cdag`, `cd`, `bdag`, `bd`.\n",
    "\n",
    "- Number operator $\\hat{n} = \\hat{a}^{\\dagger}\\hat{a}$: `n`, `adaga`, `ada`, `cdagc`, `cdc`, `bdagb`, `bdb`.\n",
    "\n",
    "- Position operator $\\hat{x} = \\frac{1}{\\sqrt{2}} \\left( \\hat{a}^{\\dagger} + \\hat{a} \\right)$: `x`, `q`.\n",
    "\n",
    "- Momentum operator $\\hat{p} = \\frac{i}{\\sqrt{2}} \\left( \\hat{a}^{\\dagger} - \\hat{a} \\right)$: `p`.\n",
    "\n",
    "The dimension of the bosonic operators is automatically adapted to the dimension set in the `boson_mode`.\n",
    "\n",
    "One can also define other custom operators—more information on this in the section [Custom operators & generic modes](#custom-operators--generic-modes)."
   ]
  },
  {
   "cell_type": "markdown",
   "metadata": {},
   "source": [
    "##### Example Hamiltonian: 1-dimensional Bose-Hubbard model"
   ]
  },
  {
   "cell_type": "markdown",
   "metadata": {},
   "source": [
    "As an example of a bosonic system, we construct the Hamiltonian of the 1-dimensional Bose-Hubbard model.\n",
    "\n",
    "The Hamiltonian of the system is: $\\hat{H} = -t \\displaystyle\\sum_{j=1}^{N-1} \\left( \\hat{a}^{\\dagger}_j \\hat{a}_{j+1} + \\hat{a}_{j} \\hat{a}^{\\dagger}_{j+1} \\right) + \\frac{U}{2} \\displaystyle\\sum_j \\hat{n}_j(\\hat{n}_j - 1) - \\mu \\sum_j \\hat{n}_j$.\n",
    "\n",
    "To construct the Hamiltonian of the system, the first step is to initialise the modes:"
   ]
  },
  {
   "cell_type": "code",
   "execution_count": 33,
   "metadata": {},
   "outputs": [],
   "source": [
    "# Define number of modes\n",
    "N = 10\n",
    "\n",
    "# Initialise system information variable\n",
    "sysinf = system_modes(N)\n",
    "\n",
    "# Specify that each mode is a boson, with a Hilbert space of 15 energy levels\n",
    "for i in range(N):\n",
    "    sysinf[i] = boson_mode(15)"
   ]
  },
  {
   "cell_type": "markdown",
   "metadata": {},
   "source": [
    "One can then specify the parameters of the Hamiltonian:"
   ]
  },
  {
   "cell_type": "code",
   "execution_count": 34,
   "metadata": {},
   "outputs": [],
   "source": [
    "t = 0.2\n",
    "U = 5.\n",
    "mu = -1.5"
   ]
  },
  {
   "cell_type": "markdown",
   "metadata": {},
   "source": [
    "And construct the Hamiltonian:"
   ]
  },
  {
   "cell_type": "code",
   "execution_count": 35,
   "metadata": {},
   "outputs": [
    {
     "name": "stdout",
     "output_type": "stream",
     "text": [
      "((0,0) + 0 functions)\n",
      "+((2.5,0) + 0 functions) n_9 n_9\n",
      "((-1,0) + 0 functions) n_9\n",
      "+((2.5,0) + 0 functions) n_8 n_8\n",
      "((-1,0) + 0 functions) n_8\n",
      "+((2.5,0) + 0 functions) n_7 n_7\n",
      "+((2.5,0) + 0 functions) n_6 n_6\n",
      "((-1,0) + 0 functions) n_7\n",
      "+((2.5,0) + 0 functions) n_5 n_5\n",
      "((-0.2,0) + 0 functions) b_5 bdag_6\n",
      "((-0.2,0) + 0 functions) b_3 bdag_4\n",
      "+((2.5,0) + 0 functions) n_0 n_0\n",
      "((-0.2,0) + 0 functions) b_7 bdag_8\n",
      "((-0.2,0) + 0 functions) b_2 bdag_3\n",
      "((-0.2,0) + 0 functions) bdag_6 b_7\n",
      "((-0.2,0) + 0 functions) bdag_5 b_6\n",
      "((-1,0) + 0 functions) n_6\n",
      "((-0.2,0) + 0 functions) bdag_1 b_2\n",
      "((-0.2,0) + 0 functions) bdag_4 b_5\n",
      "((-1,0) + 0 functions) n_3\n",
      "((-0.2,0) + 0 functions) bdag_3 b_4\n",
      "((-0.2,0) + 0 functions) b_4 bdag_5\n",
      "((-1,0) + 0 functions) n_0\n",
      "((-0.2,0) + 0 functions) b_0 bdag_1\n",
      "((-0.2,0) + 0 functions) b_1 bdag_2\n",
      "((-0.2,0) + 0 functions) bdag_0 b_1\n",
      "((-0.2,0) + 0 functions) b_6 bdag_7\n",
      "((-0.2,0) + 0 functions) bdag_8 b_9\n",
      "+((2.5,0) + 0 functions) n_2 n_2\n",
      "((-1,0) + 0 functions) n_1\n",
      "((-0.2,0) + 0 functions) bdag_7 b_8\n",
      "+((2.5,0) + 0 functions) n_1 n_1\n",
      "((-0.2,0) + 0 functions) b_8 bdag_9\n",
      "((-1,0) + 0 functions) n_5\n",
      "+((2.5,0) + 0 functions) n_3 n_3\n",
      "((-1,0) + 0 functions) n_4\n",
      "((-1,0) + 0 functions) n_2\n",
      "((-0.2,0) + 0 functions) bdag_2 b_3\n",
      "+((2.5,0) + 0 functions) n_4 n_4\n",
      "\n"
     ]
    }
   ],
   "source": [
    "# Initialise H as SOP object (\"Sum of OPerators\")\n",
    "H = SOP(N)\n",
    "\n",
    "# Add terms of Hamiltonian\n",
    "for i in range(N-1):\n",
    "    H += -t*(sOP(\"bdag\",i)*sOP(\"b\",i+1) + sOP(\"bdag\",i+1)*sOP(\"b\",i))\n",
    "\n",
    "for i in range(N):\n",
    "    H += -mu*sOP(\"n\",i)\n",
    "    H += U/2*(sOP(\"n\",i)*sOP(\"n\",i)-sOP(\"n\",i))\n",
    "\n",
    "# Print Hamiltonian as string of operators\n",
    "print(H)"
   ]
  },
  {
   "cell_type": "markdown",
   "metadata": {},
   "source": [
    "Once the Hamiltonian is constructed in this form, it can be initialised as a Tree Tensor Network Operator, aware of the topology of the network and able to interact as an operator with a Tree Tensor Network. This is explained step by step in the section [Constructing a Tree Tensor Network Operator](#constructing-a-tree-tensor-network-operator)."
   ]
  },
  {
   "cell_type": "markdown",
   "metadata": {},
   "source": [
    "### Constructing a Tree Tensor Network Operator"
   ]
  },
  {
   "cell_type": "markdown",
   "metadata": {},
   "source": [
    "The examples above have combined site operators to construct Hamiltonians that act on the modes specified in `sysinf`. However, the Hamiltonian in that form cannot be applied to a Tree Tensor Network: a `SOP` object is not aware of the topology of the network, and thus cannot act as an operator on the TTN.\n",
    "\n",
    "Thus in order to initialise the Hamiltonian as a Tree Tensor Network Operator (a TTNO), it will be necessary to define a network topology `topo`, and create the Tree Tensor Network that the TTNO will act on. \n",
    "\n",
    "In this example we will write a binary (degree = 2) ML-MCTDH tree. For a detailed explanation of how to construct the tree topology, read [tree_topologies.ipynb](file/../tree_topologies.ipynb)."
   ]
  },
  {
   "cell_type": "code",
   "execution_count": 36,
   "metadata": {},
   "outputs": [
    {
     "name": "stdout",
     "output_type": "stream",
     "text": [
      "ntree : (1(8(8(8(8(2))(8(2)))(8(2)))(8(8(2))(8(2))))(8(8(8(8(2))(8(2)))(8(2)))(8(8(2))(8(2)))));\n",
      "\n"
     ]
    },
    {
     "data": {
      "image/png": "[encoded data removed]",
      "text/plain": [
       "<Figure size 640x480 with 1 Axes>"
      ]
     },
     "metadata": {},
     "output_type": "display_data"
    }
   ],
   "source": [
    "# Specify parameters of the tree\n",
    "chi = 8\n",
    "dims = [2 for i in range(N)]\n",
    "degree = 2\n",
    "\n",
    "# Create tree topology\n",
    "topo = ntreeBuilder.mlmctdh_tree(dims, degree, chi)\n",
    "print(topo)\n",
    "\n",
    "# Plot tree diagram\n",
    "visualise_tree(topo)\n",
    "plt.show()"
   ]
  },
  {
   "cell_type": "markdown",
   "metadata": {},
   "source": [
    "The Tree Tensor Network is created using the `ttn` function. To be created, the TTN only needs to know the topology of the network, previously defined in `topo`. For simplicity, in the example below it is initialised to a random value.\n",
    "\n",
    "The function that creates a Tree Tensor Network Operator is `sop_operator`. It takes three arguments:\n",
    "- the Hamiltonian defined as a combination of site operators.\n",
    "- the Tree Tensor Network (which internally has the information about the network topology in `topo`).\n",
    "- the information about the physical modes and their dimensionality, stored in the variable `sysinf`."
   ]
  },
  {
   "cell_type": "code",
   "execution_count": 37,
   "metadata": {},
   "outputs": [],
   "source": [
    "# Create tree tensor network, initialise to random value\n",
    "A = ttn(topo)\n",
    "A.random()\n",
    "\n",
    "# Initialise Hamiltonian as a TTNO (Tree Tensor Network Operator)\n",
    "h = sop_operator(H, A, sysinf)"
   ]
  },
  {
   "cell_type": "markdown",
   "metadata": {},
   "source": [
    "The Hamiltonian in `h` is a Tree Tensor Network Operator, ready to be used in tensor network algorithms."
   ]
  },
  {
   "cell_type": "markdown",
   "metadata": {},
   "source": [
    "### Custom operators & generic modes"
   ]
  },
  {
   "cell_type": "markdown",
   "metadata": {},
   "source": [
    "The beginning of this tutorial listed the five types of modes that can be declared in `sysinf`: $d$-dimensional spin, two-level system, boson, fermion, and generic. The sections above have explored the first four types of modes; this section looks at the fifth type, generic modes.\n",
    "\n",
    "Generic modes are $d$-dimensional modes whose operators are defined by the user, usually by their matrix representation. Generic modes have no predefined operators and can be of any dimension set by the user.\n",
    "\n",
    "In the example below we define a system of 2 modes: a 2-dimensional generic mode and a two-level system."
   ]
  },
  {
   "cell_type": "code",
   "execution_count": 38,
   "metadata": {},
   "outputs": [],
   "source": [
    "# Define number of modes\n",
    "N = 2\n",
    "\n",
    "# Initialise system information variable\n",
    "sysinf = system_modes(N)\n",
    "\n",
    "# Specify type of modes. It is important to specify the dimension of the generic mode\n",
    "sysinf[0] = generic_mode(2)\n",
    "sysinf[1] = tls_mode()"
   ]
  },
  {
   "cell_type": "markdown",
   "metadata": {},
   "source": [
    "The user-defined operators are stored in an operator dictionary, created with the function `operator_dictionary`. For efficient use of memory, it must be created for a specific number of modes.\n",
    "\n",
    "To create an operator, the first step is to define a complex matrix with the same dimension as the generic mode. The function `site_operator` creates the operator from its matrix representation. It is important to specify that the argument of the function is a matrix by setting the option `\"optype=matrix\"`.\n",
    "\n",
    "Finally, the newly-created operator is added to the operator dictionary. In this step, it is important to specify the mode on which the operator acts, and the string label that will be used to call the operator."
   ]
  },
  {
   "cell_type": "code",
   "execution_count": 39,
   "metadata": {},
   "outputs": [
    {
     "name": "stdout",
     "output_type": "stream",
     "text": [
      "mode: 0\n",
      "|1><1| dense matrix operator: \n",
      "[[0+0i, 0+0i],\n",
      "[0+0i, 1+0i]]\n",
      "\n",
      "\n",
      "|0><0| dense matrix operator: \n",
      "[[1+0i, 0+0i],\n",
      "[0+0i, 0+0i]]\n",
      "\n",
      "\n",
      "mode: 1\n",
      "\n"
     ]
    }
   ],
   "source": [
    "# Create custom operator dictionary for N modes\n",
    "opdict = operator_dictionary(N)\n",
    "\n",
    "\n",
    "## Define custom operator on generic mode\n",
    "\n",
    "# Create matrix of an operator\n",
    "v = np.zeros( (2,2), dtype=np.complex128)\n",
    "v[0, 0] = 1.0\n",
    "\n",
    "# Define operator acting on mode 0 from matrix v\n",
    "op =  site_operator(v, optype=\"matrix\", mode=0)\n",
    "\n",
    "# Add created operator to the dictionary, specifying that it acts on mode 0\n",
    "# and assigning the label \"|0><0|\" to it\n",
    "opdict.insert(0, \"|0><0|\", op)\n",
    "\n",
    "\n",
    "## Define another custom operator on generic mode\n",
    "\n",
    "# Create matrix of an operator\n",
    "v = np.zeros( (2,2), dtype=np.complex128)\n",
    "v[1, 1] = 1.0\n",
    "\n",
    "# Define operator acting on mode 0 from matrix v\n",
    "op =  site_operator(v, optype=\"matrix\", mode=0)\n",
    "\n",
    "# Add created operator to the dictionary, specifying that it acts on mode 0\n",
    "# and assigning the label \"|1><1|\" to it\n",
    "opdict.insert(0, \"|1><1|\", op)\n",
    "\n",
    "\n",
    "# View custom operator dictionary\n",
    "print(opdict)"
   ]
  },
  {
   "cell_type": "markdown",
   "metadata": {},
   "source": [
    "The user-defined operators can be called using their labels, exactly as all the predefined operators:"
   ]
  },
  {
   "cell_type": "code",
   "execution_count": 40,
   "metadata": {},
   "outputs": [
    {
     "data": {
      "text/plain": [
       "<pyttn.ttnpp.sOP at 0x7fc083ae73b0>"
      ]
     },
     "execution_count": 40,
     "metadata": {},
     "output_type": "execute_result"
    }
   ],
   "source": [
    "sOP(\"|0><0|\",0)"
   ]
  },
  {
   "cell_type": "markdown",
   "metadata": {},
   "source": [
    "Significantly, the user can also define custom operators for other modes, so they are not restricted to the set of predefined operators. Custom operators are defined just like operators of generic modes—one must only remember to specify the correct mode that the operator acts on. Custom operators can be stored in the same operator dictionary as operators of generic modes. Below is an example of a user-defined `\"Hadamard\"` operator that acts on mode `1`, a two-level system.\n",
    "\n",
    "If a custom operator is assigned the same label as a predefined operator of the mode it acts on, it overwrites that operator. For example, the code below defines a `\"z\"` operator for the two-level system that conflicts with the predefined $\\hat{\\sigma}^z$ operator, which can also be called with the `\"z\"` label. In this situation, the code will always apply the user-defined operator over the predefined one."
   ]
  },
  {
   "cell_type": "code",
   "execution_count": 41,
   "metadata": {},
   "outputs": [
    {
     "name": "stdout",
     "output_type": "stream",
     "text": [
      "mode: 0\n",
      "|1><1| dense matrix operator: \n",
      "[[0+0i, 0+0i],\n",
      "[0+0i, 1+0i]]\n",
      "\n",
      "\n",
      "|0><0| dense matrix operator: \n",
      "[[1+0i, 0+0i],\n",
      "[0+0i, 0+0i]]\n",
      "\n",
      "\n",
      "mode: 1\n",
      "z dense matrix operator: \n",
      "[[1+0i, 0+0i],\n",
      "[0+0i, -1+0i]]\n",
      "\n",
      "\n",
      "Hadamard dense matrix operator: \n",
      "[[0.707107+0i, 0.707107+0i],\n",
      "[0.707107+0i, -0.707107+0i]]\n",
      "\n",
      "\n",
      "\n"
     ]
    }
   ],
   "source": [
    "## Define custom operator on two-level system mode\n",
    "\n",
    "# Create matrix of an operator\n",
    "v = np.zeros( (2,2), dtype=np.complex128)\n",
    "v[0, 0] = 1.0/np.sqrt(2)\n",
    "v[0, 1] = 1.0/np.sqrt(2)\n",
    "v[1, 0] = 1.0/np.sqrt(2)\n",
    "v[1, 1] = -1.0/np.sqrt(2)\n",
    "\n",
    "# Define operator acting on mode 1 from matrix v\n",
    "op =  site_operator(v, optype=\"matrix\", mode=1)\n",
    "\n",
    "# Add created operator to the dictionary, specifying that it acts on mode 1\n",
    "# and assigning the label \"Hadamard\" to it\n",
    "opdict.insert(1, \"Hadamard\", op)\n",
    "\n",
    "\n",
    "## Overwrite existing \"z\" operator on generic mode\n",
    "\n",
    "# Create matrix of an operator\n",
    "v = np.zeros( (2,2), dtype=np.complex128)\n",
    "v[0, 0] = 1.0\n",
    "v[1, 1] = -1.0\n",
    "\n",
    "# Define operator acting on mode 1 from matrix v\n",
    "op =  site_operator(v, optype=\"matrix\", mode=1)\n",
    "\n",
    "# Add created operator to the dictionary, specifying that it acts on mode 1\n",
    "# and assigning the label \"z\" to it\n",
    "opdict.insert(1, \"z\", op)\n",
    "\n",
    "print(opdict)"
   ]
  },
  {
   "cell_type": "markdown",
   "metadata": {},
   "source": [
    "The user-defined operators can be used to construct Hamiltonians exactly as predefined operators:"
   ]
  },
  {
   "cell_type": "code",
   "execution_count": 42,
   "metadata": {},
   "outputs": [
    {
     "name": "stdout",
     "output_type": "stream",
     "text": [
      "((0,0) + 0 functions)\n",
      "+((1,0) + 0 functions) z_1\n",
      "+((1,0) + 0 functions) Hadamard_1\n",
      "+((1,0) + 0 functions) |1><1|_0\n",
      "+((1,0) + 0 functions) |0><0|_0\n",
      "\n"
     ]
    }
   ],
   "source": [
    "# Initialise H as SOP object (\"Sum of OPerators\")\n",
    "H = SOP(N)\n",
    "\n",
    "# Add terms of Hamiltonian\n",
    "H += sOP(\"|0><0|\",0)\n",
    "H += sOP(\"|1><1|\",0)\n",
    "H += sOP(\"Hadamard\",1)\n",
    "H += sOP(\"z\",1)\n",
    "\n",
    "# Print Hamiltonian as string of operators\n",
    "print(H)"
   ]
  },
  {
   "cell_type": "markdown",
   "metadata": {},
   "source": [
    "There is one important change one has to remember when defining custom operators. When defining the Tree Tensor Network Operator as [above](#constructing-a-tree-tensor-network-operator) using the function `sop_operator`, the code takes the matrix representation of all the operators and constructs an operator aware of the topology of the Tree Tensor Network, that can be contracted with the TTN and used in tensor network algorithms. \n",
    "\n",
    "To use the matrix representation of the user-defined operators, the function `sop_operator` takes the operator dictionary as an optional fourth argument. \n",
    "\n",
    "The code below constructs the network topology and the Tree Tensor Network using the code in the section [above](#constructing-a-tree-tensor-network-operator)—both are necessary to initialise the Hamiltonian as a Tree Tensor Network Operator."
   ]
  },
  {
   "cell_type": "code",
   "execution_count": 43,
   "metadata": {},
   "outputs": [
    {
     "name": "stdout",
     "output_type": "stream",
     "text": [
      "ntree : (1(8(2))(8(2)));\n",
      "\n"
     ]
    },
    {
     "data": {
      "image/png": "[encoded data removed]",
      "text/plain": [
       "<Figure size 640x480 with 1 Axes>"
      ]
     },
     "metadata": {},
     "output_type": "display_data"
    }
   ],
   "source": [
    "# Specify parameters of the tree\n",
    "chi = 8\n",
    "dims = [2 for i in range(N)]\n",
    "degree = 2\n",
    "\n",
    "# Create tree topology\n",
    "topo = ntreeBuilder.mlmctdh_tree(dims, degree, chi)\n",
    "print(topo)\n",
    "\n",
    "# Plot tree diagram\n",
    "visualise_tree(topo)\n",
    "plt.show()\n",
    "\n",
    "# Create tree tensor network, initialise to random value\n",
    "A = ttn(topo)\n",
    "A.random()"
   ]
  },
  {
   "cell_type": "markdown",
   "metadata": {},
   "source": [
    "Having created the Tree Tensor Network with the network topology in `topo`, the Tree Tensor Network Operator of the Hamiltonian can be created. The function `sop_operator` takes now four arguments:\n",
    "- the Hamiltonian defined as a combination of site operators.\n",
    "- the Tree Tensor Network (which internally has the information about the network topology in `topo`).\n",
    "- the information about the physical modes and their dimensionality, stored in the variable `sysinf`.\n",
    "- (optional, but needed for user-defined operators) the dictionary of user-defined operators and the modes they act on."
   ]
  },
  {
   "cell_type": "code",
   "execution_count": 44,
   "metadata": {},
   "outputs": [],
   "source": [
    "h = sop_operator(H, A, sysinf, opdict)"
   ]
  },
  {
   "cell_type": "markdown",
   "metadata": {},
   "source": [
    "### Global operators"
   ]
  },
  {
   "cell_type": "markdown",
   "metadata": {},
   "source": [
    "Besides creating TTNOs from Hamiltonians, one may also want to create simple operators to apply to the state, or calculate expectation values and matrix elements. This is much simpler than creating TTNOs [as described above](#constructing-a-tree-tensor-network-operator), and can be done in a single step.\n",
    "\n",
    "Consider the system above, with one generic mode and one two-level system, and the custom operators defined there:"
   ]
  },
  {
   "cell_type": "code",
   "execution_count": 45,
   "metadata": {},
   "outputs": [
    {
     "name": "stdout",
     "output_type": "stream",
     "text": [
      "( generic mode (2) ) ( tls mode (2) ) \n"
     ]
    }
   ],
   "source": [
    "print(sysinf)"
   ]
  },
  {
   "cell_type": "markdown",
   "metadata": {},
   "source": [
    "To create a one-site operator, one only needs the site operator `sOP` object and the information about the modes contained in `sysinf`. \n",
    "\n",
    "The function `site_operator` combines them to create an operator that can be directly used to perform operations with the TTN:"
   ]
  },
  {
   "cell_type": "code",
   "execution_count": 46,
   "metadata": {},
   "outputs": [
    {
     "data": {
      "text/plain": [
       "<pyttn.ttnpp.ops.site_operator_complex at 0x7fc0818e97f0>"
      ]
     },
     "execution_count": 46,
     "metadata": {},
     "output_type": "execute_result"
    }
   ],
   "source": [
    "site_operator(sOP(\"x\", 1), sysinf)"
   ]
  },
  {
   "cell_type": "markdown",
   "metadata": {},
   "source": [
    "If the operator used is user-defined, it is also necessary to include the operator dictionary that stores the definitions of the operators:"
   ]
  },
  {
   "cell_type": "code",
   "execution_count": 47,
   "metadata": {},
   "outputs": [
    {
     "data": {
      "text/plain": [
       "<pyttn.ttnpp.ops.site_operator_complex at 0x7fc0818eaab0>"
      ]
     },
     "execution_count": 47,
     "metadata": {},
     "output_type": "execute_result"
    }
   ],
   "source": [
    "# User-defined operator on generic mode at site 0\n",
    "site_operator(sOP(\"|0><0|\", 0), sysinf, opdict)\n",
    "\n",
    "# User defined operator on two-level system mode at site 1\n",
    "site_operator(sOP(\"Hadamard\", 1), sysinf, opdict)"
   ]
  },
  {
   "cell_type": "markdown",
   "metadata": {},
   "source": [
    "A simple many-body operator can also be created from a site product of operators `sPOP` using the function `product_operator`. Again, when using user-defined operators, it is necessary to include the operator dictionary:"
   ]
  },
  {
   "cell_type": "code",
   "execution_count": 48,
   "metadata": {},
   "outputs": [
    {
     "data": {
      "text/plain": [
       "<pyttn.ttnpp.product_operator_complex at 0x7fc0847f99f0>"
      ]
     },
     "execution_count": 48,
     "metadata": {},
     "output_type": "execute_result"
    }
   ],
   "source": [
    "# Vector of site operators\n",
    "ops = [sOP(\"|1><1|\",0), sOP(\"z\",1), sOP(\"x\",1)]\n",
    "\n",
    "sPOP(ops)\n",
    "\n",
    "# Create product operator from sPOP\n",
    "product_operator(sPOP(ops), sysinf, opdict)"
   ]
  },
  {
   "cell_type": "markdown",
   "metadata": {},
   "source": [
    "One may realise that these operators are created without including `topo`, the information about the topology of the network. This is because `topo` is already contained in the TTN, and thus when the operators are applied to the TTN they automatically take the information about the network to perform the calculation:"
   ]
  },
  {
   "cell_type": "code",
   "execution_count": 49,
   "metadata": {},
   "outputs": [],
   "source": [
    "# Define one-body operator\n",
    "op = site_operator(sOP(\"x\", 1), sysinf)\n",
    "\n",
    "# Apply to TTN defined in previous section\n",
    "B = A.apply_one_body_operator(op)"
   ]
  },
  {
   "cell_type": "markdown",
   "metadata": {},
   "source": [
    "There is a detailed explanation on performing operations with TTNs in the corresponding tutorial."
   ]
  },
  {
   "cell_type": "markdown",
   "metadata": {},
   "source": [
    "### Mode combination"
   ]
  },
  {
   "cell_type": "markdown",
   "metadata": {},
   "source": [
    "Another powerful feature of PyTTN is the possibility to define composite modes, that is, modes that encode more than one degree of freedom per site.\n",
    "\n",
    "This is very useful to study the entanglement structure between subsystems of a system with many degrees of freedom. The modes that interact strongly, forming a subsystem, can be grouped together to define a composite mode. Composite modes can then be addressed globally as a single effective degree of freedom in the TTN.\n",
    "\n",
    "The physical modes can still be addressed individually when defining site operators and Hamiltonians. Essentially, nothing changes between using mode combination and not using it when building the Hamiltonian or any other operator. The advantage is that, by using a reduced number of modes in the tensor network, the entanglement between subsystems (i.e. between the composite modes) is described more efficiently.\n",
    "\n",
    "The example below shows a list of dimensions corresponding to 10 physical modes. They are easily combined into composite modes using nested lists. The modes that are combined have to be adjacent: only modes next to each other in the network can form a composite mode—this is to avoid closed loops in the network topology."
   ]
  },
  {
   "cell_type": "code",
   "execution_count": 50,
   "metadata": {},
   "outputs": [],
   "source": [
    "# Vector with the dimensions of the modes\n",
    "modes = [40, 32, 20, 12, 8, 4, 8, 24, 24, 8]\n",
    "\n",
    "# Grouping adjacent modes into composite modes\n",
    "composite_modes = [[0, 1], [2, 3, 4], [5, 6, 7], [8, 9]]\n",
    "\n",
    "# Number of composite modes\n",
    "Nm = len(composite_modes)"
   ]
  },
  {
   "cell_type": "markdown",
   "metadata": {},
   "source": [
    "When defining the system information, the composite modes are defined as a list of physical modes. In the example below, the physical modes are bosons with a number of energy levels specified in the vector `modes` above. The first composite mode will be a list containing two bosonic modes with dimensions `40` and `32`, respectively, and so on.\n",
    "\n",
    "The dimension of the composite modes is calculated as the product of the dimension of the physical modes, using the function `lhd()`—which stands for _local Hilbert dimension_."
   ]
  },
  {
   "cell_type": "code",
   "execution_count": 51,
   "metadata": {},
   "outputs": [
    {
     "name": "stdout",
     "output_type": "stream",
     "text": [
      "[1280, 1920, 768, 192]\n"
     ]
    }
   ],
   "source": [
    "# Vector to store dimensions of composite modes\n",
    "comp_modes_dims = []\n",
    "\n",
    "# Initialise system information variable\n",
    "sysinf = system_modes(Nm)\n",
    "\n",
    "for ind, comb in enumerate(composite_modes):\n",
    "    # Define each composite mode as a list of adjacent bosonic modes, \n",
    "    # whose dimensions are defined in the vector 'modes'\n",
    "    sysinf[ind] = [boson_mode(modes[x]) for x in comb]\n",
    "\n",
    "    # Store the Local Hilbert Dimension (LHD) of the composite modes\n",
    "    comp_modes_dims.append(sysinf[ind].lhd())\n",
    "\n",
    "# Print dimensions of composite modes\n",
    "print(comp_modes_dims)\n"
   ]
  },
  {
   "cell_type": "markdown",
   "metadata": {},
   "source": [
    "The topology of the network is adapted to contain only the composite modes. In the example below, note that the resulting network only has 4 leaves instead of the 10 that would correspond to the physical degrees of freedom. In systems with a large number of degrees of freedom, mode combination can mean a drastic reduction in the size of the network."
   ]
  },
  {
   "cell_type": "code",
   "execution_count": 52,
   "metadata": {},
   "outputs": [
    {
     "data": {
      "image/png": "[encoded data removed]",
      "text/plain": [
       "<Figure size 640x480 with 1 Axes>"
      ]
     },
     "metadata": {},
     "output_type": "display_data"
    }
   ],
   "source": [
    "# Seed  of the tree diagram\n",
    "topo = ntree(\"(1(2(4)(4))(2(4)(4)))\")\n",
    "\n",
    "# Insert a new node, with the dimension of a composite mode,\n",
    "# at the end of each basis node\n",
    "topo()[0][0].insert(comp_modes_dims[0])\n",
    "topo()[0][1].insert(comp_modes_dims[1])\n",
    "topo()[1][0].insert(comp_modes_dims[2])\n",
    "topo()[1][1].insert(comp_modes_dims[3])\n",
    "\n",
    "# Plot tree diagram\n",
    "visualise_tree(topo)\n",
    "plt.show()"
   ]
  },
  {
   "cell_type": "markdown",
   "metadata": {},
   "source": [
    "The physical modes are still addressed individually when creating Hamiltonians and other operators. \n",
    "\n",
    "As an example, let's set up a Hamiltonian for the 10 bosonic modes, with couplings between those modes that form each composite mode: \n",
    "\n",
    "$\\hat{H} = \\sum_j^N \\varepsilon_j \\hat{n}_j + \\delta_0 \\left( \\hat{n}_0 \\hat{n}_1 + \\hat{a}^{\\dagger}_0 \\hat{a}^{}_1 \\right) + \\delta_1 \\left( \\hat{n}_2 \\hat{n}_3 \\hat{n}_4 + \\hat{a}^{}_2 \\hat{a}^{\\dagger}_3 \\hat{a}^{}_4 \\right) + \\delta_2 \\left( \\hat{n}_5 \\hat{n}_6 \\hat{n}_7 + \\hat{a}^{}_5 \\hat{a}^{\\dagger}_6 \\hat{a}^{}_7 \\right) + \\delta_3 \\left( \\hat{n}_8 \\hat{n}_9 + \\hat{a}^{\\dagger}_8 \\hat{a}^{}_9 \\right)$.\n",
    "\n",
    "We will initialise the coeficients $\\varepsilon_j$ and $\\delta_j$ randomly:"
   ]
  },
  {
   "cell_type": "code",
   "execution_count": 53,
   "metadata": {},
   "outputs": [],
   "source": [
    "# Number of physical modes\n",
    "N = len(modes)\n",
    "\n",
    "# Parameters of the Hamiltonian\n",
    "eps = [np.random.randn() for _ in range(N)]\n",
    "delta = [np.random.randn() for _ in range(Nm)]"
   ]
  },
  {
   "cell_type": "markdown",
   "metadata": {},
   "source": [
    "And set up the Hamiltonian:"
   ]
  },
  {
   "cell_type": "code",
   "execution_count": 54,
   "metadata": {},
   "outputs": [
    {
     "name": "stdout",
     "output_type": "stream",
     "text": [
      "((0,0) + 0 functions)\n",
      "+((1.32766,0) + 0 functions) adag_8 a_9\n",
      "+((1.00557,0) + 0 functions) a_2 adag_3 a_4\n",
      "((-0.771976,0) + 0 functions) adag_0 a_1\n",
      "+((1.32766,0) + 0 functions) n_8 n_9\n",
      "((-1.58058,0) + 0 functions) n_0\n",
      "((-0.302206,0) + 0 functions) n_1\n",
      "((-0.771976,0) + 0 functions) n_0 n_1\n",
      "+((1.21947,0) + 0 functions) n_2\n",
      "((-1.00411,0) + 0 functions) a_5 adag_6 a_7\n",
      "+((3.43471,0) + 0 functions) n_3\n",
      "((-1.86639,0) + 0 functions) n_6\n",
      "((-0.381702,0) + 0 functions) n_4\n",
      "+((1.00557,0) + 0 functions) n_2 n_3 n_4\n",
      "+((1.25423,0) + 0 functions) n_5\n",
      "((-0.753341,0) + 0 functions) n_7\n",
      "+((0.684448,0) + 0 functions) n_8\n",
      "+((1.53786,0) + 0 functions) n_9\n",
      "((-1.00411,0) + 0 functions) n_5 n_6 n_7\n",
      "\n"
     ]
    }
   ],
   "source": [
    "# Initialise H as SOP object (\"Sum of OPerators\")\n",
    "H = SOP(N)\n",
    "\n",
    "# Add terms of Hamiltonian\n",
    "for i in range(N):\n",
    "    H += eps[i]*sOP(\"n\",i)\n",
    "\n",
    "for i in range(Nm):\n",
    "    H += delta[i]*sPOP([sOP(\"n\",index) for index in composite_modes[i]])\n",
    "H += delta[0]*sOP(\"adag\",0)*sOP(\"a\",1)\n",
    "H += delta[1]*sOP(\"a\",2)*sOP(\"adag\",3)*sOP(\"a\",4)\n",
    "H += delta[2]*sOP(\"a\",5)*sOP(\"adag\",6)*sOP(\"a\",7)\n",
    "H += delta[3]*sOP(\"adag\",8)*sOP(\"a\",9)\n",
    "\n",
    "# Print Hamiltonian as string of operators\n",
    "print(H)"
   ]
  },
  {
   "cell_type": "markdown",
   "metadata": {},
   "source": [
    "With this, the final step is to create the TTN and initialise the Tree Tensor Network Operator using the function `sop_operator`. The TTNO is aware of the topology of the network, and the nature of the composite modes."
   ]
  },
  {
   "cell_type": "code",
   "execution_count": 55,
   "metadata": {},
   "outputs": [],
   "source": [
    "# Create tree tensor network, initialise to random value\n",
    "A = ttn(topo)\n",
    "A.random()\n",
    "\n",
    "# Initialise Hamiltonian as a TTNO (Tree Tensor Network Operator)\n",
    "h = sop_operator(H, A, sysinf)"
   ]
  }
 ],
 "metadata": {
  "kernelspec": {
   "display_name": ".venv",
   "language": "python",
   "name": "python3"
  },
  "language_info": {
   "codemirror_mode": {
    "name": "ipython",
    "version": 3
   },
   "file_extension": ".py",
   "mimetype": "text/x-python",
   "name": "python",
   "nbconvert_exporter": "python",
   "pygments_lexer": "ipython3",
   "version": "3.12.3"
  }
 },
 "nbformat": 4,
 "nbformat_minor": 2
}
