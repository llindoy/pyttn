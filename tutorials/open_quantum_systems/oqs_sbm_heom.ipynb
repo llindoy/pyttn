{
 "cells": [
  {
   "cell_type": "markdown",
   "metadata": {},
   "source": [
    "### Zero Temperature Spin-Boson Model Dynamics using the Hierarchical Equations of Motion"
   ]
  },
  {
   "cell_type": "markdown",
   "metadata": {},
   "source": [
    "We will now demonstrate how to use pyTTN to perform OQS dynamics for a spin-boson model using the non-unitary dynamics methods, namely the Hierarchical Equations of Motion (HEOM) and Quasi-Lindblad Pseudomode (pseudomode) methods.  In contrast to the [Star Hamiltonian](#dynamics-using-the-discretised-star-hamiltonian) and [TEDOPA](#dynamics-using-the-tedopa-method) examples, with these approaches we work with density matrices and pseudoboson modes that have in general complex frequency and couple to the system with non-hermitian system-bath coupling terms.    \n",
    "\n",
    "The two approaches, HEOM and pseudomode, are up to a similarity transformation equivalent, and consequently the process for setting up the two approaches is incredibly similar.  Within pyTTN, this process is simplified through the use of the `pyttn.oqs.ExpFitBosonicBath` class, which similar to the `pyttn.oqs.DiscreteBosonicBath` provides a set of functions allowing or easy set up of non-unitary equation of motion based dynamics methods that make use of a sum-of-exponential decomposition for the bath correlation function. \n",
    "\n",
    "In this example, we demonstrate how to perform HEOM calculations for the spin-boson model considered above using pyTTN.  This example can be modified to perform pseudomode dynamics simply by replacing `method=\"heom\"` with `method=\"pseudomode\"`. "
   ]
  },
  {
   "cell_type": "markdown",
   "metadata": {},
   "source": [
    "##### Contents"
   ]
  },
  {
   "cell_type": "markdown",
   "metadata": {},
   "source": [
    "1. [Import The Library](#importing-the-library)\n",
    "\n",
    "2. [Setting up the Expfit Bosonic Bath](#setting-up-the-expfit-bosonic-bath)\n",
    "\n",
    "3. [Setting up the System Information](#setting-up-the-system-information)\n",
    "\n",
    "4. [Building the Generator](#building-the-generator)\n",
    "\n",
    "5. [Building the ADOs Tensor Network](#building-the-ados-tensor-network)\n",
    "\n",
    "6. [Preparing for Time Evolution](#preparing-for-time-evolution)\n",
    "\n",
    "7. [Performing the Time Evolution](#performing-the-time-evolution)"
   ]
  },
  {
   "cell_type": "markdown",
   "metadata": {},
   "source": [
    "##### Importing the Library\n",
    "\n",
    "We start by importing the required modules:"
   ]
  },
  {
   "cell_type": "code",
   "execution_count": 1,
   "metadata": {},
   "outputs": [],
   "source": [
    "import os\n",
    "os.environ['OMP_NUM_THREADS']='1'\n",
    "\n",
    "import sys\n",
    "sys.path.append(\"../\")\n",
    "\n",
    "import numpy as np\n",
    "import matplotlib.pyplot as plt \n",
    "%matplotlib inline\n",
    "\n",
    "import pyttn\n",
    "from pyttn import oqs\n",
    "from pyttn.utils import visualise_tree"
   ]
  },
  {
   "cell_type": "markdown",
   "metadata": {},
   "source": [
    "##### Setting up the Expfit Bosonic Bath\n",
    "\n",
    "Next we define the spectral density of the bath and set up the `pyttn.oqs.BosonicBath` and `pyttn.oqs.ExpFitBosonicBath` objects.  In this example we have made use of the ESPRIT Fitting approach in order to construct a sum of exponential decomposition of the bath correlation function. "
   ]
  },
  {
   "cell_type": "code",
   "execution_count": 2,
   "metadata": {},
   "outputs": [],
   "source": [
    "#set the method for the pyttn.oqs.ExpFitBosonicBath object\n",
    "method = \"heom\"\n",
    "\n",
    "#number of modes in decomposition\n",
    "K = 6\n",
    "\n",
    "#set up the time evolution information\n",
    "dt = 0.05\n",
    "tmax = 15\n",
    "nstep = int(tmax/dt)+1\n",
    "t = np.arange(nstep+1)*dt\n",
    "\n",
    "#set up the bath spectral density\n",
    "alpha = 1.0\n",
    "s = 1\n",
    "wc = 5    \n",
    "\n",
    "#setup the function for evaluating the exponential cutoff spectral density\n",
    "def J(w):\n",
    "    return np.abs(np.pi/2*alpha*wc*np.power(w/wc, s)*np.exp(-np.abs(w/wc)))*np.where(w > 0, 1.0, -1.0)\n",
    "\n",
    "#set up the open quantum system bath object\n",
    "bath = oqs.BosonicBath(J, beta=None)\n",
    "dk, zk = bath.expfit(oqs.ESPRITDecomposition(K=K, tmax=nstep*dt, Nt = nstep))\n",
    "\n",
    "expbath = oqs.ExpFitBosonicBath(dk, zk)"
   ]
  },
  {
   "cell_type": "markdown",
   "metadata": {},
   "source": [
    "##### Setting up the System Information\n",
    "\n",
    "Now we get the system information from the `pyttn.oqs.ExpFitBosonicBath` object, optionally applying mode combination to combine primitive bosonic modes into composite modes.  In constrast to the unitary Dynamics based approaches which make use of wavefunction descriptions, here we are working with a hierarchy of system density operators for representing the problem.  In order to construct the required density operator, we work with Liouville space vectors, and need to construct a system object consisting of two two-level-systems (to account for bra and ket variables states)."
   ]
  },
  {
   "cell_type": "code",
   "execution_count": null,
   "metadata": {},
   "outputs": [
    {
     "ename": "NameError",
     "evalue": "name 'use_mode_combination' is not defined",
     "output_type": "error",
     "traceback": [
      "\u001b[0;31m---------------------------------------------------------------------------\u001b[0m",
      "\u001b[0;31mNameError\u001b[0m                                 Traceback (most recent call last)",
      "Cell \u001b[0;32mIn[3], line 10\u001b[0m\n\u001b[1;32m      7\u001b[0m sysinf \u001b[38;5;241m=\u001b[39m pyttn\u001b[38;5;241m.\u001b[39msystem_modes(\u001b[38;5;241m1\u001b[39m)\n\u001b[1;32m      8\u001b[0m sysinf[\u001b[38;5;241m0\u001b[39m] \u001b[38;5;241m=\u001b[39m [pyttn\u001b[38;5;241m.\u001b[39mtls_mode(), pyttn\u001b[38;5;241m.\u001b[39mtls_mode()]\n\u001b[0;32m---> 10\u001b[0m \u001b[38;5;28;01mif\u001b[39;00m \u001b[43muse_mode_combination\u001b[49m:\n\u001b[1;32m     11\u001b[0m     mode_comb \u001b[38;5;241m=\u001b[39m pyttn\u001b[38;5;241m.\u001b[39mutils\u001b[38;5;241m.\u001b[39mModeCombination(nbmax, nhilbmax)\n\u001b[1;32m     12\u001b[0m     bsys \u001b[38;5;241m=\u001b[39m expbath\u001b[38;5;241m.\u001b[39msystem_information(mode_comb)\n",
      "\u001b[0;31mNameError\u001b[0m: name 'use_mode_combination' is not defined"
     ]
    }
   ],
   "source": [
    "L = 30\n",
    "Lmin = 4\n",
    "\n",
    "expbath.truncate_modes(pyttn.utils.EnergyTruncation(10*wc, Lmax=L, Lmin=Lmin))\n",
    "\n",
    "#setup the system information object\n",
    "sysinf = pyttn.system_modes(1)\n",
    "sysinf[0] = [pyttn.tls_mode(), pyttn.tls_mode()]\n",
    "\n",
    "use_mode_combination = True\n",
    "if use_mode_combination:\n",
    "    nbmax=4\n",
    "    nhilbmax=1000\n",
    "    mode_comb = pyttn.utils.ModeCombination(nbmax, nhilbmax)\n",
    "    bsys = expbath.system_information(mode_comb)\n",
    "else:\n",
    "    bsys = expbath.system_information()\n",
    "\n",
    "\n",
    "#construct the system information object by combining the system information with the bath information\n",
    "sysinf = pyttn.combine_systems(sysinf, bsys)"
   ]
  },
  {
   "cell_type": "markdown",
   "metadata": {},
   "source": [
    "##### Building the Generator\n",
    "\n",
    "We first start by constructing the system Liouvillian object, following which we add all terms acting on bath degrees of freedom.\n",
    "\n",
    "In order to simplify construction of the HEOM Generator, the ExpFit bath object contains the `add_system_bath_generator` and `system_bath_generator` functions that, respectively, append to the system-bath Generator terms to an existing `SOP` object or return a new `sSOP` object containing all system-bath Hamiltonian terms.  "
   ]
  },
  {
   "cell_type": "code",
   "execution_count": null,
   "metadata": {},
   "outputs": [],
   "source": [
    "#set up parameters for the system\n",
    "delta = 0.5\n",
    "eps = 0\n",
    "\n",
    "#set up the total Hamiltonian\n",
    "H = pyttn.SOP(sysinf.nprimitive_modes())\n",
    "\n",
    "#add on the system liouvillian - here we are using that sz^T = sz and \"sx^T=sx\"\n",
    "H += (eps*pyttn.sOP(\"sz\", 0) + delta*pyttn.sOP(\"sx\", 0)) - (eps*pyttn.sOP(\"sz\", 1)+delta*pyttn.sOP(\"sx\", 1))\n",
    "H = expbath.add_system_bath_generator(H, [pyttn.sOP(\"sz\", 0), pyttn.sOP(\"sz\", 1)], method=method)"
   ]
  },
  {
   "cell_type": "markdown",
   "metadata": {},
   "source": [
    "Both the `add_system_bath_generator` and `system_bath_generator` functions can take a set of user defined indices corresponding to the bath modes (passed as the `binds` argument).  If this argument is not set, the function will assume that all bath modes are in a contiguous block starting at `bskip` which defaults to 1.  \n",
    "\n",
    "Note: Care must be taken when defining the `binds` argument in conjunction with the use of mode_combination.  In the current release, pyTTN expects all composite modes to be formed of contiguous `primitive_modes`."
   ]
  },
  {
   "cell_type": "markdown",
   "metadata": {},
   "source": [
    "\n",
    "##### Building the ADOs Tensor Network\n",
    "\n",
    "We are now in a position to prepare the ADO tensor tree topology.  Here, again, the `pyttn.oqs.ExpFitBosonicBath` class can help through the `add_bath_tree` function, which takes a node in an existing tree used to represent the system degrees of freedom and attaches either an MPS or balanced N-ary tree to represent the degrees of freedom handled by the discbath object.  \n",
    "\n",
    "To build the tree, we first define the tree structure for system degrees of freedom, here noting that we have two two-level-system degrees of freedom for the system which has a dimension of 4, then attach the bath tree in the correct position."
   ]
  },
  {
   "cell_type": "code",
   "execution_count": null,
   "metadata": {},
   "outputs": [],
   "source": [
    "#construct the topology and capacity trees used for constructing \n",
    "chi0 = 8\n",
    "chi = 32\n",
    "degree = 2\n",
    "\n",
    "topo = pyttn.ntree(\"(1(4(4)))\")\n",
    "capacity = pyttn.ntree(\"(1(4(4)))\")\n",
    "linds = expbath.add_bath_tree(topo(), degree, chi0, chi0)\n",
    "expbath.add_bath_tree(capacity(), degree, chi, chi)\n"
   ]
  },
  {
   "cell_type": "markdown",
   "metadata": {},
   "source": [
    "Note: For the case we are considering here this inserts the bath nodes in such a way that they agree with the ordering in the Generator.  In general, the ordering of modes in the tree structure is determined by their traversal order using a pre-order depth-first search traversal.  For more complex use cases, it may become necessary to set the `system_modes.mode_indices` variable of the `sysinf` object that specifies how composite mode indices in the Generator should be mapped to indices in the tree structure.\n",
    "\n",
    "Now that we have constructed the tree topology, we can build the actually TTN ADO tensor.  Within the HEOM approach, the initial configuration corresponds to a direct product of an initial system density operator, $\\hat{\\rho}_S $, with a thermal bath state:\n",
    "\n",
    "$$ \\hat{\\rho} = \\hat{\\rho}_S \\bigotimes \\frac{\\mathrm{exp}(-\\beta \\hat{H}_B)}{\\mathrm{Tr}_B\\left(\\mathrm{exp}(-\\beta \\hat{H}_B)\\right)} $$\n",
    "\n",
    "This corresponds to an ADO tensor, in which the auxiliary boson modes are in the vacuum state, and the system vector is obtained by flattening the initial density operator matrix.  Here we consider a state where the system is initially in the $\\ket{0}\\bra{0}$ state.  As such, creation of the initial ADOs tensor is straightfoward"
   ]
  },
  {
   "cell_type": "code",
   "execution_count": null,
   "metadata": {},
   "outputs": [],
   "source": [
    "\n",
    "A = pyttn.ttn(topo, capacity, dtype=np.complex128)\n",
    "state = [0] + [0 for i in range(len(bsys))]\n",
    "A.set_state(state)"
   ]
  },
  {
   "cell_type": "markdown",
   "metadata": {},
   "source": [
    "\n",
    "##### Preparing for Time Evolution\n",
    "\n",
    "Now the final steps before preparing for the time-evolution are to:\n",
    "\n",
    "1. construct the `sop_operator` representation.  Here we will use the hierarchical SOP representation of the Generator as it leads to considerable performance improvements compared to the SOP representation.\n",
    "2. setup any observables of interest for the system.  Here, we will look at the magnetisation of the spin throughout the dynamics process, and so will set up a site_operator object to allow for evaluation of this quantity.\n",
    "3. setup the `matrix_element` object used to evaluate expectation values.\n",
    "5. create the `tdvp` object for time evolution.  Here we will use the adaptive one-site algorithm for time-evolution.\n",
    "\n",
    "Within the HEOM approach, the evaluation of expectation values is changed significantly from the unitary dynamics case.  In particular, given an ADO state, the expectation value of a system operator can be obtained as\n",
    "\n",
    "$$ \\left\\langle \\hat{A} \\right\\rangle = \\mathrm{Tr}\\left[\\hat{A}^\\dagger \\hat{\\rho}_S\\right] $$\n",
    "\n",
    "In order to simplify the evaluation of this quantity, we define an additional TTN `trace_ttn` that has bond-dimension $1$ everywhere and is given as the direct product of the identity operator acting on the system degrees of freedom and the vacuum state of the auxiliary boson modes."
   ]
  },
  {
   "cell_type": "code",
   "execution_count": null,
   "metadata": {},
   "outputs": [],
   "source": [
    "h = pyttn.sop_operator(H, A, sysinf)\n",
    "\n",
    "\n",
    "#set up ttns storing the observable to be measured.  Here these are just system observables\n",
    "#so we form a tree with the same topology as A but with all bath bond dimensions set to 1\n",
    "obstree = pyttn.ntree(\"(1(4(4)))\")\n",
    "expbath.add_bath_tree(obstree(), degree, 1, 1)\n",
    "trace_ttn = pyttn.ttn(obstree, dtype=np.complex128)\n",
    "trace_ttn.set_product([np.identity(2).flatten()] + expbath.identity_product_state(method=method))\n",
    "\n",
    "szop = pyttn.site_operator(pyttn.sOP(\"sz\", 0), sysinf)\n",
    "mel = pyttn.matrix_element(A)\n",
    "\n",
    "#set up buffers to store the observable\n",
    "Sz = np.zeros(nstep+1)\n",
    "\n",
    "#set up the tdvp object\n",
    "sweep = pyttn.tdvp(A, h, krylov_dim = 12, expansion='subspace', subspace_neigs = 4, subspace_krylov_dim = 8)\n",
    "sweep.spawning_threshold = 1e-10\n",
    "sweep.minimum_unoccupied=0\n",
    "\n",
    "sweep.dt = dt\n",
    "sweep.coefficient = -1.0j"
   ]
  },
  {
   "cell_type": "markdown",
   "metadata": {},
   "source": [
    "##### Performing the Time Evolution\n",
    "\n",
    "Now that everything is set up we are in a position where we can perform each of the time-evolution steps and measure the observables of interest. \n",
    "\n",
    " Here we make use of a little trick for improving the accuracy of the time-evolution at short time. For systems initially in the product state, the ttn wavefunction represents a rather constrained manifold, and the dynamics can depend strongly on the choice of initially unoccupied basis functions.  To alleviate this, it can be useful to perform small steps initially in order to allow for these unoccupied functions to evolve partially under the Hamiltonian of the system before too much damage has been done to the wavefunction.  As shown in Ref., this can dramatically improve the accuracy of the TDVP calculations with only very modest additional computational cost."
   ]
  },
  {
   "cell_type": "code",
   "execution_count": null,
   "metadata": {},
   "outputs": [
    {
     "name": "stdout",
     "output_type": "stream",
     "text": [
      "                                                       \n"
     ]
    }
   ],
   "source": [
    "Sz[0] = np.real(mel(szop, A, trace_ttn))\n",
    "\n",
    "#perform the first timestep using a logarithmic discretisation of time over this period.  \n",
    "#This can be useful to allow for suitable adaptation of weakly occupied single particle \n",
    "#functions through the initial time point.\n",
    "tp = 0\n",
    "ts = np.logspace(np.log10(dt*1e-5), np.log10(dt), 5)\n",
    "for i in range(5):\n",
    "    dti = ts[i]-tp\n",
    "    sweep.dt = dti\n",
    "    sweep.step(A, h)\n",
    "    tp = ts[i]\n",
    "\n",
    "i=1\n",
    "#set the values after the first timestep\n",
    "Sz[i] =np.real(mel(szop, A, trace_ttn))\n",
    "sweep.dt = dt\n",
    "\n",
    "#now perform standard time stepping\n",
    "for i in range(1,nstep):\n",
    "    sweep.step(A, h)\n",
    "    Sz[i+1] = np.real(mel(szop, A, trace_ttn))\n",
    "    print(\"step: %d of %d.  Chimax: %d\"%(i+1, nstep, A.maximum_bond_dimension()), end='                   \\r')\n",
    "print('                                                       \\r')"
   ]
  },
  {
   "cell_type": "markdown",
   "metadata": {},
   "source": [
    "And now that we have finished the time evolution we can plot the resultant magnetisation."
   ]
  },
  {
   "cell_type": "code",
   "execution_count": null,
   "metadata": {},
   "outputs": [
    {
     "data": {
      "image/png": "[encoded data removed]",
      "text/plain": [
       "<Figure size 640x480 with 1 Axes>"
      ]
     },
     "metadata": {},
     "output_type": "display_data"
    }
   ],
   "source": [
    "plt.plot(t, Sz)\n",
    "plt.show()"
   ]
  },
  {
   "cell_type": "markdown",
   "metadata": {},
   "source": [
    "And we can also do things like visualise how the bond dimension has expanded throughout the tensor network."
   ]
  },
  {
   "cell_type": "code",
   "execution_count": null,
   "metadata": {},
   "outputs": [
    {
     "data": {
      "image/png": "[encoded data removed]",
      "text/plain": [
       "<Figure size 640x480 with 1 Axes>"
      ]
     },
     "metadata": {},
     "output_type": "display_data"
    }
   ],
   "source": [
    "visualise_tree(A, node_size=1, bond_prop=\"bond dimension\")\n",
    "plt.show()"
   ]
  },
  {
   "cell_type": "code",
   "execution_count": null,
   "metadata": {},
   "outputs": [
    {
     "name": "stdout",
     "output_type": "stream",
     "text": [
      "[4, 900, 900, 256, 36, 16, 16]\n",
      "7644119040000\n"
     ]
    }
   ],
   "source": [
    "print(sysinf.mode_dimensions())\n",
    "print(np.prod(np.array(sysinf.mode_dimensions())))"
   ]
  }
 ],
 "metadata": {
  "kernelspec": {
   "display_name": ".venv",
   "language": "python",
   "name": "python3"
  },
  "language_info": {
   "codemirror_mode": {
    "name": "ipython",
    "version": 3
   },
   "file_extension": ".py",
   "mimetype": "text/x-python",
   "name": "python",
   "nbconvert_exporter": "python",
   "pygments_lexer": "ipython3",
   "version": "3.12.3"
  }
 },
 "nbformat": 4,
 "nbformat_minor": 2
}
